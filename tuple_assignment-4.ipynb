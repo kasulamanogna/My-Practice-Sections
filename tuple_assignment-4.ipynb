{
 "cells": [
  {
   "cell_type": "markdown",
   "id": "6cade624",
   "metadata": {},
   "source": [
    "# Module 3: Data Structures Assignments\n",
    "## Lesson 3.2: Tuples\n",
    "### Assignment 1: Creating and Accessing Tuples\n",
    "\n",
    "Create a tuple with the first 10 positive integers. Print the tuple.\n",
    "\n",
    "### Assignment 2: Accessing Tuple Elements\n",
    "\n",
    "Print the first, middle, and last elements of the tuple created in Assignment 1.\n",
    "\n",
    "### Assignment 3: Tuple Slicing\n",
    "\n",
    "Print the first three elements, the last three elements, and the elements from index 2 to 5 of the tuple created in Assignment 1.\n",
    "\n",
    "### Assignment 4: Nested Tuples\n",
    "\n",
    "Create a nested tuple representing a 3x3 matrix and print the matrix. Access and print the element at the second row and third column.\n",
    "\n",
    "### Assignment 5: Tuple Concatenation\n",
    "\n",
    "Concatenate two tuples: (1, 2, 3) and (4, 5, 6). Print the resulting tuple.\n",
    "\n",
    "### Assignment 6: Tuple Methods\n",
    "\n",
    "Create a tuple with duplicate elements and count the occurrences of an element. Find the index of the first occurrence of an element in the tuple.\n",
    "\n",
    "### Assignment 7: Unpacking Tuples\n",
    "\n",
    "Create a tuple with 5 elements and unpack it into 5 variables. Print the variables.\n",
    "\n",
    "### Assignment 8: Tuple Conversion\n",
    "\n",
    "Convert a list of the first 5 positive integers to a tuple. Print the tuple.\n",
    "\n",
    "### Assignment 9: Tuple of Tuples\n",
    "\n",
    "Create a tuple containing 3 tuples, each with 3 elements. Print the tuple of tuples.\n",
    "\n",
    "### Assignment 10: Tuple and List\n",
    "\n",
    "Create a tuple with the first 5 positive integers. Convert it to a list, append the number 6, and convert it back to a tuple. Print the resulting tuple.\n",
    "\n",
    "### Assignment 11: Tuple and String\n",
    "\n",
    "Create a tuple with the characters of a string. Join the tuple elements into a single string. Print the string.\n",
    "\n",
    "### Assignment 12: Tuple and Dictionary\n",
    "\n",
    "Create a dictionary with tuple keys and integer values. Print the dictionary.\n",
    "\n",
    "### Assignment 13: Nested Tuple Iteration\n",
    "\n",
    "Create a nested tuple and iterate over the elements, printing each element.\n",
    "\n",
    "### Assignment 14: Tuple and Set\n",
    "\n",
    "Create a tuple with duplicate elements. Convert it to a set to remove duplicates and print the resulting set.\n",
    "\n",
    "### Assignment 15: Tuple Functions\n",
    "\n",
    "Write functions that take a tuple and return the minimum, maximum, and sum of the elements. Print the results for a sample tuple."
   ]
  },
  {
   "cell_type": "code",
   "execution_count": 2,
   "metadata": {},
   "outputs": [
    {
     "name": "stdout",
     "output_type": "stream",
     "text": [
      "(1, 2, 3, 4, 5, 6, 7, 8, 9, 10)\n"
     ]
    }
   ],
   "source": [
    "# Assignment 1\n",
    "tpl = tuple(range(1, 11))\n",
    "print(tpl)"
   ]
  },
  {
   "cell_type": "code",
   "execution_count": 11,
   "id": "506ee9ed",
   "metadata": {},
   "outputs": [
    {
     "name": "stdout",
     "output_type": "stream",
     "text": [
      "First element: 1\n",
      "Middle element: 6\n",
      "Last element: 10\n"
     ]
    }
   ],
   "source": [
    "# Assignment 2\n",
    "\n",
    "print(f\"First element: {tpl[0]}\")\n",
    "print(f\"Middle element: {tpl[len(tpl) // 2]}\")\n",
    "print(f\"Last element: {tpl[-1]}\")"
   ]
  },
  {
   "cell_type": "code",
   "execution_count": 16,
   "id": "70324134",
   "metadata": {},
   "outputs": [
    {
     "name": "stdout",
     "output_type": "stream",
     "text": [
      "First 3 element: (1, 2, 3)\n",
      "Last 3 element: (8, 9, 10)\n",
      "First element: (3, 4, 5, 6)\n"
     ]
    }
   ],
   "source": [
    "# Assignment 3\n",
    "\n",
    "print(f\"First 3 element: {tpl[:3]}\")\n",
    "print(f\"Last 3 element: {tpl[7:]}\")\n",
    "print(f\"First element: {tpl[2:6]}\")"
   ]
  },
  {
   "cell_type": "code",
   "execution_count": 19,
   "id": "e46a1225",
   "metadata": {},
   "outputs": [
    {
     "name": "stdout",
     "output_type": "stream",
     "text": [
      "((1, 2, 3), (4, 5, 6), (7, 8, 9))\n",
      "6\n"
     ]
    }
   ],
   "source": [
    "# Assignment 4\n",
    "\n",
    "nested_tpl = (\n",
    "    (1, 2, 3),\n",
    "    (4, 5, 6),\n",
    "    (7, 8, 9)\n",
    ")\n",
    "\n",
    "print(nested_tpl)\n",
    "print(nested_tpl[1][2])"
   ]
  },
  {
   "cell_type": "code",
   "execution_count": 5,
   "id": "3c198780",
   "metadata": {},
   "outputs": [
    {
     "name": "stdout",
     "output_type": "stream",
     "text": [
      "(1, 2, 3, 4, 5, 6)\n"
     ]
    }
   ],
   "source": [
    "# Assignment 5\n",
    "tpl1 = (1,2,3)\n",
    "tpl2 = (4,5,6)\n",
    "\n",
    "result = tpl1 + tpl2\n",
    "print(result)\n"
   ]
  },
  {
   "cell_type": "code",
   "execution_count": 19,
   "id": "867d4189",
   "metadata": {},
   "outputs": [
    {
     "name": "stdout",
     "output_type": "stream",
     "text": [
      "First occurance of 7 is: 4\n",
      "index of first occurance of 9 is: 14\n",
      "(1, 2, 2, 3, 4, 5, 5, 5, 5, 6, 7, 7, 7, 7, 9, 6)\n"
     ]
    }
   ],
   "source": [
    "# Assignments 6\n",
    "\n",
    "tpl = (1,2,2,3,4,5,5,5,5,6,7,7,7,7,9,6)\n",
    "print(f\"First occurance of 7 is: {tpl.count(7)}\")\n",
    "print(f\"index of first occurance of 9 is: {tpl.index(9)}\")\n",
    "print(tpl)\n",
    "\n"
   ]
  },
  {
   "cell_type": "code",
   "execution_count": 22,
   "id": "c7027cd5",
   "metadata": {},
   "outputs": [
    {
     "name": "stdout",
     "output_type": "stream",
     "text": [
      "1 2 3 4 5\n"
     ]
    }
   ],
   "source": [
    "# Assignment 7\n",
    "tpl = (1, 2, 3, 4, 5)\n",
    "a, b, c, d, e = tpl\n",
    "print(a, b, c, d, e)"
   ]
  },
  {
   "cell_type": "code",
   "execution_count": 24,
   "id": "a00802b3",
   "metadata": {},
   "outputs": [
    {
     "name": "stdout",
     "output_type": "stream",
     "text": [
      "(1, 2, 3, 4, 5)\n"
     ]
    }
   ],
   "source": [
    "# Assignment 8\n",
    "lst = [1, 2, 3, 4, 5]\n",
    "convert = tuple(lst)\n",
    "print(convert)"
   ]
  },
  {
   "cell_type": "code",
   "execution_count": 30,
   "id": "c0321e8e",
   "metadata": {},
   "outputs": [
    {
     "name": "stdout",
     "output_type": "stream",
     "text": [
      "((1, 2, 3), (4, 5, 6), (7, 8, 9))\n"
     ]
    }
   ],
   "source": [
    "# Assignment 9\n",
    "\n",
    "tpl_of_tpl = (\n",
    "    (1, 2, 3),\n",
    "    (4, 5, 6),\n",
    "    (7, 8, 9)\n",
    "\n",
    "    )\n",
    "print(tpl_of_tpl)"
   ]
  },
  {
   "cell_type": "code",
   "execution_count": 43,
   "id": "cfaf5a3c",
   "metadata": {},
   "outputs": [
    {
     "name": "stdout",
     "output_type": "stream",
     "text": [
      "[1, 2, 3, 4, 5]\n",
      "(1, 2, 3, 4, 5, 6)\n"
     ]
    }
   ],
   "source": [
    "# Assignment 10\n",
    "\n",
    "tpl = (1, 2, 3, 4, 5)\n",
    "convert_to_list = list(tpl)\n",
    "print(convert_to_list)\n",
    "convert_to_list.append(6)\n",
    "convert_to_tpl = tuple(convert_to_list)\n",
    "print(convert_to_tpl)\n"
   ]
  },
  {
   "cell_type": "code",
   "execution_count": 45,
   "id": "ca69ea7e",
   "metadata": {},
   "outputs": [
    {
     "name": "stdout",
     "output_type": "stream",
     "text": [
      "('M', 'a', 'n', 'o', 'g', 'n', 'a')\n",
      "Manogna\n"
     ]
    }
   ],
   "source": [
    "# Assignment 11\n",
    "\n",
    "string = \"Manogna\"\n",
    "convert_to_tpl = tuple(string)\n",
    "print(convert_to_tpl)\n",
    "joined_string = ''.join(convert_to_tpl)\n",
    "print(joined_string)"
   ]
  },
  {
   "cell_type": "code",
   "execution_count": 46,
   "id": "6fd67dbf",
   "metadata": {},
   "outputs": [
    {
     "name": "stdout",
     "output_type": "stream",
     "text": [
      "{(1, 2): 3, (4, 5): 4, (6, 7): 8}\n"
     ]
    }
   ],
   "source": [
    "# Assigment 12\n",
    "\n",
    "tpl_dict = {\n",
    "    (1, 2): 3,\n",
    "    (4, 5): 4,\n",
    "    (6, 7): 8\n",
    "}\n",
    "print(tpl_dict)\n"
   ]
  },
  {
   "cell_type": "code",
   "execution_count": 54,
   "id": "82384cb6",
   "metadata": {},
   "outputs": [
    {
     "name": "stdout",
     "output_type": "stream",
     "text": [
      "((1, 2, 3), (4, 5, 6), (7, 8, 9))\n",
      "1\n",
      "2\n",
      "3\n",
      "4\n",
      "5\n",
      "6\n",
      "7\n",
      "8\n",
      "9\n"
     ]
    }
   ],
   "source": [
    "# Assignment 13\n",
    "\n",
    "nested_tpl = (\n",
    "    (1, 2, 3),\n",
    "    (4, 5, 6),\n",
    "    (7, 8, 9)\n",
    ")\n",
    "\n",
    "print(nested_tpl)\n",
    "\n",
    "for ele in nested_tpl:\n",
    "    for i in ele:\n",
    "        print(i)"
   ]
  },
  {
   "cell_type": "code",
   "execution_count": 55,
   "id": "5b9ba23a",
   "metadata": {},
   "outputs": [
    {
     "name": "stdout",
     "output_type": "stream",
     "text": [
      "{1, 2, 4, 6, 7, 8, 9}\n"
     ]
    }
   ],
   "source": [
    "# Assignment 14\n",
    "\n",
    "tpl = (1, 2, 2, 4, 6, 6, 7, 7, 7, 7, 7, 8, 9)\n",
    "convert_to_set = set(tpl)\n",
    "print(convert_to_set)"
   ]
  },
  {
   "cell_type": "code",
   "execution_count": 63,
   "id": "d48b29ef",
   "metadata": {},
   "outputs": [
    {
     "name": "stdout",
     "output_type": "stream",
     "text": [
      "1\n",
      "5\n",
      "15\n"
     ]
    }
   ],
   "source": [
    "# Assignment 15\n",
    "\n",
    "def min_in_tpl(tpl):\n",
    "    return min(tpl)\n",
    "\n",
    "def max_in_tpl(tpl):\n",
    "    return max(tpl)\n",
    "\n",
    "def sum_of_tpl(tpl):\n",
    "    return sum(tpl)\n",
    "\n",
    "tpl = (1,2,3,4,5)\n",
    "print(min_in_tpl(tpl))\n",
    "print(max_in_tpl(tpl))\n",
    "print(sum_of_tpl(tpl))\n"
   ]
  },
  {
   "cell_type": "code",
   "execution_count": null,
   "id": "a0bbeb03",
   "metadata": {},
   "outputs": [],
   "source": []
  }
 ],
 "metadata": {
  "kernelspec": {
   "display_name": "base",
   "language": "python",
   "name": "python3"
  },
  "language_info": {
   "codemirror_mode": {
    "name": "ipython",
    "version": 3
   },
   "file_extension": ".py",
   "mimetype": "text/x-python",
   "name": "python",
   "nbconvert_exporter": "python",
   "pygments_lexer": "ipython3",
   "version": "3.12.7"
  }
 },
 "nbformat": 4,
 "nbformat_minor": 5
}
