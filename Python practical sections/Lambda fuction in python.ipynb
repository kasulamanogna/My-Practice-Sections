{
 "cells": [
  {
   "cell_type": "code",
   "execution_count": 1,
   "id": "f050bf29-9fa1-4a62-90fa-040959bb0777",
   "metadata": {},
   "outputs": [],
   "source": [
    "a=lambda a,b:a+b"
   ]
  },
  {
   "cell_type": "code",
   "execution_count": 2,
   "id": "b604a882-19a7-40b5-a220-7edf3e74846a",
   "metadata": {},
   "outputs": [
    {
     "data": {
      "text/plain": [
       "13"
      ]
     },
     "execution_count": 2,
     "metadata": {},
     "output_type": "execute_result"
    }
   ],
   "source": [
    "a(6,7)"
   ]
  },
  {
   "cell_type": "code",
   "execution_count": 10,
   "id": "49b36e40-296a-41ac-82b1-cfea35df8f62",
   "metadata": {},
   "outputs": [
    {
     "data": {
      "text/plain": [
       "[1, 2, 3, 4, 5, 6, 7, 8, 9, 10]"
      ]
     },
     "execution_count": 10,
     "metadata": {},
     "output_type": "execute_result"
    }
   ],
   "source": [
    "Mylist"
   ]
  },
  {
   "cell_type": "code",
   "execution_count": 11,
   "id": "087039dd-20f7-4824-b0e7-b1bc71682685",
   "metadata": {},
   "outputs": [
    {
     "name": "stdout",
     "output_type": "stream",
     "text": [
      "[1, 8, 27, 64, 125, 216, 343, 512, 729, 1000]\n"
     ]
    }
   ],
   "source": [
    "square=list(map(lambda x:x**3,Mylist))\n",
    "print(square)"
   ]
  },
  {
   "cell_type": "code",
   "execution_count": 8,
   "id": "8ef18130-c3fe-45ef-bb3c-03c2222b8fd6",
   "metadata": {},
   "outputs": [],
   "source": [
    "h= list(filter(lambda x:x%2==0,Mylist))"
   ]
  },
  {
   "cell_type": "code",
   "execution_count": 9,
   "id": "c06564cb-1c8a-4295-be1b-b60d4527d90e",
   "metadata": {},
   "outputs": [
    {
     "data": {
      "text/plain": [
       "[2, 4, 6, 8, 10]"
      ]
     },
     "execution_count": 9,
     "metadata": {},
     "output_type": "execute_result"
    }
   ],
   "source": [
    "h"
   ]
  },
  {
   "cell_type": "code",
   "execution_count": 12,
   "id": "ad66326c-2c71-4abe-a788-6a9d128971e1",
   "metadata": {},
   "outputs": [],
   "source": [
    "from functools import reduce"
   ]
  },
  {
   "cell_type": "code",
   "execution_count": 14,
   "id": "f801ab39-2a88-42e8-970b-40adda9a547f",
   "metadata": {},
   "outputs": [],
   "source": [
    "j=reduce(lambda x,y:x+y,Mylist)"
   ]
  },
  {
   "cell_type": "code",
   "execution_count": 15,
   "id": "ad42d799-fc0e-443f-bbfe-412b874d7f15",
   "metadata": {},
   "outputs": [
    {
     "data": {
      "text/plain": [
       "55"
      ]
     },
     "execution_count": 15,
     "metadata": {},
     "output_type": "execute_result"
    }
   ],
   "source": [
    "j"
   ]
  }
 ],
 "metadata": {
  "kernelspec": {
   "display_name": "Python [conda env:base] *",
   "language": "python",
   "name": "conda-base-py"
  },
  "language_info": {
   "codemirror_mode": {
    "name": "ipython",
    "version": 3
   },
   "file_extension": ".py",
   "mimetype": "text/x-python",
   "name": "python",
   "nbconvert_exporter": "python",
   "pygments_lexer": "ipython3",
   "version": "3.12.7"
  }
 },
 "nbformat": 4,
 "nbformat_minor": 5
}
