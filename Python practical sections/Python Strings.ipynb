{
 "cells": [
  {
   "cell_type": "markdown",
   "id": "2656b3e3-6069-4e11-9d47-bff33c7db6a5",
   "metadata": {},
   "source": [
    "# STRINGS IN PYTHON"
   ]
  },
  {
   "cell_type": "markdown",
   "id": "a42f7e74-b2a4-4c33-87f0-6f1aabbe74ab",
   "metadata": {},
   "source": [
    "--> Stream of charecters.\n",
    "\n",
    "--> A string is a datatype in python,composed of a collection of charecters."
   ]
  },
  {
   "cell_type": "markdown",
   "id": "5f684ed8-de6e-4fe1-8a13-dc7e3b70105f",
   "metadata": {},
   "source": [
    "For Examples:-\"Simplilearn\",\"Version1.0\""
   ]
  },
  {
   "cell_type": "markdown",
   "id": "2c492f60-0a7a-44cc-8005-d767dbc81645",
   "metadata": {},
   "source": [
    "ex:- VARIABLE=\"STRING\"\n",
    "\n",
    "        OR\n",
    "\n",
    "VARIABLE='SREING'"
   ]
  },
  {
   "cell_type": "code",
   "execution_count": 6,
   "id": "d8fe73b7-27cf-4da6-a9ca-78e321a6ba16",
   "metadata": {},
   "outputs": [
    {
     "name": "stdout",
     "output_type": "stream",
     "text": [
      "simplilearn\n"
     ]
    }
   ],
   "source": [
    "stg=\"simplilearn\"\n",
    "print(stg)"
   ]
  },
  {
   "cell_type": "markdown",
   "id": "e2a90d3f-dd72-4200-99da-84be59c5f03c",
   "metadata": {},
   "source": [
    "# store different values in stg"
   ]
  },
  {
   "cell_type": "markdown",
   "id": "5c464774-3eda-4ab7-946c-b602f6a76fe8",
   "metadata": {},
   "source": [
    "stg=\"tim's a birthday\"\n",
    "print(stg)"
   ]
  },
  {
   "cell_type": "code",
   "execution_count": null,
   "id": "0e3b3487-6394-4f61-b20d-a8abd2ce92fd",
   "metadata": {},
   "outputs": [],
   "source": []
  },
  {
   "cell_type": "code",
   "execution_count": 27,
   "id": "051e7b66-8894-4ed0-bb8f-d77d9a08e5a0",
   "metadata": {},
   "outputs": [
    {
     "name": "stdout",
     "output_type": "stream",
     "text": [
      "tim said,\" iam busy today\".\n"
     ]
    }
   ],
   "source": [
    "stg='tim said,\" iam busy today\".'\n",
    "print(stg)"
   ]
  },
  {
   "cell_type": "markdown",
   "id": "6b3e6790-1e8e-4684-bdc0-f4d9582e642f",
   "metadata": {},
   "source": []
  },
  {
   "cell_type": "code",
   "execution_count": 24,
   "id": "d43eaee5-660a-4a77-a79a-42ff6be64d7b",
   "metadata": {},
   "outputs": [
    {
     "name": "stdout",
     "output_type": "stream",
     "text": [
      "Tim said,\"I'm busy today\".\n"
     ]
    }
   ],
   "source": [
    "stg='Tim said,\"I\\'m busy today\".'\n",
    "print(stg)"
   ]
  },
  {
   "cell_type": "code",
   "execution_count": null,
   "id": "0b2f51b9-dae8-4aba-8000-99143813d956",
   "metadata": {},
   "outputs": [],
   "source": []
  },
  {
   "cell_type": "markdown",
   "id": "8497bc0f-7112-4e44-a005-b794169bb552",
   "metadata": {},
   "source": [
    "# '''_________''':-"
   ]
  },
  {
   "cell_type": "markdown",
   "id": "8dbc7250-b6dd-44de-b37b-2cc6cc1b4559",
   "metadata": {},
   "source": [
    "--> We can use multiple lines in a string of python code"
   ]
  },
  {
   "cell_type": "code",
   "execution_count": 35,
   "id": "224e2aae-ca9a-4aa7-b175-d94293e324df",
   "metadata": {},
   "outputs": [
    {
     "name": "stdout",
     "output_type": "stream",
     "text": [
      "hey there!\n",
      "Welcome to simplilearn\n"
     ]
    }
   ],
   "source": [
    "stg='''hey there!\n",
    "Welcome to simplilearn'''\n",
    "print(stg)"
   ]
  },
  {
   "cell_type": "markdown",
   "id": "3198a7d3-28d4-4b1f-82b0-9f9a2c17e33e",
   "metadata": {},
   "source": [
    "# Length of the string "
   ]
  },
  {
   "cell_type": "code",
   "execution_count": 39,
   "id": "712d7096-f541-4bec-9e91-7aecffd8bfe7",
   "metadata": {},
   "outputs": [
    {
     "name": "stdout",
     "output_type": "stream",
     "text": [
      "11\n"
     ]
    }
   ],
   "source": [
    "stg=\"simplilearn\"\n",
    "print(len(stg))"
   ]
  },
  {
   "cell_type": "markdown",
   "id": "dc3d121e-0b5a-4447-8969-0bdef576fa9c",
   "metadata": {},
   "source": [
    "--> if we will give the space in a string that will be also count in a string\n",
    "\n",
    "--> Charecters could be everything"
   ]
  },
  {
   "cell_type": "code",
   "execution_count": 44,
   "id": "131d50d0-d4e4-47c8-ae87-535586b72e1c",
   "metadata": {},
   "outputs": [
    {
     "name": "stdout",
     "output_type": "stream",
     "text": [
      "13\n"
     ]
    }
   ],
   "source": [
    "stg=\"simplilearn n\"\n",
    "print(len(stg))"
   ]
  },
  {
   "cell_type": "markdown",
   "id": "f342af49-b063-42e6-bfe4-d7e48c63d98b",
   "metadata": {},
   "source": [
    "# Index in a string"
   ]
  },
  {
   "cell_type": "code",
   "execution_count": 47,
   "id": "8f3bbcc8-16b0-4a2f-8399-ce38eb33ffa7",
   "metadata": {},
   "outputs": [
    {
     "name": "stdout",
     "output_type": "stream",
     "text": [
      "i\n"
     ]
    }
   ],
   "source": [
    "stg=\"simplilearn\"\n",
    "print(stg[5])"
   ]
  },
  {
   "cell_type": "markdown",
   "id": "c0a46486-89a9-49e8-b27d-0beaf4f25db1",
   "metadata": {},
   "source": [
    "# SLICING\n",
    "\n",
    "# For loop"
   ]
  },
  {
   "cell_type": "markdown",
   "id": "b376c6d6-2310-43d8-a691-8b940ee3b86a",
   "metadata": {},
   "source": [
    "--> if i want to access the every character of my string one-by-one\n",
    "\n",
    "--> i can do this using a for loop\n",
    "\n",
    "--> for loop is used to hesistate over a sequence"
   ]
  },
  {
   "cell_type": "code",
   "execution_count": 51,
   "id": "cc603261-2eec-416c-bf00-2545e857fcdd",
   "metadata": {},
   "outputs": [
    {
     "name": "stdout",
     "output_type": "stream",
     "text": [
      "s\n",
      "i\n",
      "m\n",
      "p\n",
      "l\n",
      "i\n",
      "l\n",
      "e\n",
      "a\n",
      "r\n",
      "n\n"
     ]
    }
   ],
   "source": [
    "stg=\"simplilearn\"\n",
    "for i in stg:\n",
    "    print(i)"
   ]
  },
  {
   "cell_type": "markdown",
   "id": "3b9353ef-be63-457e-bda7-2520e349f69f",
   "metadata": {},
   "source": [
    "--> if we want print in a same line."
   ]
  },
  {
   "cell_type": "code",
   "execution_count": 54,
   "id": "f0073b90-f225-42d1-9b2a-adfdd7cab0e8",
   "metadata": {},
   "outputs": [
    {
     "name": "stdout",
     "output_type": "stream",
     "text": [
      "simplilearn"
     ]
    }
   ],
   "source": [
    "stg=\"simplilearn\"\n",
    "for i in stg:\n",
    "    print(i,end=\"\")"
   ]
  },
  {
   "cell_type": "markdown",
   "id": "e5df53f9-bbb0-42c4-9926-3d886606d2a4",
   "metadata": {},
   "source": [
    "# Index"
   ]
  },
  {
   "cell_type": "code",
   "execution_count": 60,
   "id": "18d22305-31d5-4e44-ac5b-f0292f349f98",
   "metadata": {},
   "outputs": [
    {
     "name": "stdout",
     "output_type": "stream",
     "text": [
      "simpl\n"
     ]
    }
   ],
   "source": [
    "stg=\"simplilearn\"\n",
    "print(stg[0:5])"
   ]
  },
  {
   "cell_type": "markdown",
   "id": "6c09f4a6-5a30-428f-9738-9e9e66ff1f9a",
   "metadata": {},
   "source": [
    "(OR)"
   ]
  },
  {
   "cell_type": "code",
   "execution_count": 63,
   "id": "23d45d02-e50c-490c-b7f8-8ed8064cdb63",
   "metadata": {},
   "outputs": [
    {
     "name": "stdout",
     "output_type": "stream",
     "text": [
      "simpl\n"
     ]
    }
   ],
   "source": [
    "print(stg[:5])"
   ]
  },
  {
   "cell_type": "markdown",
   "id": "ed001927-1b6f-48ad-a93d-5a9ca388fc44",
   "metadata": {},
   "source": [
    "--> From the 5 index within the ending of the string"
   ]
  },
  {
   "cell_type": "code",
   "execution_count": 68,
   "id": "301b325f-03b0-4fbd-89aa-b221422cdb1e",
   "metadata": {},
   "outputs": [
    {
     "name": "stdout",
     "output_type": "stream",
     "text": [
      "ilearn\n"
     ]
    }
   ],
   "source": [
    "print(stg[5:])"
   ]
  },
  {
   "cell_type": "markdown",
   "id": "f673f73e-7157-43a9-ac0e-3570d0b6cad6",
   "metadata": {},
   "source": [
    "--> We want to extract the some elements in between the string\n",
    "\n",
    "-->we must be enter both in your begining & ending indices."
   ]
  },
  {
   "cell_type": "code",
   "execution_count": 73,
   "id": "05a7511c-c17b-40a3-a3ca-4617e798ae75",
   "metadata": {},
   "outputs": [
    {
     "name": "stdout",
     "output_type": "stream",
     "text": [
      "mpl\n"
     ]
    }
   ],
   "source": [
    "print(stg[2:5])"
   ]
  },
  {
   "cell_type": "markdown",
   "id": "b67d7142-2d9f-4d69-ab38-fb4831ac08d8",
   "metadata": {},
   "source": [
    "# BULIT-IN METHODS"
   ]
  },
  {
   "cell_type": "markdown",
   "id": "4f1a644b-cced-4f34-a731-3479925b387d",
   "metadata": {},
   "source": [
    "1.UPPER CASE():-"
   ]
  },
  {
   "cell_type": "markdown",
   "id": "917ae512-25c7-481d-b54c-57bd8a1a20a3",
   "metadata": {},
   "source": [
    "--> Entire string print in a uppercase."
   ]
  },
  {
   "cell_type": "code",
   "execution_count": 94,
   "id": "7bcd2c3c-d457-46d3-b0bc-7eb0ef8659d5",
   "metadata": {},
   "outputs": [
    {
     "name": "stdout",
     "output_type": "stream",
     "text": [
      "WELCOME TO SIMLILEARN\n"
     ]
    }
   ],
   "source": [
    "stg=\"Welcome to simlilearn\"\n",
    "print(stg.upper())"
   ]
  },
  {
   "cell_type": "markdown",
   "id": "8ea7256e-f43d-4e59-bb05-5fd4d4dac0c2",
   "metadata": {},
   "source": [
    "2. LOWER CASE:-"
   ]
  },
  {
   "cell_type": "markdown",
   "id": "58666bab-1ed2-42f5-967d-d147f4edda73",
   "metadata": {},
   "source": [
    "--> Entire string print in a lowercase"
   ]
  },
  {
   "cell_type": "code",
   "execution_count": 98,
   "id": "e87a0bb8-9bef-4854-b193-2d4d02778499",
   "metadata": {},
   "outputs": [
    {
     "name": "stdout",
     "output_type": "stream",
     "text": [
      "welcome to simlilearn\n"
     ]
    }
   ],
   "source": [
    "print(stg.lower())"
   ]
  },
  {
   "cell_type": "markdown",
   "id": "dc2ed824-c9c9-445f-8d00-28cafc9b3c41",
   "metadata": {},
   "source": [
    "3. FIND():-"
   ]
  },
  {
   "cell_type": "markdown",
   "id": "c5170440-a1ef-4739-a9f1-30abf487cb29",
   "metadata": {},
   "source": [
    "--> Find of the index of a perticular charecter."
   ]
  },
  {
   "cell_type": "code",
   "execution_count": 115,
   "id": "8357fa12-8c20-4c50-8fe4-8c0926a6d37b",
   "metadata": {},
   "outputs": [
    {
     "name": "stdout",
     "output_type": "stream",
     "text": [
      "11\n"
     ]
    }
   ],
   "source": [
    "print(stg.find('s'))"
   ]
  },
  {
   "cell_type": "markdown",
   "id": "0137f1b7-2e05-48c4-8f7f-0872cadee338",
   "metadata": {},
   "source": [
    "(OR)"
   ]
  },
  {
   "cell_type": "markdown",
   "id": "036c9325-b361-4f62-b182-7c78c6c9327b",
   "metadata": {},
   "source": [
    "4.INDEX():-"
   ]
  },
  {
   "cell_type": "markdown",
   "id": "0b4f9ab9-6f6c-4439-ba2f-2ff6e6034f97",
   "metadata": {},
   "source": [
    "--> Same as find()"
   ]
  },
  {
   "cell_type": "code",
   "execution_count": 120,
   "id": "6f88570a-6dfe-4bf5-9112-0124e000694c",
   "metadata": {},
   "outputs": [
    {
     "name": "stdout",
     "output_type": "stream",
     "text": [
      "11\n"
     ]
    }
   ],
   "source": [
    "print(stg.index('s'))"
   ]
  },
  {
   "cell_type": "code",
   "execution_count": 126,
   "id": "7b9a5d6f-7abd-44af-a937-11443cfac105",
   "metadata": {},
   "outputs": [
    {
     "name": "stdout",
     "output_type": "stream",
     "text": [
      "Welco\n"
     ]
    }
   ],
   "source": [
    "print(stg[:5])"
   ]
  },
  {
   "cell_type": "code",
   "execution_count": 128,
   "id": "a84aef9d-d4c8-4d81-97f6-531f2e51d54d",
   "metadata": {},
   "outputs": [
    {
     "name": "stdout",
     "output_type": "stream",
     "text": [
      "lco\n"
     ]
    }
   ],
   "source": [
    "print(stg[2:5])"
   ]
  },
  {
   "cell_type": "markdown",
   "id": "ce78ea0d-41d2-4390-9dd9-2e2bbebe9222",
   "metadata": {},
   "source": [
    "--> Python is a no.of in-bulit functions with makes it easy and efficient deal with string datatype."
   ]
  },
  {
   "cell_type": "markdown",
   "id": "14e46e5f-38f4-440a-95d6-55c98a0ffd84",
   "metadata": {},
   "source": [
    "5.SPLIT():-"
   ]
  },
  {
   "cell_type": "markdown",
   "id": "6ae77de8-e38d-4dba-8a77-010afe4af5a6",
   "metadata": {},
   "source": [
    "--> Each word is seperated by us space.\n",
    "\n",
    "--> If we want each word to be seperate element of the list"
   ]
  },
  {
   "cell_type": "code",
   "execution_count": 134,
   "id": "78894e47-e268-4a9d-ac8b-46980b22c5b5",
   "metadata": {},
   "outputs": [
    {
     "name": "stdout",
     "output_type": "stream",
     "text": [
      "['Welcome', 'to', 'simlilearn']\n"
     ]
    }
   ],
   "source": [
    "print(stg.split(\" \"))"
   ]
  },
  {
   "cell_type": "markdown",
   "id": "ee34d1f5-5971-4051-88b7-65dee2f3570f",
   "metadata": {},
   "source": [
    "(OR)"
   ]
  },
  {
   "cell_type": "code",
   "execution_count": 137,
   "id": "4339168e-51b2-40a2-9513-2691e954ad62",
   "metadata": {},
   "outputs": [
    {
     "name": "stdout",
     "output_type": "stream",
     "text": [
      "['Welcome', 'to', 'simlilearn']\n"
     ]
    }
   ],
   "source": [
    "x=stg.split(\" \")\n",
    "print(x)"
   ]
  },
  {
   "cell_type": "markdown",
   "id": "3ee33a29-79df-4646-af95-8ef7c0b137e3",
   "metadata": {},
   "source": [
    "6.REPLACE():-"
   ]
  },
  {
   "cell_type": "markdown",
   "id": "6635f1ed-7d37-48cb-a419-458503eabffc",
   "metadata": {},
   "source": [
    "--> Here,2 parameters are there.\n",
    "\n",
    "--> we can change/replace the parameter in the string."
   ]
  },
  {
   "cell_type": "code",
   "execution_count": 141,
   "id": "3aa1867e-991b-43a1-bbad-c8eb2cdc4483",
   "metadata": {},
   "outputs": [
    {
     "name": "stdout",
     "output_type": "stream",
     "text": [
      "welcome to simplilearn\n"
     ]
    }
   ],
   "source": [
    "stg=\"welcome to simplilearn\"\n",
    "print(stg)"
   ]
  },
  {
   "cell_type": "code",
   "execution_count": 143,
   "id": "49c72303-28ad-4da3-87f5-a389157c3fde",
   "metadata": {},
   "outputs": [
    {
     "data": {
      "text/plain": [
       "'welcome to python tutorial'"
      ]
     },
     "execution_count": 143,
     "metadata": {},
     "output_type": "execute_result"
    }
   ],
   "source": [
    "stg.replace(\"simplilearn\",\"python tutorial\")"
   ]
  },
  {
   "cell_type": "markdown",
   "id": "40bb1b9c-4d33-4324-aff7-f52cb868d641",
   "metadata": {},
   "source": [
    "7.RPARTITION():-"
   ]
  },
  {
   "cell_type": "markdown",
   "id": "fbe95491-e120-4c0e-9209-65b410ae09f4",
   "metadata": {},
   "source": [
    "--> rpertition methon lot like this split method.But Here,it creates a tuple."
   ]
  },
  {
   "cell_type": "markdown",
   "id": "2b41f230-2033-4889-a83b-5a7aad7ca9dc",
   "metadata": {},
   "source": [
    "--> The tuples always has 3 elements"
   ]
  },
  {
   "cell_type": "code",
   "execution_count": 148,
   "id": "dc0b7b02-6822-4024-a7d4-5e77e9e8cadd",
   "metadata": {},
   "outputs": [
    {
     "name": "stdout",
     "output_type": "stream",
     "text": [
      "('welcome', ' to ', 'simplilearn')\n"
     ]
    }
   ],
   "source": [
    "print(stg.rpartition(\" to \"))"
   ]
  },
  {
   "cell_type": "markdown",
   "id": "9ba33362-fead-4b69-821b-7758c910c1a6",
   "metadata": {},
   "source": [
    "# concatenating string"
   ]
  },
  {
   "cell_type": "code",
   "execution_count": 155,
   "id": "99c05df2-7b45-4fac-a56f-3d81cc49d746",
   "metadata": {},
   "outputs": [
    {
     "name": "stdout",
     "output_type": "stream",
     "text": [
      "good morning\n"
     ]
    }
   ],
   "source": [
    "stg1=\"good\"\n",
    "stg2=\"morning\"\n",
    "stg=stg1+\" \"+stg2\n",
    "print(stg)"
   ]
  },
  {
   "cell_type": "markdown",
   "id": "0c7a013b-2800-4b69-b6fa-48b56aff3039",
   "metadata": {},
   "source": [
    "8.format():-"
   ]
  },
  {
   "cell_type": "code",
   "execution_count": 160,
   "id": "78653be5-7047-45eb-84c3-14993a02b9fe",
   "metadata": {},
   "outputs": [
    {
     "name": "stdout",
     "output_type": "stream",
     "text": [
      "Hey there,all!\n"
     ]
    }
   ],
   "source": [
    "stg1=\"Hey\"\n",
    "stg2=\"there\"\n",
    "stg3=\"all\"\n",
    "stg=\"{} {},{}!\".format(stg1,stg2,stg3)\n",
    "print(stg)"
   ]
  },
  {
   "cell_type": "code",
   "execution_count": null,
   "id": "5db1f6c4-5f5a-4c89-92e4-3ad838e262c2",
   "metadata": {},
   "outputs": [],
   "source": []
  }
 ],
 "metadata": {
  "kernelspec": {
   "display_name": "Python 3 (ipykernel)",
   "language": "python",
   "name": "python3"
  },
  "language_info": {
   "codemirror_mode": {
    "name": "ipython",
    "version": 3
   },
   "file_extension": ".py",
   "mimetype": "text/x-python",
   "name": "python",
   "nbconvert_exporter": "python",
   "pygments_lexer": "ipython3",
   "version": "3.12.7"
  }
 },
 "nbformat": 4,
 "nbformat_minor": 5
}
