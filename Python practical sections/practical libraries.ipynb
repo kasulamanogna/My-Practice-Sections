{
 "cells": [
  {
   "cell_type": "markdown",
   "id": "f36101fd-aebc-4511-ae3f-c1fec46bf0e1",
   "metadata": {},
   "source": [
    "# one dimenstion array:-"
   ]
  },
  {
   "cell_type": "code",
   "execution_count": 4,
   "id": "5d74c642-fb00-4d8d-bcf6-05abd46f4478",
   "metadata": {},
   "outputs": [],
   "source": [
    "import numpy as np"
   ]
  },
  {
   "cell_type": "code",
   "execution_count": 6,
   "id": "13eb57b1-4d7a-4ecc-bfff-4292af18c0d6",
   "metadata": {},
   "outputs": [
    {
     "data": {
      "text/plain": [
       "[[1, 2, 3, 4, 5, 6, 7, 8, 9],\n",
       " [[11, 12, 13, 14, 15, 16, 17, 18, 19],\n",
       "  [[21, 22, 23, 24, 25, 26, 27, 28, 29],\n",
       "   [[31, 32, 33, 34, 35, 36, 37, 38, 39]]]]]"
      ]
     },
     "execution_count": 6,
     "metadata": {},
     "output_type": "execute_result"
    }
   ],
   "source": [
    "a=list(range(1,10))\n",
    "b=list(range(11,20))\n",
    "c=list(range(21,30))\n",
    "d=list(range(31,40))\n",
    "mylist=[a,[b,[c,[d]]]]\n",
    "mylist"
   ]
  },
  {
   "cell_type": "code",
   "execution_count": 16,
   "id": "a12522f8-859b-4647-9b4f-62628702e908",
   "metadata": {},
   "outputs": [
    {
     "data": {
      "text/plain": [
       "[39, 38, 37, 36, 35, 34, 33, 32, 31]"
      ]
     },
     "execution_count": 16,
     "metadata": {},
     "output_type": "execute_result"
    }
   ],
   "source": [
    "mylist[1][1][1][0][::-1]"
   ]
  },
  {
   "cell_type": "code",
   "execution_count": 18,
   "id": "411e8915-b178-429f-814b-6b5b51c0bada",
   "metadata": {},
   "outputs": [],
   "source": [
    "import numpy as np\n",
    "import pandas as pd"
   ]
  },
  {
   "cell_type": "markdown",
   "id": "34c17b62-13ea-43b6-88bb-d91a7ac8a631",
   "metadata": {},
   "source": [
    "# How to extract csv file and download and read and copy the path?"
   ]
  },
  {
   "cell_type": "code",
   "execution_count": 38,
   "id": "a5e1f1ba-942c-4f32-bd53-e349a452b397",
   "metadata": {},
   "outputs": [
    {
     "data": {
      "text/html": [
       "<div>\n",
       "<style scoped>\n",
       "    .dataframe tbody tr th:only-of-type {\n",
       "        vertical-align: middle;\n",
       "    }\n",
       "\n",
       "    .dataframe tbody tr th {\n",
       "        vertical-align: top;\n",
       "    }\n",
       "\n",
       "    .dataframe thead th {\n",
       "        text-align: right;\n",
       "    }\n",
       "</style>\n",
       "<table border=\"1\" class=\"dataframe\">\n",
       "  <thead>\n",
       "    <tr style=\"text-align: right;\">\n",
       "      <th></th>\n",
       "      <th>PLAYER</th>\n",
       "      <th>NATIONALITY</th>\n",
       "      <th>TYPE</th>\n",
       "      <th>TEAM</th>\n",
       "      <th>PRICE PAID</th>\n",
       "    </tr>\n",
       "  </thead>\n",
       "  <tbody>\n",
       "    <tr>\n",
       "      <th>0</th>\n",
       "      <td>Daryl Mitchell</td>\n",
       "      <td>Overseas</td>\n",
       "      <td>All-Rounder</td>\n",
       "      <td>Chennai Super Kings</td>\n",
       "      <td>140000000</td>\n",
       "    </tr>\n",
       "    <tr>\n",
       "      <th>1</th>\n",
       "      <td>Sameer Rizvi</td>\n",
       "      <td>Indian</td>\n",
       "      <td>Batter</td>\n",
       "      <td>Chennai Super Kings</td>\n",
       "      <td>84000000</td>\n",
       "    </tr>\n",
       "    <tr>\n",
       "      <th>2</th>\n",
       "      <td>Shardul Thakur</td>\n",
       "      <td>Indian</td>\n",
       "      <td>All-Rounder</td>\n",
       "      <td>Chennai Super Kings</td>\n",
       "      <td>40000000</td>\n",
       "    </tr>\n",
       "    <tr>\n",
       "      <th>3</th>\n",
       "      <td>Mustafizur Rahman</td>\n",
       "      <td>Overseas</td>\n",
       "      <td>Bowler</td>\n",
       "      <td>Chennai Super Kings</td>\n",
       "      <td>20000000</td>\n",
       "    </tr>\n",
       "    <tr>\n",
       "      <th>4</th>\n",
       "      <td>Rachin Ravindra</td>\n",
       "      <td>Overseas</td>\n",
       "      <td>All-Rounder</td>\n",
       "      <td>Chennai Super Kings</td>\n",
       "      <td>18000000</td>\n",
       "    </tr>\n",
       "    <tr>\n",
       "      <th>...</th>\n",
       "      <td>...</td>\n",
       "      <td>...</td>\n",
       "      <td>...</td>\n",
       "      <td>...</td>\n",
       "      <td>...</td>\n",
       "    </tr>\n",
       "    <tr>\n",
       "      <th>67</th>\n",
       "      <td>Travis Head</td>\n",
       "      <td>Overseas</td>\n",
       "      <td>Batter</td>\n",
       "      <td>Sunrisers Hyderabad</td>\n",
       "      <td>68000000</td>\n",
       "    </tr>\n",
       "    <tr>\n",
       "      <th>68</th>\n",
       "      <td>Jaydev Unadkat</td>\n",
       "      <td>Indian</td>\n",
       "      <td>Bowler</td>\n",
       "      <td>Sunrisers Hyderabad</td>\n",
       "      <td>16000000</td>\n",
       "    </tr>\n",
       "    <tr>\n",
       "      <th>69</th>\n",
       "      <td>Wanindu Hasaranga</td>\n",
       "      <td>Overseas</td>\n",
       "      <td>All-Rounder</td>\n",
       "      <td>Sunrisers Hyderabad</td>\n",
       "      <td>15000000</td>\n",
       "    </tr>\n",
       "    <tr>\n",
       "      <th>70</th>\n",
       "      <td>Jhathavedh Subramanyan</td>\n",
       "      <td>Indian</td>\n",
       "      <td>Bowler</td>\n",
       "      <td>Sunrisers Hyderabad</td>\n",
       "      <td>2000000</td>\n",
       "    </tr>\n",
       "    <tr>\n",
       "      <th>71</th>\n",
       "      <td>Akash Singh</td>\n",
       "      <td>Indian</td>\n",
       "      <td>Bowler</td>\n",
       "      <td>Sunrisers Hyderabad</td>\n",
       "      <td>2000000</td>\n",
       "    </tr>\n",
       "  </tbody>\n",
       "</table>\n",
       "<p>72 rows × 5 columns</p>\n",
       "</div>"
      ],
      "text/plain": [
       "                    PLAYER NATIONALITY         TYPE                 TEAM  \\\n",
       "0           Daryl Mitchell    Overseas  All-Rounder  Chennai Super Kings   \n",
       "1             Sameer Rizvi      Indian       Batter  Chennai Super Kings   \n",
       "2           Shardul Thakur      Indian  All-Rounder  Chennai Super Kings   \n",
       "3        Mustafizur Rahman    Overseas       Bowler  Chennai Super Kings   \n",
       "4          Rachin Ravindra    Overseas  All-Rounder  Chennai Super Kings   \n",
       "..                     ...         ...          ...                  ...   \n",
       "67             Travis Head    Overseas       Batter  Sunrisers Hyderabad   \n",
       "68          Jaydev Unadkat      Indian       Bowler  Sunrisers Hyderabad   \n",
       "69       Wanindu Hasaranga    Overseas  All-Rounder  Sunrisers Hyderabad   \n",
       "70  Jhathavedh Subramanyan      Indian       Bowler  Sunrisers Hyderabad   \n",
       "71             Akash Singh      Indian       Bowler  Sunrisers Hyderabad   \n",
       "\n",
       "    PRICE PAID  \n",
       "0    140000000  \n",
       "1     84000000  \n",
       "2     40000000  \n",
       "3     20000000  \n",
       "4     18000000  \n",
       "..         ...  \n",
       "67    68000000  \n",
       "68    16000000  \n",
       "69    15000000  \n",
       "70     2000000  \n",
       "71     2000000  \n",
       "\n",
       "[72 rows x 5 columns]"
      ]
     },
     "execution_count": 38,
     "metadata": {},
     "output_type": "execute_result"
    }
   ],
   "source": [
    "df = pd.read_csv(r\"C:\\Users\\Lenovo\\Downloads\\archive\\auction.csv\")\n",
    "df"
   ]
  },
  {
   "cell_type": "code",
   "execution_count": 40,
   "id": "e0d147c2-19da-4976-9f97-763d8f3d1df1",
   "metadata": {},
   "outputs": [
    {
     "data": {
      "text/html": [
       "<div>\n",
       "<style scoped>\n",
       "    .dataframe tbody tr th:only-of-type {\n",
       "        vertical-align: middle;\n",
       "    }\n",
       "\n",
       "    .dataframe tbody tr th {\n",
       "        vertical-align: top;\n",
       "    }\n",
       "\n",
       "    .dataframe thead th {\n",
       "        text-align: right;\n",
       "    }\n",
       "</style>\n",
       "<table border=\"1\" class=\"dataframe\">\n",
       "  <thead>\n",
       "    <tr style=\"text-align: right;\">\n",
       "      <th></th>\n",
       "      <th>Sales Person</th>\n",
       "      <th>Country</th>\n",
       "      <th>Product</th>\n",
       "      <th>Date</th>\n",
       "      <th>Amount</th>\n",
       "      <th>Boxes Shipped</th>\n",
       "    </tr>\n",
       "  </thead>\n",
       "  <tbody>\n",
       "    <tr>\n",
       "      <th>0</th>\n",
       "      <td>Jehu Rudeforth</td>\n",
       "      <td>UK</td>\n",
       "      <td>Mint Chip Choco</td>\n",
       "      <td>04-Jan-22</td>\n",
       "      <td>$5,320</td>\n",
       "      <td>180</td>\n",
       "    </tr>\n",
       "    <tr>\n",
       "      <th>1</th>\n",
       "      <td>Van Tuxwell</td>\n",
       "      <td>India</td>\n",
       "      <td>85% Dark Bars</td>\n",
       "      <td>01-Aug-22</td>\n",
       "      <td>$7,896</td>\n",
       "      <td>94</td>\n",
       "    </tr>\n",
       "    <tr>\n",
       "      <th>2</th>\n",
       "      <td>Gigi Bohling</td>\n",
       "      <td>India</td>\n",
       "      <td>Peanut Butter Cubes</td>\n",
       "      <td>07-Jul-22</td>\n",
       "      <td>$4,501</td>\n",
       "      <td>91</td>\n",
       "    </tr>\n",
       "    <tr>\n",
       "      <th>3</th>\n",
       "      <td>Jan Morforth</td>\n",
       "      <td>Australia</td>\n",
       "      <td>Peanut Butter Cubes</td>\n",
       "      <td>27-Apr-22</td>\n",
       "      <td>$12,726</td>\n",
       "      <td>342</td>\n",
       "    </tr>\n",
       "    <tr>\n",
       "      <th>4</th>\n",
       "      <td>Jehu Rudeforth</td>\n",
       "      <td>UK</td>\n",
       "      <td>Peanut Butter Cubes</td>\n",
       "      <td>24-Feb-22</td>\n",
       "      <td>$13,685</td>\n",
       "      <td>184</td>\n",
       "    </tr>\n",
       "    <tr>\n",
       "      <th>...</th>\n",
       "      <td>...</td>\n",
       "      <td>...</td>\n",
       "      <td>...</td>\n",
       "      <td>...</td>\n",
       "      <td>...</td>\n",
       "      <td>...</td>\n",
       "    </tr>\n",
       "    <tr>\n",
       "      <th>1089</th>\n",
       "      <td>Karlen McCaffrey</td>\n",
       "      <td>Australia</td>\n",
       "      <td>Spicy Special Slims</td>\n",
       "      <td>17-May-22</td>\n",
       "      <td>$4,410</td>\n",
       "      <td>323</td>\n",
       "    </tr>\n",
       "    <tr>\n",
       "      <th>1090</th>\n",
       "      <td>Jehu Rudeforth</td>\n",
       "      <td>USA</td>\n",
       "      <td>White Choc</td>\n",
       "      <td>07-Jun-22</td>\n",
       "      <td>$6,559</td>\n",
       "      <td>119</td>\n",
       "    </tr>\n",
       "    <tr>\n",
       "      <th>1091</th>\n",
       "      <td>Ches Bonnell</td>\n",
       "      <td>Canada</td>\n",
       "      <td>Organic Choco Syrup</td>\n",
       "      <td>26-Jul-22</td>\n",
       "      <td>$574</td>\n",
       "      <td>217</td>\n",
       "    </tr>\n",
       "    <tr>\n",
       "      <th>1092</th>\n",
       "      <td>Dotty Strutley</td>\n",
       "      <td>India</td>\n",
       "      <td>Eclairs</td>\n",
       "      <td>28-Jul-22</td>\n",
       "      <td>$2,086</td>\n",
       "      <td>384</td>\n",
       "    </tr>\n",
       "    <tr>\n",
       "      <th>1093</th>\n",
       "      <td>Karlen McCaffrey</td>\n",
       "      <td>India</td>\n",
       "      <td>70% Dark Bites</td>\n",
       "      <td>23-May-22</td>\n",
       "      <td>$5,075</td>\n",
       "      <td>344</td>\n",
       "    </tr>\n",
       "  </tbody>\n",
       "</table>\n",
       "<p>1094 rows × 6 columns</p>\n",
       "</div>"
      ],
      "text/plain": [
       "          Sales Person    Country              Product       Date    Amount  \\\n",
       "0       Jehu Rudeforth         UK      Mint Chip Choco  04-Jan-22   $5,320    \n",
       "1          Van Tuxwell      India        85% Dark Bars  01-Aug-22   $7,896    \n",
       "2         Gigi Bohling      India  Peanut Butter Cubes  07-Jul-22   $4,501    \n",
       "3         Jan Morforth  Australia  Peanut Butter Cubes  27-Apr-22  $12,726    \n",
       "4       Jehu Rudeforth         UK  Peanut Butter Cubes  24-Feb-22  $13,685    \n",
       "...                ...        ...                  ...        ...       ...   \n",
       "1089  Karlen McCaffrey  Australia  Spicy Special Slims  17-May-22   $4,410    \n",
       "1090    Jehu Rudeforth        USA           White Choc  07-Jun-22   $6,559    \n",
       "1091      Ches Bonnell     Canada  Organic Choco Syrup  26-Jul-22     $574    \n",
       "1092    Dotty Strutley      India              Eclairs  28-Jul-22   $2,086    \n",
       "1093  Karlen McCaffrey      India       70% Dark Bites  23-May-22   $5,075    \n",
       "\n",
       "      Boxes Shipped  \n",
       "0               180  \n",
       "1                94  \n",
       "2                91  \n",
       "3               342  \n",
       "4               184  \n",
       "...             ...  \n",
       "1089            323  \n",
       "1090            119  \n",
       "1091            217  \n",
       "1092            384  \n",
       "1093            344  \n",
       "\n",
       "[1094 rows x 6 columns]"
      ]
     },
     "execution_count": 40,
     "metadata": {},
     "output_type": "execute_result"
    }
   ],
   "source": [
    "df = pd.read_csv(r\"C:\\Users\\Lenovo\\OneDrive\\Documents\\Choc Dataset\\Chocolate Sales.csv\")\n",
    "df"
   ]
  },
  {
   "cell_type": "code",
   "execution_count": 58,
   "id": "d46b1c2d-3179-4678-ad1a-66ef5121eda9",
   "metadata": {},
   "outputs": [
    {
     "name": "stdout",
     "output_type": "stream",
     "text": [
      "     Sales Person    Country              Product       Date    Amount  \\\n",
      "0  Jehu Rudeforth         UK      Mint Chip Choco  04-Jan-22   $5,320    \n",
      "1     Van Tuxwell      India        85% Dark Bars  01-Aug-22   $7,896    \n",
      "2    Gigi Bohling      India  Peanut Butter Cubes  07-Jul-22   $4,501    \n",
      "3    Jan Morforth  Australia  Peanut Butter Cubes  27-Apr-22  $12,726    \n",
      "4  Jehu Rudeforth         UK  Peanut Butter Cubes  24-Feb-22  $13,685    \n",
      "\n",
      "   Boxes Shipped  \n",
      "0            180  \n",
      "1             94  \n",
      "2             91  \n",
      "3            342  \n",
      "4            184  \n"
     ]
    }
   ],
   "source": [
    "import pandas as pd\n",
    "df = pd.read_csv(r\"C:\\Users\\Lenovo\\OneDrive\\Documents\\Choc Dataset\\Chocolate Sales.csv\")\n",
    "print(df.head())"
   ]
  },
  {
   "cell_type": "code",
   "execution_count": 62,
   "id": "bdbd117d-54d3-4c9f-9e91-66c48a4fbc78",
   "metadata": {},
   "outputs": [
    {
     "name": "stdout",
     "output_type": "stream",
     "text": [
      "0     5320.0\n",
      "1     7896.0\n",
      "2     4501.0\n",
      "3    12726.0\n",
      "4    13685.0\n",
      "Name: Amount, dtype: float64\n"
     ]
    }
   ],
   "source": [
    "df['Amount'] = df['Amount'].replace({r'\\$': '', r',': ''}, regex=True).astype(float)\n",
    "print(df['Amount'].head())"
   ]
  },
  {
   "cell_type": "code",
   "execution_count": 64,
   "id": "60c10f10-8f96-415d-a0a0-090745a6bc3f",
   "metadata": {},
   "outputs": [
    {
     "name": "stdout",
     "output_type": "stream",
     "text": [
      "0   2022-01-04\n",
      "1   2022-08-01\n",
      "2   2022-07-07\n",
      "3   2022-04-27\n",
      "4   2022-02-24\n",
      "Name: Date, dtype: datetime64[ns]\n"
     ]
    }
   ],
   "source": [
    "df['Date'] = pd.to_datetime(df['Date'], format='%d-%b-%y')\n",
    "print(df['Date'].head())"
   ]
  },
  {
   "cell_type": "code",
   "execution_count": 66,
   "id": "58d336be-c48c-44df-917a-d909fd57a125",
   "metadata": {},
   "outputs": [
    {
     "name": "stdout",
     "output_type": "stream",
     "text": [
      "       Country     Amount\n",
      "0    Australia  1137367.0\n",
      "1       Canada   962899.0\n",
      "2        India  1045800.0\n",
      "3  New Zealand   950418.0\n",
      "4           UK  1051792.0\n",
      "5          USA  1035349.0\n"
     ]
    }
   ],
   "source": [
    "total_by_country = df.groupby('Country')['Amount'].sum().reset_index()\n",
    "print(total_by_country)\n"
   ]
  },
  {
   "cell_type": "code",
   "execution_count": 68,
   "id": "26c13a5b-37e3-497b-a710-05353e70fb96",
   "metadata": {},
   "outputs": [
    {
     "name": "stdout",
     "output_type": "stream",
     "text": [
      "Sales Person\n",
      "Ches Bonnell       320901.0\n",
      "Oby Sorrel         316645.0\n",
      "Madelene Upcott    316099.0\n",
      "Name: Amount, dtype: float64\n"
     ]
    }
   ],
   "source": [
    "top_salespersons = df.groupby('Sales Person')['Amount'].sum().sort_values(ascending=False).head(3)\n",
    "print(top_salespersons)"
   ]
  },
  {
   "cell_type": "code",
   "execution_count": 70,
   "id": "3c21231f-e929-4d45-8584-bc221bf13819",
   "metadata": {},
   "outputs": [
    {
     "name": "stdout",
     "output_type": "stream",
     "text": [
      "       Country  Boxes Shipped\n",
      "0    Australia     159.253659\n",
      "1       Canada     178.405714\n",
      "2        India     160.163043\n",
      "3  New Zealand     153.641618\n",
      "4           UK     170.028090\n",
      "5          USA     149.854749\n"
     ]
    }
   ],
   "source": [
    "avg_boxes_country = df.groupby('Country')['Boxes Shipped'].mean().reset_index()\n",
    "print(avg_boxes_country)"
   ]
  },
  {
   "cell_type": "code",
   "execution_count": 72,
   "id": "72729079-7c2d-4959-bf64-42ae9ce17bf0",
   "metadata": {},
   "outputs": [
    {
     "name": "stdout",
     "output_type": "stream",
     "text": [
      "Month\n",
      "2022-01    896105.0\n",
      "Freq: M, Name: Amount, dtype: float64\n"
     ]
    }
   ],
   "source": [
    "df['Month'] = df['Date'].dt.to_period('M')\n",
    "monthly_sales = df.groupby('Month')['Amount'].sum().sort_values(ascending=False)\n",
    "print(monthly_sales.head(1))"
   ]
  },
  {
   "cell_type": "code",
   "execution_count": 74,
   "id": "b2b978a6-c5b2-444a-bccb-c664e426ff33",
   "metadata": {},
   "outputs": [
    {
     "name": "stdout",
     "output_type": "stream",
     "text": [
      "Total unique products: 22\n"
     ]
    }
   ],
   "source": [
    "unique_products = df['Product'].nunique()\n",
    "print(f\"Total unique products: {unique_products}\")"
   ]
  },
  {
   "cell_type": "code",
   "execution_count": 76,
   "id": "8f62006f-c0c1-4988-8488-84913ef938eb",
   "metadata": {},
   "outputs": [
    {
     "name": "stdout",
     "output_type": "stream",
     "text": [
      "             Sales Person      Country              Product       Date  \\\n",
      "3            Jan Morforth    Australia  Peanut Butter Cubes 2022-04-27   \n",
      "4          Jehu Rudeforth           UK  Peanut Butter Cubes 2022-02-24   \n",
      "6              Oby Sorrel           UK      99% Dark & Pure 2022-01-25   \n",
      "31    Rafaelita Blaksland           UK      99% Dark & Pure 2022-06-29   \n",
      "41       Karlen McCaffrey          USA      Raspberry Choco 2022-04-15   \n",
      "...                   ...          ...                  ...        ...   \n",
      "1051          Van Tuxwell        India              Eclairs 2022-07-21   \n",
      "1067       Camilla Castle  New Zealand        85% Dark Bars 2022-08-08   \n",
      "1075      Roddy Speechley        India  Spicy Special Slims 2022-03-22   \n",
      "1081  Dennison Crosswaite          USA   Smooth Sliky Salty 2022-05-12   \n",
      "1083      Madelene Upcott  New Zealand            Milk Bars 2022-03-29   \n",
      "\n",
      "       Amount  Boxes Shipped    Month  \n",
      "3     12726.0            342  2022-04  \n",
      "4     13685.0            184  2022-02  \n",
      "6     13685.0            176  2022-01  \n",
      "31    12446.0            150  2022-06  \n",
      "41    14749.0            354  2022-04  \n",
      "...       ...            ...      ...  \n",
      "1051  10500.0            106  2022-07  \n",
      "1067  15099.0             55  2022-08  \n",
      "1075  10647.0            173  2022-03  \n",
      "1081  11781.0             91  2022-05  \n",
      "1083  12558.0            403  2022-03  \n",
      "\n",
      "[165 rows x 7 columns]\n"
     ]
    }
   ],
   "source": [
    "high_sales = df[df['Amount'] > 10000]\n",
    "print(high_sales)"
   ]
  },
  {
   "cell_type": "code",
   "execution_count": 78,
   "id": "b5ba8a37-d6b6-43e7-9708-30611028d5cd",
   "metadata": {},
   "outputs": [
    {
     "name": "stdout",
     "output_type": "stream",
     "text": [
      "                 Product    Amount  Boxes Shipped\n",
      "0         50% Dark Bites  341712.0           9792\n",
      "1         70% Dark Bites  211610.0           8015\n",
      "2          85% Dark Bars  299229.0           7793\n",
      "3        99% Dark & Pure  299796.0           8127\n",
      "4            After Nines  261331.0           8257\n",
      "5           Almond Choco  277536.0           6736\n",
      "6    Baker's Choco Chips  249613.0           6998\n",
      "7   Caramel Stuffed Bars  231588.0           8717\n",
      "8   Choco Coated Almonds  241486.0           6464\n",
      "9          Drinking Coco  256655.0           8660\n",
      "10               Eclairs  312445.0           8757\n",
      "11      Fruit & Nut Bars  259147.0           7738\n",
      "12    Manuka Honey Choco  275541.0           7781\n",
      "13             Milk Bars  269248.0           8330\n",
      "14       Mint Chip Choco  283969.0           8207\n",
      "15          Orange Choco  256144.0           7732\n",
      "16   Organic Choco Syrup  294700.0           7749\n",
      "17   Peanut Butter Cubes  324842.0           8304\n",
      "18       Raspberry Choco  264740.0           7115\n",
      "19    Smooth Sliky Salty  349692.0           8810\n",
      "20   Spicy Special Slims  293454.0           8685\n",
      "21            White Choc  329147.0           8240\n"
     ]
    }
   ],
   "source": [
    "product_summary = df.groupby('Product').agg({'Amount': 'sum', 'Boxes Shipped': 'sum'}).reset_index()\n",
    "print(product_summary)"
   ]
  },
  {
   "cell_type": "code",
   "execution_count": 80,
   "id": "03438e1f-25f9-4594-ba51-56f83a1dc738",
   "metadata": {},
   "outputs": [
    {
     "name": "stdout",
     "output_type": "stream",
     "text": [
      "              PLAYER NATIONALITY         TYPE                 TEAM  PRICE PAID\n",
      "0     Daryl Mitchell    Overseas  All-Rounder  Chennai Super Kings   140000000\n",
      "1       Sameer Rizvi      Indian       Batter  Chennai Super Kings    84000000\n",
      "2     Shardul Thakur      Indian  All-Rounder  Chennai Super Kings    40000000\n",
      "3  Mustafizur Rahman    Overseas       Bowler  Chennai Super Kings    20000000\n",
      "4    Rachin Ravindra    Overseas  All-Rounder  Chennai Super Kings    18000000\n"
     ]
    }
   ],
   "source": [
    "import pandas as pd\n",
    "\n",
    "df = pd.read_csv(r\"C:\\Users\\Lenovo\\Downloads\\archive\\auction.csv\")\n",
    "print(df.head())"
   ]
  },
  {
   "cell_type": "code",
   "execution_count": 82,
   "id": "945cb646-fbb3-4da6-8a6c-992b6db452f2",
   "metadata": {},
   "outputs": [
    {
     "name": "stdout",
     "output_type": "stream",
     "text": [
      "TEAM\n",
      "Kolkata Knight Riders          10\n",
      "Delhi Capitals                  9\n",
      "Gujarat Titans                  8\n",
      "Mumbai Indians                  8\n",
      "Punjab Kings                    8\n",
      "Chennai Super Kings             6\n",
      "Lucknow Super Giants            6\n",
      "Royal Challengers Bengaluru     6\n",
      "Sunrisers Hyderabad             6\n",
      "Rajasthan Royals                5\n",
      "Name: count, dtype: int64\n"
     ]
    }
   ],
   "source": [
    "players_per_team = df['TEAM'].value_counts()\n",
    "print(players_per_team)"
   ]
  },
  {
   "cell_type": "code",
   "execution_count": null,
   "id": "c9a4f59b-3ce0-4a20-bf55-c0e65fac4eed",
   "metadata": {},
   "outputs": [],
   "source": []
  }
 ],
 "metadata": {
  "kernelspec": {
   "display_name": "Python [conda env:base] *",
   "language": "python",
   "name": "conda-base-py"
  },
  "language_info": {
   "codemirror_mode": {
    "name": "ipython",
    "version": 3
   },
   "file_extension": ".py",
   "mimetype": "text/x-python",
   "name": "python",
   "nbconvert_exporter": "python",
   "pygments_lexer": "ipython3",
   "version": "3.12.7"
  }
 },
 "nbformat": 4,
 "nbformat_minor": 5
}
