{
 "cells": [
  {
   "cell_type": "code",
   "execution_count": 1,
   "id": "b8166976-b36e-4292-a6b0-35bdf6477158",
   "metadata": {},
   "outputs": [],
   "source": [
    "myname='lalli'"
   ]
  },
  {
   "cell_type": "code",
   "execution_count": 3,
   "id": "777c3468-a8f3-4270-b2ef-e184742b0afb",
   "metadata": {},
   "outputs": [
    {
     "name": "stdout",
     "output_type": "stream",
     "text": [
      "lalli\n"
     ]
    }
   ],
   "source": [
    "print(myname)"
   ]
  },
  {
   "cell_type": "code",
   "execution_count": 5,
   "id": "0e687e0e-a805-44c5-97da-7e5ead10296c",
   "metadata": {},
   "outputs": [
    {
     "data": {
      "text/plain": [
       "['__add__',\n",
       " '__class__',\n",
       " '__contains__',\n",
       " '__delattr__',\n",
       " '__dir__',\n",
       " '__doc__',\n",
       " '__eq__',\n",
       " '__format__',\n",
       " '__ge__',\n",
       " '__getattribute__',\n",
       " '__getitem__',\n",
       " '__getnewargs__',\n",
       " '__getstate__',\n",
       " '__gt__',\n",
       " '__hash__',\n",
       " '__init__',\n",
       " '__init_subclass__',\n",
       " '__iter__',\n",
       " '__le__',\n",
       " '__len__',\n",
       " '__lt__',\n",
       " '__mod__',\n",
       " '__mul__',\n",
       " '__ne__',\n",
       " '__new__',\n",
       " '__reduce__',\n",
       " '__reduce_ex__',\n",
       " '__repr__',\n",
       " '__rmod__',\n",
       " '__rmul__',\n",
       " '__setattr__',\n",
       " '__sizeof__',\n",
       " '__str__',\n",
       " '__subclasshook__',\n",
       " 'capitalize',\n",
       " 'casefold',\n",
       " 'center',\n",
       " 'count',\n",
       " 'encode',\n",
       " 'endswith',\n",
       " 'expandtabs',\n",
       " 'find',\n",
       " 'format',\n",
       " 'format_map',\n",
       " 'index',\n",
       " 'isalnum',\n",
       " 'isalpha',\n",
       " 'isascii',\n",
       " 'isdecimal',\n",
       " 'isdigit',\n",
       " 'isidentifier',\n",
       " 'islower',\n",
       " 'isnumeric',\n",
       " 'isprintable',\n",
       " 'isspace',\n",
       " 'istitle',\n",
       " 'isupper',\n",
       " 'join',\n",
       " 'ljust',\n",
       " 'lower',\n",
       " 'lstrip',\n",
       " 'maketrans',\n",
       " 'partition',\n",
       " 'removeprefix',\n",
       " 'removesuffix',\n",
       " 'replace',\n",
       " 'rfind',\n",
       " 'rindex',\n",
       " 'rjust',\n",
       " 'rpartition',\n",
       " 'rsplit',\n",
       " 'rstrip',\n",
       " 'split',\n",
       " 'splitlines',\n",
       " 'startswith',\n",
       " 'strip',\n",
       " 'swapcase',\n",
       " 'title',\n",
       " 'translate',\n",
       " 'upper',\n",
       " 'zfill']"
      ]
     },
     "execution_count": 5,
     "metadata": {},
     "output_type": "execute_result"
    }
   ],
   "source": [
    "dir(myname)"
   ]
  },
  {
   "cell_type": "markdown",
   "id": "d66e41a0-d245-491d-a152-4e15459c14d9",
   "metadata": {},
   "source": [
    "# LISTS & Lists Dir/Methods\n",
    "# 3 Methods of the inserting in list"
   ]
  },
  {
   "cell_type": "code",
   "execution_count": 9,
   "id": "09dd2471-ea4b-4e19-83a8-8cfcb4a51839",
   "metadata": {},
   "outputs": [
    {
     "data": {
      "text/plain": [
       "[1, 2, 3, 4, 5, 6, 7, 8, 9, 10]"
      ]
     },
     "execution_count": 9,
     "metadata": {},
     "output_type": "execute_result"
    }
   ],
   "source": [
    "mylist = list(range(1,11))\n",
    "mylist"
   ]
  },
  {
   "cell_type": "code",
   "execution_count": 11,
   "id": "0c7d85e6-4e7d-4a00-9fb2-18d5c14532d1",
   "metadata": {},
   "outputs": [],
   "source": [
    "mylist.append(11)"
   ]
  },
  {
   "cell_type": "code",
   "execution_count": 13,
   "id": "4f4c5376-f9ba-41f5-b061-f5bebaf36700",
   "metadata": {},
   "outputs": [
    {
     "data": {
      "text/plain": [
       "[1, 2, 3, 4, 5, 6, 7, 8, 9, 10, 11]"
      ]
     },
     "execution_count": 13,
     "metadata": {},
     "output_type": "execute_result"
    }
   ],
   "source": [
    "mylist"
   ]
  },
  {
   "cell_type": "code",
   "execution_count": 37,
   "id": "188f778a-b79e-42f6-a79c-59c9cd525fd4",
   "metadata": {},
   "outputs": [],
   "source": [
    "mylist.insert(1, \"Manu\")"
   ]
  },
  {
   "cell_type": "code",
   "execution_count": 39,
   "id": "ac2297aa-f359-44be-81c1-7fc293861fb7",
   "metadata": {},
   "outputs": [],
   "source": [
    "mylist.extend([\"Lalli\"])"
   ]
  },
  {
   "cell_type": "code",
   "execution_count": 41,
   "id": "348a6c66-c6af-4135-ac19-5dd212128da1",
   "metadata": {},
   "outputs": [
    {
     "data": {
      "text/plain": [
       "[1,\n",
       " 'Manu',\n",
       " 'Manu',\n",
       " 'Manu',\n",
       " 'Manu',\n",
       " 2,\n",
       " 3,\n",
       " 4,\n",
       " 5,\n",
       " 6,\n",
       " 7,\n",
       " 8,\n",
       " 9,\n",
       " 10,\n",
       " 11,\n",
       " 'Lalli',\n",
       " 'Lalli',\n",
       " 'Lalli']"
      ]
     },
     "execution_count": 41,
     "metadata": {},
     "output_type": "execute_result"
    }
   ],
   "source": [
    "mylist"
   ]
  },
  {
   "cell_type": "code",
   "execution_count": 45,
   "id": "141d0e44-9c5f-4985-89d9-dd3d6b013e98",
   "metadata": {},
   "outputs": [],
   "source": [
    "mylist.extend(\"sai\")"
   ]
  },
  {
   "cell_type": "code",
   "execution_count": 47,
   "id": "6ad77893-aaa5-4399-8219-a82e45b62a08",
   "metadata": {},
   "outputs": [
    {
     "data": {
      "text/plain": [
       "[1,\n",
       " 'Manu',\n",
       " 'Manu',\n",
       " 'Manu',\n",
       " 'Manu',\n",
       " 2,\n",
       " 3,\n",
       " 4,\n",
       " 5,\n",
       " 6,\n",
       " 7,\n",
       " 8,\n",
       " 9,\n",
       " 10,\n",
       " 11,\n",
       " 'Lalli',\n",
       " 'Lalli',\n",
       " 'Lalli',\n",
       " 's',\n",
       " 'a',\n",
       " 'i',\n",
       " 's',\n",
       " 'a',\n",
       " 'i']"
      ]
     },
     "execution_count": 47,
     "metadata": {},
     "output_type": "execute_result"
    }
   ],
   "source": [
    "mylist"
   ]
  },
  {
   "cell_type": "markdown",
   "id": "d0b3c5ee-54c3-4366-b1cb-4ddcd92e482b",
   "metadata": {},
   "source": [
    "# 3 WAYS of Deleteing processes in list"
   ]
  },
  {
   "cell_type": "markdown",
   "id": "1fb7bed0-70f9-4f43-a3f2-34a4d82704ff",
   "metadata": {},
   "source": [
    "# Based on index position it will be delete--> pop"
   ]
  },
  {
   "cell_type": "markdown",
   "id": "fd40db73-a7b9-4858-8b64-5287692c9f9a",
   "metadata": {},
   "source": [
    "# pop "
   ]
  },
  {
   "cell_type": "code",
   "execution_count": 60,
   "id": "f2f78bb6-4503-4c9b-bf71-e4a401ee98cf",
   "metadata": {},
   "outputs": [
    {
     "data": {
      "text/plain": [
       "[1,\n",
       " 'Manu',\n",
       " 'Manu',\n",
       " 'Manu',\n",
       " 'Manu',\n",
       " 2,\n",
       " 3,\n",
       " 4,\n",
       " 5,\n",
       " 6,\n",
       " 7,\n",
       " 8,\n",
       " 9,\n",
       " 10,\n",
       " 11,\n",
       " 'Lalli',\n",
       " 'Lalli',\n",
       " 'Lalli',\n",
       " 's',\n",
       " 'a',\n",
       " 'i',\n",
       " 's',\n",
       " 'a',\n",
       " 'i']"
      ]
     },
     "execution_count": 60,
     "metadata": {},
     "output_type": "execute_result"
    }
   ],
   "source": [
    "mylist"
   ]
  },
  {
   "cell_type": "code",
   "execution_count": 70,
   "id": "8cab059c-d6a5-4a56-9395-f65f9d0ab6cd",
   "metadata": {},
   "outputs": [
    {
     "data": {
      "text/plain": [
       "[1, 2, 3, 4, 5, 6, 7, 8, 9, 10]"
      ]
     },
     "execution_count": 70,
     "metadata": {},
     "output_type": "execute_result"
    }
   ],
   "source": [
    "a = list(range(1,11))\n",
    "a"
   ]
  },
  {
   "cell_type": "code",
   "execution_count": 72,
   "id": "287ee88d-1713-44d0-80f9-d2b2ee8fbb17",
   "metadata": {},
   "outputs": [
    {
     "data": {
      "text/plain": [
       "5"
      ]
     },
     "execution_count": 72,
     "metadata": {},
     "output_type": "execute_result"
    }
   ],
   "source": [
    "a.pop(4)"
   ]
  },
  {
   "cell_type": "code",
   "execution_count": 74,
   "id": "a839089f-87ae-4850-aeef-a051ba8b9077",
   "metadata": {},
   "outputs": [
    {
     "data": {
      "text/plain": [
       "[1, 2, 3, 4, 6, 7, 8, 9, 10]"
      ]
     },
     "execution_count": 74,
     "metadata": {},
     "output_type": "execute_result"
    }
   ],
   "source": [
    "a"
   ]
  },
  {
   "cell_type": "markdown",
   "id": "1a0fdf46-f956-4984-8016-8ba064c630fc",
   "metadata": {},
   "source": [
    "# Content ways if we have to delete----> remove (based on num)"
   ]
  },
  {
   "cell_type": "code",
   "execution_count": 85,
   "id": "0d14978e-106b-4d86-a89d-c93c5b5a8615",
   "metadata": {},
   "outputs": [
    {
     "data": {
      "text/plain": [
       "[1, 2, 3, 4, 7, 8, 9, 10]"
      ]
     },
     "execution_count": 85,
     "metadata": {},
     "output_type": "execute_result"
    }
   ],
   "source": [
    "a"
   ]
  },
  {
   "cell_type": "code",
   "execution_count": 91,
   "id": "36eaf999-cac6-4310-a85e-1903b7433c0f",
   "metadata": {},
   "outputs": [],
   "source": [
    "a.remove(2)"
   ]
  },
  {
   "cell_type": "code",
   "execution_count": 93,
   "id": "939c262a-2a84-4747-8f74-1382ee5ba8b2",
   "metadata": {},
   "outputs": [
    {
     "data": {
      "text/plain": [
       "[1, 3, 4, 7, 8, 9, 10]"
      ]
     },
     "execution_count": 93,
     "metadata": {},
     "output_type": "execute_result"
    }
   ],
   "source": [
    "a"
   ]
  },
  {
   "cell_type": "markdown",
   "id": "67766f63-9fd7-47d3-a3a1-576f0a557cf2",
   "metadata": {},
   "source": [
    "# everything will go in List contents-----> clear"
   ]
  },
  {
   "cell_type": "code",
   "execution_count": 102,
   "id": "b8f4f073-d608-4659-a314-173cc4e3bc3d",
   "metadata": {},
   "outputs": [],
   "source": [
    "a.clear()"
   ]
  },
  {
   "cell_type": "code",
   "execution_count": 104,
   "id": "d89257ef-b448-4a35-b996-496bee6ede14",
   "metadata": {},
   "outputs": [
    {
     "data": {
      "text/plain": [
       "[]"
      ]
     },
     "execution_count": 104,
     "metadata": {},
     "output_type": "execute_result"
    }
   ],
   "source": [
    "a"
   ]
  },
  {
   "cell_type": "code",
   "execution_count": 106,
   "id": "f5cd9744-f612-40d1-b845-cc690e8cd24b",
   "metadata": {},
   "outputs": [
    {
     "data": {
      "text/plain": [
       "[1,\n",
       " 'Manu',\n",
       " 'Manu',\n",
       " 2,\n",
       " 3,\n",
       " 4,\n",
       " 5,\n",
       " 6,\n",
       " 7,\n",
       " 8,\n",
       " 9,\n",
       " 10,\n",
       " 11,\n",
       " 'Lalli',\n",
       " 'Lalli',\n",
       " 'Lalli',\n",
       " 's',\n",
       " 'a',\n",
       " 'i',\n",
       " 's',\n",
       " 'a',\n",
       " 'i']"
      ]
     },
     "execution_count": 106,
     "metadata": {},
     "output_type": "execute_result"
    }
   ],
   "source": [
    "mylist"
   ]
  },
  {
   "cell_type": "code",
   "execution_count": 124,
   "id": "ad5c28a6-8161-4cb6-bc31-7778ee72f5e8",
   "metadata": {},
   "outputs": [
    {
     "data": {
      "text/plain": [
       "2"
      ]
     },
     "execution_count": 124,
     "metadata": {},
     "output_type": "execute_result"
    }
   ],
   "source": [
    "mylist.count('i')"
   ]
  },
  {
   "cell_type": "markdown",
   "id": "16b059fb-5142-4367-93ad-d26d07923c43",
   "metadata": {},
   "source": [
    "# Copy"
   ]
  },
  {
   "cell_type": "code",
   "execution_count": 127,
   "id": "6cd3fb01-515d-4733-a10e-84765ebcb55d",
   "metadata": {},
   "outputs": [],
   "source": [
    "a = list(range(1,11))"
   ]
  },
  {
   "cell_type": "code",
   "execution_count": 129,
   "id": "be2c6330-6faa-42e5-b9f7-3b2686ab336b",
   "metadata": {},
   "outputs": [
    {
     "data": {
      "text/plain": [
       "[1, 2, 3, 4, 5, 6, 7, 8, 9, 10]"
      ]
     },
     "execution_count": 129,
     "metadata": {},
     "output_type": "execute_result"
    }
   ],
   "source": [
    "a"
   ]
  },
  {
   "cell_type": "code",
   "execution_count": 133,
   "id": "39cbf95d-79f3-44d3-b8e7-f7ec42c5c35d",
   "metadata": {},
   "outputs": [
    {
     "data": {
      "text/plain": [
       "[1,\n",
       " 'Manu',\n",
       " 'Manu',\n",
       " 2,\n",
       " 3,\n",
       " 4,\n",
       " 5,\n",
       " 6,\n",
       " 7,\n",
       " 8,\n",
       " 9,\n",
       " 10,\n",
       " 11,\n",
       " 'Lalli',\n",
       " 'Lalli',\n",
       " 'Lalli',\n",
       " 's',\n",
       " 'a',\n",
       " 'i',\n",
       " 's',\n",
       " 'a',\n",
       " 'i']"
      ]
     },
     "execution_count": 133,
     "metadata": {},
     "output_type": "execute_result"
    }
   ],
   "source": [
    "mylist"
   ]
  },
  {
   "cell_type": "code",
   "execution_count": 135,
   "id": "98d8e66d-7942-4cf8-85ea-06deeaf1046f",
   "metadata": {},
   "outputs": [],
   "source": [
    "a=mylist"
   ]
  },
  {
   "cell_type": "code",
   "execution_count": 137,
   "id": "ddc8eb5b-03c3-4b87-b3bb-51c587368f89",
   "metadata": {},
   "outputs": [
    {
     "data": {
      "text/plain": [
       "[1,\n",
       " 'Manu',\n",
       " 'Manu',\n",
       " 2,\n",
       " 3,\n",
       " 4,\n",
       " 5,\n",
       " 6,\n",
       " 7,\n",
       " 8,\n",
       " 9,\n",
       " 10,\n",
       " 11,\n",
       " 'Lalli',\n",
       " 'Lalli',\n",
       " 'Lalli',\n",
       " 's',\n",
       " 'a',\n",
       " 'i',\n",
       " 's',\n",
       " 'a',\n",
       " 'i']"
      ]
     },
     "execution_count": 137,
     "metadata": {},
     "output_type": "execute_result"
    }
   ],
   "source": [
    "a"
   ]
  },
  {
   "cell_type": "code",
   "execution_count": 139,
   "id": "9f4bb8b9-0bca-4d49-a0af-87d5292b1f2a",
   "metadata": {},
   "outputs": [
    {
     "data": {
      "text/plain": [
       "[1,\n",
       " 'Manu',\n",
       " 'Manu',\n",
       " 2,\n",
       " 3,\n",
       " 4,\n",
       " 5,\n",
       " 6,\n",
       " 7,\n",
       " 8,\n",
       " 9,\n",
       " 10,\n",
       " 11,\n",
       " 'Lalli',\n",
       " 'Lalli',\n",
       " 'Lalli',\n",
       " 's',\n",
       " 'a',\n",
       " 'i',\n",
       " 's',\n",
       " 'a',\n",
       " 'i']"
      ]
     },
     "execution_count": 139,
     "metadata": {},
     "output_type": "execute_result"
    }
   ],
   "source": [
    "mylist"
   ]
  },
  {
   "cell_type": "code",
   "execution_count": 143,
   "id": "68ac448f-73d3-490a-9a05-88300e375592",
   "metadata": {},
   "outputs": [],
   "source": [
    "a.append(11)"
   ]
  },
  {
   "cell_type": "code",
   "execution_count": 145,
   "id": "6f412e10-e7bd-4ae1-82df-590b577acd7c",
   "metadata": {},
   "outputs": [
    {
     "data": {
      "text/plain": [
       "[1,\n",
       " 'Manu',\n",
       " 'Manu',\n",
       " 2,\n",
       " 3,\n",
       " 4,\n",
       " 5,\n",
       " 6,\n",
       " 7,\n",
       " 8,\n",
       " 9,\n",
       " 10,\n",
       " 11,\n",
       " 'Lalli',\n",
       " 'Lalli',\n",
       " 'Lalli',\n",
       " 's',\n",
       " 'a',\n",
       " 'i',\n",
       " 's',\n",
       " 'a',\n",
       " 'i',\n",
       " 11]"
      ]
     },
     "execution_count": 145,
     "metadata": {},
     "output_type": "execute_result"
    }
   ],
   "source": [
    "a"
   ]
  },
  {
   "cell_type": "code",
   "execution_count": 149,
   "id": "dd892d78-0242-4ef2-b164-8a9665f7080d",
   "metadata": {},
   "outputs": [],
   "source": [
    "b=mylist.copy()"
   ]
  },
  {
   "cell_type": "code",
   "execution_count": 152,
   "id": "a6b4f2fc-317a-4a7d-871f-d0f52829a043",
   "metadata": {},
   "outputs": [
    {
     "data": {
      "text/plain": [
       "[1,\n",
       " 'Manu',\n",
       " 'Manu',\n",
       " 2,\n",
       " 3,\n",
       " 4,\n",
       " 5,\n",
       " 6,\n",
       " 7,\n",
       " 8,\n",
       " 9,\n",
       " 10,\n",
       " 11,\n",
       " 'Lalli',\n",
       " 'Lalli',\n",
       " 'Lalli',\n",
       " 's',\n",
       " 'a',\n",
       " 'i',\n",
       " 's',\n",
       " 'a',\n",
       " 'i',\n",
       " 11]"
      ]
     },
     "execution_count": 152,
     "metadata": {},
     "output_type": "execute_result"
    }
   ],
   "source": [
    "b"
   ]
  },
  {
   "cell_type": "code",
   "execution_count": 154,
   "id": "f032dd10-dfed-4643-80c6-22a3e9b2be8b",
   "metadata": {},
   "outputs": [
    {
     "data": {
      "text/plain": [
       "[1,\n",
       " 'Manu',\n",
       " 'Manu',\n",
       " 2,\n",
       " 3,\n",
       " 4,\n",
       " 5,\n",
       " 6,\n",
       " 7,\n",
       " 8,\n",
       " 9,\n",
       " 10,\n",
       " 11,\n",
       " 'Lalli',\n",
       " 'Lalli',\n",
       " 'Lalli',\n",
       " 's',\n",
       " 'a',\n",
       " 'i',\n",
       " 's',\n",
       " 'a',\n",
       " 'i',\n",
       " 11]"
      ]
     },
     "execution_count": 154,
     "metadata": {},
     "output_type": "execute_result"
    }
   ],
   "source": [
    "b"
   ]
  },
  {
   "cell_type": "code",
   "execution_count": 156,
   "id": "04a7ba0a-4887-49e6-af23-b99dbed38a8d",
   "metadata": {},
   "outputs": [
    {
     "data": {
      "text/plain": [
       "[1,\n",
       " 'Manu',\n",
       " 'Manu',\n",
       " 2,\n",
       " 3,\n",
       " 4,\n",
       " 5,\n",
       " 6,\n",
       " 7,\n",
       " 8,\n",
       " 9,\n",
       " 10,\n",
       " 11,\n",
       " 'Lalli',\n",
       " 'Lalli',\n",
       " 'Lalli',\n",
       " 's',\n",
       " 'a',\n",
       " 'i',\n",
       " 's',\n",
       " 'a',\n",
       " 'i',\n",
       " 11]"
      ]
     },
     "execution_count": 156,
     "metadata": {},
     "output_type": "execute_result"
    }
   ],
   "source": [
    "a"
   ]
  },
  {
   "cell_type": "code",
   "execution_count": 158,
   "id": "88b48ee2-88ee-4b72-b745-9fc88d026f8f",
   "metadata": {},
   "outputs": [
    {
     "data": {
      "text/plain": [
       "[1,\n",
       " 'Manu',\n",
       " 'Manu',\n",
       " 2,\n",
       " 3,\n",
       " 4,\n",
       " 5,\n",
       " 6,\n",
       " 7,\n",
       " 8,\n",
       " 9,\n",
       " 10,\n",
       " 11,\n",
       " 'Lalli',\n",
       " 'Lalli',\n",
       " 'Lalli',\n",
       " 's',\n",
       " 'a',\n",
       " 'i',\n",
       " 's',\n",
       " 'a',\n",
       " 'i',\n",
       " 11]"
      ]
     },
     "execution_count": 158,
     "metadata": {},
     "output_type": "execute_result"
    }
   ],
   "source": [
    "b"
   ]
  },
  {
   "cell_type": "code",
   "execution_count": 162,
   "id": "8d248231-d813-41b1-9bc5-b78a695a5061",
   "metadata": {},
   "outputs": [
    {
     "data": {
      "text/plain": [
       "[1,\n",
       " 'Manu',\n",
       " 'Manu',\n",
       " 2,\n",
       " 3,\n",
       " 4,\n",
       " 5,\n",
       " 6,\n",
       " 7,\n",
       " 8,\n",
       " 9,\n",
       " 10,\n",
       " 11,\n",
       " 'Lalli',\n",
       " 'Lalli',\n",
       " 'Lalli',\n",
       " 's',\n",
       " 'a',\n",
       " 'i',\n",
       " 's',\n",
       " 'a',\n",
       " 'i',\n",
       " 11]"
      ]
     },
     "execution_count": 162,
     "metadata": {},
     "output_type": "execute_result"
    }
   ],
   "source": [
    "mylist"
   ]
  },
  {
   "cell_type": "markdown",
   "id": "5ddf3f5d-47dd-4e68-94e9-6f18b9b4615c",
   "metadata": {},
   "source": [
    "# COUNT"
   ]
  },
  {
   "cell_type": "code",
   "execution_count": 168,
   "id": "ee9dcb3e-54f1-4b67-9eed-b9c7404402bb",
   "metadata": {},
   "outputs": [
    {
     "data": {
      "text/plain": [
       "[1,\n",
       " 'Manu',\n",
       " 'Manu',\n",
       " 2,\n",
       " 3,\n",
       " 4,\n",
       " 5,\n",
       " 6,\n",
       " 7,\n",
       " 8,\n",
       " 9,\n",
       " 10,\n",
       " 11,\n",
       " 'Lalli',\n",
       " 'Lalli',\n",
       " 'Lalli',\n",
       " 's',\n",
       " 'a',\n",
       " 'i',\n",
       " 's',\n",
       " 'a',\n",
       " 'i',\n",
       " 11]"
      ]
     },
     "execution_count": 168,
     "metadata": {},
     "output_type": "execute_result"
    }
   ],
   "source": [
    "a"
   ]
  },
  {
   "cell_type": "code",
   "execution_count": 176,
   "id": "6bc6f164-9512-4556-9fb5-e2ef79d065b7",
   "metadata": {},
   "outputs": [],
   "source": [
    "a.append(20)"
   ]
  },
  {
   "cell_type": "code",
   "execution_count": 178,
   "id": "1cc5d326-9e67-4b41-a095-5aa71f894498",
   "metadata": {},
   "outputs": [
    {
     "data": {
      "text/plain": [
       "[1,\n",
       " 'Manu',\n",
       " 'Manu',\n",
       " 2,\n",
       " 3,\n",
       " 4,\n",
       " 5,\n",
       " 6,\n",
       " 7,\n",
       " 8,\n",
       " 9,\n",
       " 10,\n",
       " 11,\n",
       " 'Lalli',\n",
       " 'Lalli',\n",
       " 'Lalli',\n",
       " 's',\n",
       " 'a',\n",
       " 'i',\n",
       " 's',\n",
       " 'a',\n",
       " 'i',\n",
       " 11,\n",
       " 20,\n",
       " 20,\n",
       " 20,\n",
       " 20]"
      ]
     },
     "execution_count": 178,
     "metadata": {},
     "output_type": "execute_result"
    }
   ],
   "source": [
    "a"
   ]
  },
  {
   "cell_type": "code",
   "execution_count": 180,
   "id": "bd007913-bba8-4501-b2d2-8e5a3ea944db",
   "metadata": {},
   "outputs": [
    {
     "data": {
      "text/plain": [
       "4"
      ]
     },
     "execution_count": 180,
     "metadata": {},
     "output_type": "execute_result"
    }
   ],
   "source": [
    "a.count(20)"
   ]
  },
  {
   "cell_type": "code",
   "execution_count": 182,
   "id": "e9655247-5abf-43bb-bcc4-e0f0a1aa9630",
   "metadata": {},
   "outputs": [],
   "source": [
    "a.reverse()"
   ]
  },
  {
   "cell_type": "code",
   "execution_count": 184,
   "id": "9ff5bb06-c4c3-4667-af13-e175afe7bf76",
   "metadata": {},
   "outputs": [
    {
     "data": {
      "text/plain": [
       "[20,\n",
       " 20,\n",
       " 20,\n",
       " 20,\n",
       " 11,\n",
       " 'i',\n",
       " 'a',\n",
       " 's',\n",
       " 'i',\n",
       " 'a',\n",
       " 's',\n",
       " 'Lalli',\n",
       " 'Lalli',\n",
       " 'Lalli',\n",
       " 11,\n",
       " 10,\n",
       " 9,\n",
       " 8,\n",
       " 7,\n",
       " 6,\n",
       " 5,\n",
       " 4,\n",
       " 3,\n",
       " 2,\n",
       " 'Manu',\n",
       " 'Manu',\n",
       " 1]"
      ]
     },
     "execution_count": 184,
     "metadata": {},
     "output_type": "execute_result"
    }
   ],
   "source": [
    "a"
   ]
  },
  {
   "cell_type": "code",
   "execution_count": 188,
   "id": "b31dc49f-ce4c-4e47-9ae1-ab7dfb8175b0",
   "metadata": {},
   "outputs": [],
   "source": [
    "Mysort=list(range(1,20))"
   ]
  },
  {
   "cell_type": "code",
   "execution_count": 192,
   "id": "55cebcfa-7ce1-4cbc-a447-6eff588cf3d9",
   "metadata": {},
   "outputs": [
    {
     "data": {
      "text/plain": [
       "[1, 2, 3, 4, 5, 6, 7, 8, 9, 10, 11, 12, 13, 14, 15, 16, 17, 18, 19]"
      ]
     },
     "execution_count": 192,
     "metadata": {},
     "output_type": "execute_result"
    }
   ],
   "source": [
    "Mysort"
   ]
  },
  {
   "cell_type": "code",
   "execution_count": 194,
   "id": "28cd18fc-f6de-46f7-8954-de79f0ec9649",
   "metadata": {},
   "outputs": [],
   "source": [
    "Mysort.sort()"
   ]
  },
  {
   "cell_type": "code",
   "execution_count": 196,
   "id": "e36d6ace-906a-49e8-9dcd-42902ae5e40d",
   "metadata": {},
   "outputs": [
    {
     "data": {
      "text/plain": [
       "[1, 2, 3, 4, 5, 6, 7, 8, 9, 10, 11, 12, 13, 14, 15, 16, 17, 18, 19]"
      ]
     },
     "execution_count": 196,
     "metadata": {},
     "output_type": "execute_result"
    }
   ],
   "source": [
    "Mysort"
   ]
  },
  {
   "cell_type": "markdown",
   "id": "cb9a50d6-cd1e-4a84-a31d-d7643c302e8a",
   "metadata": {},
   "source": [
    "# List Comprehension\n",
    "# ● List Comprehension is used to create a new list from other iterables like set, tuple, list, dictionary, etc.\n",
    "# ● Example:"
   ]
  },
  {
   "cell_type": "code",
   "execution_count": 9,
   "id": "18ad45cd-1d2e-4cb7-aaf1-9b6b55de401b",
   "metadata": {},
   "outputs": [
    {
     "name": "stdout",
     "output_type": "stream",
     "text": [
      "[1, 4, 9, 16, 25, 36, 49, 64, 81]\n"
     ]
    }
   ],
   "source": [
    "list1 = [x**2 for x in range(1, 10)]\n",
    "print(list1)"
   ]
  },
  {
   "cell_type": "code",
   "execution_count": 11,
   "id": "e241d567-b5a0-4962-b412-a4a552d681aa",
   "metadata": {},
   "outputs": [
    {
     "name": "stdout",
     "output_type": "stream",
     "text": [
      "[1, 16, 81, 256, 625]\n"
     ]
    }
   ],
   "source": [
    "list2 = [x**4 for x in range(1, 6)]\n",
    "print(list2)"
   ]
  },
  {
   "cell_type": "markdown",
   "id": "ceb13fb1-d65f-42a0-9b63-b09f5710ac78",
   "metadata": {},
   "source": [
    "# Creating a list in python.\n",
    "# 4 ways"
   ]
  },
  {
   "cell_type": "code",
   "execution_count": 15,
   "id": "206dcceb-5b68-4340-938e-bcf9c45f0c54",
   "metadata": {},
   "outputs": [],
   "source": [
    "list1 = ['Python']\n",
    "list2 = ['Python', 'Programming']\n",
    "list3 = [[1, 2, 3,], 4, 5, 6, [7,[8, 9], 10]]\n",
    "list4 = list(\"Python\")"
   ]
  },
  {
   "cell_type": "code",
   "execution_count": 17,
   "id": "a1c76cbb-936c-441c-a4b9-eaa2e9ad0dbb",
   "metadata": {},
   "outputs": [
    {
     "name": "stdout",
     "output_type": "stream",
     "text": [
      "['Python']\n",
      "['Python', 'Programming']\n",
      "[[1, 2, 3], 4, 5, 6, [7, [8, 9], 10]]\n",
      "['P', 'y', 't', 'h', 'o', 'n']\n"
     ]
    }
   ],
   "source": [
    "print(list1)\n",
    "print(list2)\n",
    "print(list3)\n",
    "print(list4)"
   ]
  },
  {
   "cell_type": "code",
   "execution_count": 23,
   "id": "0ff32d5f-4273-4101-b972-3a05a5c6113c",
   "metadata": {},
   "outputs": [
    {
     "data": {
      "text/plain": [
       "['manu']"
      ]
     },
     "execution_count": 23,
     "metadata": {},
     "output_type": "execute_result"
    }
   ],
   "source": [
    "lista=['manu']\n",
    "lista"
   ]
  },
  {
   "cell_type": "code",
   "execution_count": 25,
   "id": "134608f3-1813-496d-89d3-c6bb7dd6b3d6",
   "metadata": {},
   "outputs": [
    {
     "data": {
      "text/plain": [
       "['manu', 'lalli']"
      ]
     },
     "execution_count": 25,
     "metadata": {},
     "output_type": "execute_result"
    }
   ],
   "source": [
    "listb=['manu','lalli']\n",
    "listb"
   ]
  },
  {
   "cell_type": "code",
   "execution_count": 27,
   "id": "cc46ad58-ffc3-44a6-af4c-e8a611c61b49",
   "metadata": {},
   "outputs": [
    {
     "data": {
      "text/plain": [
       "[[1, 2, 3, 4], 5, 6, 7, 8, [9, [10, 11], 12]]"
      ]
     },
     "execution_count": 27,
     "metadata": {},
     "output_type": "execute_result"
    }
   ],
   "source": [
    "listc=[[1,2,3,4], 5, 6, 7, 8, [9,[10, 11], 12]]\n",
    "listc"
   ]
  },
  {
   "cell_type": "code",
   "execution_count": 31,
   "id": "aa30cb66-c53a-4f1c-8d06-87e783a6b12d",
   "metadata": {},
   "outputs": [
    {
     "data": {
      "text/plain": [
       "['c', 'h', 'i', 't', 't', 'i']"
      ]
     },
     "execution_count": 31,
     "metadata": {},
     "output_type": "execute_result"
    }
   ],
   "source": [
    "listd=list((\"chitti\"))\n",
    "listd"
   ]
  },
  {
   "cell_type": "code",
   "execution_count": 35,
   "id": "a61df7a2-8ab3-485e-8ad7-b39ee14ca11a",
   "metadata": {},
   "outputs": [
    {
     "data": {
      "text/plain": [
       "['c', 'h', 'i', 't', 't', 'i']"
      ]
     },
     "execution_count": 35,
     "metadata": {},
     "output_type": "execute_result"
    }
   ],
   "source": [
    "listd=list(\"chitti\")\n",
    "listd"
   ]
  },
  {
   "cell_type": "code",
   "execution_count": null,
   "id": "61861cad-c2c6-49e1-b656-8c2b7cb5bf83",
   "metadata": {},
   "outputs": [],
   "source": []
  },
  {
   "cell_type": "code",
   "execution_count": null,
   "id": "d408c0e8-1ba7-428c-8e4d-b07068f27806",
   "metadata": {},
   "outputs": [],
   "source": []
  },
  {
   "cell_type": "code",
   "execution_count": null,
   "id": "57fd0b08-405c-40cb-8c37-78bc097502b4",
   "metadata": {},
   "outputs": [],
   "source": []
  },
  {
   "cell_type": "markdown",
   "id": "f100cef9-7a80-4c5a-bacf-e248ff512f81",
   "metadata": {},
   "source": [
    "# SETS\n",
    "# -->we have to give empty set within the list"
   ]
  },
  {
   "cell_type": "code",
   "execution_count": 26,
   "id": "7314f91a-5958-4fbf-8ed7-541c3286b502",
   "metadata": {},
   "outputs": [],
   "source": [
    "mylist=list(range(1,11))"
   ]
  },
  {
   "cell_type": "code",
   "execution_count": 28,
   "id": "83296d1f-3017-4c99-9f14-e99dca7438ef",
   "metadata": {},
   "outputs": [
    {
     "data": {
      "text/plain": [
       "[1, 2, 3, 4, 5, 6, 7, 8, 9, 10]"
      ]
     },
     "execution_count": 28,
     "metadata": {},
     "output_type": "execute_result"
    }
   ],
   "source": [
    "mylist"
   ]
  },
  {
   "cell_type": "code",
   "execution_count": 30,
   "id": "586e83b0-c4f4-4b27-a032-cba78de44637",
   "metadata": {},
   "outputs": [],
   "source": [
    "myset={}"
   ]
  },
  {
   "cell_type": "code",
   "execution_count": 32,
   "id": "5a6cea27-0051-4d32-b67c-b58ef7ce0982",
   "metadata": {},
   "outputs": [
    {
     "data": {
      "text/plain": [
       "{}"
      ]
     },
     "execution_count": 32,
     "metadata": {},
     "output_type": "execute_result"
    }
   ],
   "source": [
    "myset"
   ]
  },
  {
   "cell_type": "code",
   "execution_count": 40,
   "id": "fe06c17c-9db2-45dd-8caf-bf1adfe2b5ba",
   "metadata": {},
   "outputs": [
    {
     "data": {
      "text/plain": [
       "[1, 2, 3, 4, 5, 6, 7, 8, 9, 10]"
      ]
     },
     "execution_count": 40,
     "metadata": {},
     "output_type": "execute_result"
    }
   ],
   "source": [
    "mylist"
   ]
  },
  {
   "cell_type": "code",
   "execution_count": 42,
   "id": "a74366cc-2eff-46f5-b142-6698ae76dd34",
   "metadata": {},
   "outputs": [
    {
     "data": {
      "text/plain": [
       "{}"
      ]
     },
     "execution_count": 42,
     "metadata": {},
     "output_type": "execute_result"
    }
   ],
   "source": [
    "myset"
   ]
  },
  {
   "cell_type": "code",
   "execution_count": 50,
   "id": "c0675886-1b00-4b83-848e-8cd70c99660b",
   "metadata": {},
   "outputs": [],
   "source": [
    "myset=set(mylist)"
   ]
  },
  {
   "cell_type": "code",
   "execution_count": 52,
   "id": "68b2be13-cc7f-494a-a8e5-1dc1321cb871",
   "metadata": {},
   "outputs": [
    {
     "data": {
      "text/plain": [
       "{1, 2, 3, 4, 5, 6, 7, 8, 9, 10}"
      ]
     },
     "execution_count": 52,
     "metadata": {},
     "output_type": "execute_result"
    }
   ],
   "source": [
    "myset"
   ]
  },
  {
   "cell_type": "code",
   "execution_count": null,
   "id": "bb313d80-946c-4049-88e1-5a7fcb6f84c0",
   "metadata": {},
   "outputs": [],
   "source": []
  },
  {
   "cell_type": "code",
   "execution_count": 55,
   "id": "c4a62ab4-c650-4df1-8af7-b0afe393ec66",
   "metadata": {},
   "outputs": [
    {
     "data": {
      "text/plain": [
       "['__and__',\n",
       " '__class__',\n",
       " '__class_getitem__',\n",
       " '__contains__',\n",
       " '__delattr__',\n",
       " '__dir__',\n",
       " '__doc__',\n",
       " '__eq__',\n",
       " '__format__',\n",
       " '__ge__',\n",
       " '__getattribute__',\n",
       " '__getstate__',\n",
       " '__gt__',\n",
       " '__hash__',\n",
       " '__iand__',\n",
       " '__init__',\n",
       " '__init_subclass__',\n",
       " '__ior__',\n",
       " '__isub__',\n",
       " '__iter__',\n",
       " '__ixor__',\n",
       " '__le__',\n",
       " '__len__',\n",
       " '__lt__',\n",
       " '__ne__',\n",
       " '__new__',\n",
       " '__or__',\n",
       " '__rand__',\n",
       " '__reduce__',\n",
       " '__reduce_ex__',\n",
       " '__repr__',\n",
       " '__ror__',\n",
       " '__rsub__',\n",
       " '__rxor__',\n",
       " '__setattr__',\n",
       " '__sizeof__',\n",
       " '__str__',\n",
       " '__sub__',\n",
       " '__subclasshook__',\n",
       " '__xor__',\n",
       " 'add',\n",
       " 'clear',\n",
       " 'copy',\n",
       " 'difference',\n",
       " 'difference_update',\n",
       " 'discard',\n",
       " 'intersection',\n",
       " 'intersection_update',\n",
       " 'isdisjoint',\n",
       " 'issubset',\n",
       " 'issuperset',\n",
       " 'pop',\n",
       " 'remove',\n",
       " 'symmetric_difference',\n",
       " 'symmetric_difference_update',\n",
       " 'union',\n",
       " 'update']"
      ]
     },
     "execution_count": 55,
     "metadata": {},
     "output_type": "execute_result"
    }
   ],
   "source": [
    "dir(myset)"
   ]
  },
  {
   "cell_type": "code",
   "execution_count": 57,
   "id": "99b14002-43c4-4923-a6dc-d0cff53d562d",
   "metadata": {},
   "outputs": [
    {
     "data": {
      "text/plain": [
       "['__add__',\n",
       " '__class__',\n",
       " '__class_getitem__',\n",
       " '__contains__',\n",
       " '__delattr__',\n",
       " '__delitem__',\n",
       " '__dir__',\n",
       " '__doc__',\n",
       " '__eq__',\n",
       " '__format__',\n",
       " '__ge__',\n",
       " '__getattribute__',\n",
       " '__getitem__',\n",
       " '__getstate__',\n",
       " '__gt__',\n",
       " '__hash__',\n",
       " '__iadd__',\n",
       " '__imul__',\n",
       " '__init__',\n",
       " '__init_subclass__',\n",
       " '__iter__',\n",
       " '__le__',\n",
       " '__len__',\n",
       " '__lt__',\n",
       " '__mul__',\n",
       " '__ne__',\n",
       " '__new__',\n",
       " '__reduce__',\n",
       " '__reduce_ex__',\n",
       " '__repr__',\n",
       " '__reversed__',\n",
       " '__rmul__',\n",
       " '__setattr__',\n",
       " '__setitem__',\n",
       " '__sizeof__',\n",
       " '__str__',\n",
       " '__subclasshook__',\n",
       " 'append',\n",
       " 'clear',\n",
       " 'copy',\n",
       " 'count',\n",
       " 'extend',\n",
       " 'index',\n",
       " 'insert',\n",
       " 'pop',\n",
       " 'remove',\n",
       " 'reverse',\n",
       " 'sort']"
      ]
     },
     "execution_count": 57,
     "metadata": {},
     "output_type": "execute_result"
    }
   ],
   "source": [
    "dir(mylist)"
   ]
  },
  {
   "cell_type": "code",
   "execution_count": null,
   "id": "791e8795-78df-4387-a724-11adac41963f",
   "metadata": {},
   "outputs": [],
   "source": []
  }
 ],
 "metadata": {
  "kernelspec": {
   "display_name": "Python 3 (ipykernel)",
   "language": "python",
   "name": "python3"
  },
  "language_info": {
   "codemirror_mode": {
    "name": "ipython",
    "version": 3
   },
   "file_extension": ".py",
   "mimetype": "text/x-python",
   "name": "python",
   "nbconvert_exporter": "python",
   "pygments_lexer": "ipython3",
   "version": "3.12.7"
  }
 },
 "nbformat": 4,
 "nbformat_minor": 5
}
