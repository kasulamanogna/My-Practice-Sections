{
 "cells": [
  {
   "cell_type": "code",
   "execution_count": 1,
   "id": "74c93df5-5e7b-4f86-8f58-16ac295ec07e",
   "metadata": {},
   "outputs": [],
   "source": [
    "import pandas as pd\n",
    "import numpy as np\n",
    "import matplotlib.pyplot as plt\n",
    "%matplotlib inline\n",
    "import seaborn as sns\n",
    "import warnings"
   ]
  },
  {
   "cell_type": "code",
   "execution_count": 7,
   "id": "3b15d46b-84c1-4661-a81a-c7ee883b238c",
   "metadata": {},
   "outputs": [],
   "source": [
    "df = pd.read_excel(r\"C:\\Users\\Lenovo\\Downloads\\hr-data-analysis.xlsx\")"
   ]
  },
  {
   "cell_type": "code",
   "execution_count": 8,
   "id": "0e7868bb-7d44-4ccc-b097-806f8a7ad30f",
   "metadata": {},
   "outputs": [
    {
     "data": {
      "text/html": [
       "<div>\n",
       "<style scoped>\n",
       "    .dataframe tbody tr th:only-of-type {\n",
       "        vertical-align: middle;\n",
       "    }\n",
       "\n",
       "    .dataframe tbody tr th {\n",
       "        vertical-align: top;\n",
       "    }\n",
       "\n",
       "    .dataframe thead th {\n",
       "        text-align: right;\n",
       "    }\n",
       "</style>\n",
       "<table border=\"1\" class=\"dataframe\">\n",
       "  <thead>\n",
       "    <tr style=\"text-align: right;\">\n",
       "      <th></th>\n",
       "      <th>Name</th>\n",
       "      <th>Emp ID</th>\n",
       "      <th>Gender</th>\n",
       "      <th>Education Qualification</th>\n",
       "      <th>Date of Join</th>\n",
       "      <th>Job Title</th>\n",
       "      <th>Salary</th>\n",
       "      <th>Age</th>\n",
       "      <th>Leave Balance</th>\n",
       "    </tr>\n",
       "  </thead>\n",
       "  <tbody>\n",
       "    <tr>\n",
       "      <th>0</th>\n",
       "      <td>Barr Faughny</td>\n",
       "      <td>AC0001</td>\n",
       "      <td>Male</td>\n",
       "      <td>Bachelor's Degree</td>\n",
       "      <td>2020-06-12</td>\n",
       "      <td>Chocolatier</td>\n",
       "      <td>51300</td>\n",
       "      <td>26.0</td>\n",
       "      <td>13</td>\n",
       "    </tr>\n",
       "    <tr>\n",
       "      <th>1</th>\n",
       "      <td>Dennison Crosswaite</td>\n",
       "      <td>AC0002</td>\n",
       "      <td>Female</td>\n",
       "      <td>Diploma</td>\n",
       "      <td>2021-02-18</td>\n",
       "      <td>Production Operator</td>\n",
       "      <td>38300</td>\n",
       "      <td>32.7</td>\n",
       "      <td>12</td>\n",
       "    </tr>\n",
       "    <tr>\n",
       "      <th>2</th>\n",
       "      <td>Gunar Cockshoot</td>\n",
       "      <td>AC0003</td>\n",
       "      <td>Male</td>\n",
       "      <td>High School Diploma</td>\n",
       "      <td>2022-09-05</td>\n",
       "      <td>Packaging Associate</td>\n",
       "      <td>31400</td>\n",
       "      <td>34.3</td>\n",
       "      <td>16</td>\n",
       "    </tr>\n",
       "    <tr>\n",
       "      <th>3</th>\n",
       "      <td>Wilone O'Kielt</td>\n",
       "      <td>AC0004</td>\n",
       "      <td>Female</td>\n",
       "      <td>Bachelor's Degree</td>\n",
       "      <td>2019-11-20</td>\n",
       "      <td>Marketing Specialist</td>\n",
       "      <td>60700</td>\n",
       "      <td>29.6</td>\n",
       "      <td>21</td>\n",
       "    </tr>\n",
       "    <tr>\n",
       "      <th>4</th>\n",
       "      <td>Gigi Bohling</td>\n",
       "      <td>AC0005</td>\n",
       "      <td>Male</td>\n",
       "      <td>Master's Degree</td>\n",
       "      <td>2018-04-08</td>\n",
       "      <td>Research Scientist</td>\n",
       "      <td>77300</td>\n",
       "      <td>30.3</td>\n",
       "      <td>23</td>\n",
       "    </tr>\n",
       "    <tr>\n",
       "      <th>...</th>\n",
       "      <td>...</td>\n",
       "      <td>...</td>\n",
       "      <td>...</td>\n",
       "      <td>...</td>\n",
       "      <td>...</td>\n",
       "      <td>...</td>\n",
       "      <td>...</td>\n",
       "      <td>...</td>\n",
       "      <td>...</td>\n",
       "    </tr>\n",
       "    <tr>\n",
       "      <th>156</th>\n",
       "      <td>Michael Walkson</td>\n",
       "      <td>AC0157</td>\n",
       "      <td>Male</td>\n",
       "      <td>Master's Degree</td>\n",
       "      <td>2017-11-26</td>\n",
       "      <td>Product Manager</td>\n",
       "      <td>82300</td>\n",
       "      <td>34.4</td>\n",
       "      <td>18</td>\n",
       "    </tr>\n",
       "    <tr>\n",
       "      <th>157</th>\n",
       "      <td>Anaya Agarwal</td>\n",
       "      <td>AC0158</td>\n",
       "      <td>Female</td>\n",
       "      <td>High School Diploma</td>\n",
       "      <td>2023-04-09</td>\n",
       "      <td>Chocolatier</td>\n",
       "      <td>52900</td>\n",
       "      <td>30.5</td>\n",
       "      <td>8</td>\n",
       "    </tr>\n",
       "    <tr>\n",
       "      <th>158</th>\n",
       "      <td>Krish Rawat</td>\n",
       "      <td>AC0159</td>\n",
       "      <td>Male</td>\n",
       "      <td>Diploma</td>\n",
       "      <td>2020-06-02</td>\n",
       "      <td>Marketing Manager</td>\n",
       "      <td>71100</td>\n",
       "      <td>31.6</td>\n",
       "      <td>13</td>\n",
       "    </tr>\n",
       "    <tr>\n",
       "      <th>159</th>\n",
       "      <td>Siya Sharma</td>\n",
       "      <td>AC0160</td>\n",
       "      <td>Female</td>\n",
       "      <td>Bachelor's Degree</td>\n",
       "      <td>2019-08-26</td>\n",
       "      <td>Research Scientist</td>\n",
       "      <td>76900</td>\n",
       "      <td>33.2</td>\n",
       "      <td>17</td>\n",
       "    </tr>\n",
       "    <tr>\n",
       "      <th>160</th>\n",
       "      <td>Kabir Trivedi</td>\n",
       "      <td>AC0161</td>\n",
       "      <td>Male</td>\n",
       "      <td>High School Diploma</td>\n",
       "      <td>2022-03-19</td>\n",
       "      <td>Sales Representative</td>\n",
       "      <td>46400</td>\n",
       "      <td>37.1</td>\n",
       "      <td>11</td>\n",
       "    </tr>\n",
       "  </tbody>\n",
       "</table>\n",
       "<p>161 rows × 9 columns</p>\n",
       "</div>"
      ],
      "text/plain": [
       "                    Name  Emp ID  Gender Education Qualification Date of Join  \\\n",
       "0           Barr Faughny  AC0001    Male       Bachelor's Degree   2020-06-12   \n",
       "1    Dennison Crosswaite  AC0002  Female                 Diploma   2021-02-18   \n",
       "2        Gunar Cockshoot  AC0003    Male     High School Diploma   2022-09-05   \n",
       "3         Wilone O'Kielt  AC0004  Female       Bachelor's Degree   2019-11-20   \n",
       "4           Gigi Bohling  AC0005    Male         Master's Degree   2018-04-08   \n",
       "..                   ...     ...     ...                     ...          ...   \n",
       "156      Michael Walkson  AC0157    Male         Master's Degree   2017-11-26   \n",
       "157        Anaya Agarwal  AC0158  Female     High School Diploma   2023-04-09   \n",
       "158          Krish Rawat  AC0159    Male                 Diploma   2020-06-02   \n",
       "159          Siya Sharma  AC0160  Female       Bachelor's Degree   2019-08-26   \n",
       "160        Kabir Trivedi  AC0161    Male     High School Diploma   2022-03-19   \n",
       "\n",
       "                Job Title  Salary   Age  Leave Balance  \n",
       "0             Chocolatier   51300  26.0             13  \n",
       "1     Production Operator   38300  32.7             12  \n",
       "2     Packaging Associate   31400  34.3             16  \n",
       "3    Marketing Specialist   60700  29.6             21  \n",
       "4      Research Scientist   77300  30.3             23  \n",
       "..                    ...     ...   ...            ...  \n",
       "156       Product Manager   82300  34.4             18  \n",
       "157           Chocolatier   52900  30.5              8  \n",
       "158     Marketing Manager   71100  31.6             13  \n",
       "159    Research Scientist   76900  33.2             17  \n",
       "160  Sales Representative   46400  37.1             11  \n",
       "\n",
       "[161 rows x 9 columns]"
      ]
     },
     "execution_count": 8,
     "metadata": {},
     "output_type": "execute_result"
    }
   ],
   "source": [
    "df"
   ]
  },
  {
   "cell_type": "code",
   "execution_count": 10,
   "id": "32a911fe-b9e9-4cec-9da1-b2c0c97d8376",
   "metadata": {},
   "outputs": [
    {
     "data": {
      "text/html": [
       "<div>\n",
       "<style scoped>\n",
       "    .dataframe tbody tr th:only-of-type {\n",
       "        vertical-align: middle;\n",
       "    }\n",
       "\n",
       "    .dataframe tbody tr th {\n",
       "        vertical-align: top;\n",
       "    }\n",
       "\n",
       "    .dataframe thead th {\n",
       "        text-align: right;\n",
       "    }\n",
       "</style>\n",
       "<table border=\"1\" class=\"dataframe\">\n",
       "  <thead>\n",
       "    <tr style=\"text-align: right;\">\n",
       "      <th></th>\n",
       "      <th>Name</th>\n",
       "      <th>Emp ID</th>\n",
       "      <th>Gender</th>\n",
       "      <th>Education Qualification</th>\n",
       "      <th>Date of Join</th>\n",
       "      <th>Job Title</th>\n",
       "      <th>Salary</th>\n",
       "      <th>Age</th>\n",
       "      <th>Leave Balance</th>\n",
       "    </tr>\n",
       "  </thead>\n",
       "  <tbody>\n",
       "    <tr>\n",
       "      <th>0</th>\n",
       "      <td>Barr Faughny</td>\n",
       "      <td>AC0001</td>\n",
       "      <td>Male</td>\n",
       "      <td>Bachelor's Degree</td>\n",
       "      <td>2020-06-12</td>\n",
       "      <td>Chocolatier</td>\n",
       "      <td>51300</td>\n",
       "      <td>26.0</td>\n",
       "      <td>13</td>\n",
       "    </tr>\n",
       "    <tr>\n",
       "      <th>1</th>\n",
       "      <td>Dennison Crosswaite</td>\n",
       "      <td>AC0002</td>\n",
       "      <td>Female</td>\n",
       "      <td>Diploma</td>\n",
       "      <td>2021-02-18</td>\n",
       "      <td>Production Operator</td>\n",
       "      <td>38300</td>\n",
       "      <td>32.7</td>\n",
       "      <td>12</td>\n",
       "    </tr>\n",
       "    <tr>\n",
       "      <th>2</th>\n",
       "      <td>Gunar Cockshoot</td>\n",
       "      <td>AC0003</td>\n",
       "      <td>Male</td>\n",
       "      <td>High School Diploma</td>\n",
       "      <td>2022-09-05</td>\n",
       "      <td>Packaging Associate</td>\n",
       "      <td>31400</td>\n",
       "      <td>34.3</td>\n",
       "      <td>16</td>\n",
       "    </tr>\n",
       "    <tr>\n",
       "      <th>3</th>\n",
       "      <td>Wilone O'Kielt</td>\n",
       "      <td>AC0004</td>\n",
       "      <td>Female</td>\n",
       "      <td>Bachelor's Degree</td>\n",
       "      <td>2019-11-20</td>\n",
       "      <td>Marketing Specialist</td>\n",
       "      <td>60700</td>\n",
       "      <td>29.6</td>\n",
       "      <td>21</td>\n",
       "    </tr>\n",
       "    <tr>\n",
       "      <th>4</th>\n",
       "      <td>Gigi Bohling</td>\n",
       "      <td>AC0005</td>\n",
       "      <td>Male</td>\n",
       "      <td>Master's Degree</td>\n",
       "      <td>2018-04-08</td>\n",
       "      <td>Research Scientist</td>\n",
       "      <td>77300</td>\n",
       "      <td>30.3</td>\n",
       "      <td>23</td>\n",
       "    </tr>\n",
       "    <tr>\n",
       "      <th>5</th>\n",
       "      <td>Curtice Advani</td>\n",
       "      <td>AC0006</td>\n",
       "      <td>Female</td>\n",
       "      <td>Bachelor's Degree</td>\n",
       "      <td>2023-03-14</td>\n",
       "      <td>Sales Representative</td>\n",
       "      <td>49800</td>\n",
       "      <td>37.7</td>\n",
       "      <td>23</td>\n",
       "    </tr>\n",
       "    <tr>\n",
       "      <th>6</th>\n",
       "      <td>Kaine Padly</td>\n",
       "      <td>AC0007</td>\n",
       "      <td>Male</td>\n",
       "      <td>High School Diploma</td>\n",
       "      <td>2022-01-02</td>\n",
       "      <td>Production Operator</td>\n",
       "      <td>33000</td>\n",
       "      <td>31.8</td>\n",
       "      <td>24</td>\n",
       "    </tr>\n",
       "    <tr>\n",
       "      <th>7</th>\n",
       "      <td>Ches Bonnell</td>\n",
       "      <td>AC0008</td>\n",
       "      <td>Female</td>\n",
       "      <td>Diploma</td>\n",
       "      <td>2020-07-19</td>\n",
       "      <td>Quality Control</td>\n",
       "      <td>41900</td>\n",
       "      <td>35.9</td>\n",
       "      <td>17</td>\n",
       "    </tr>\n",
       "    <tr>\n",
       "      <th>8</th>\n",
       "      <td>Andria Kimpton</td>\n",
       "      <td>AC0009</td>\n",
       "      <td>Male</td>\n",
       "      <td>Bachelor's Degree</td>\n",
       "      <td>2021-11-10</td>\n",
       "      <td>Research Analyst</td>\n",
       "      <td>58100</td>\n",
       "      <td>31.0</td>\n",
       "      <td>16</td>\n",
       "    </tr>\n",
       "    <tr>\n",
       "      <th>9</th>\n",
       "      <td>Brien Boise</td>\n",
       "      <td>AC0010</td>\n",
       "      <td>Female</td>\n",
       "      <td>Master's Degree</td>\n",
       "      <td>2019-06-25</td>\n",
       "      <td>Product Manager</td>\n",
       "      <td>82900</td>\n",
       "      <td>31.1</td>\n",
       "      <td>17</td>\n",
       "    </tr>\n",
       "  </tbody>\n",
       "</table>\n",
       "</div>"
      ],
      "text/plain": [
       "                  Name  Emp ID  Gender Education Qualification Date of Join  \\\n",
       "0         Barr Faughny  AC0001    Male       Bachelor's Degree   2020-06-12   \n",
       "1  Dennison Crosswaite  AC0002  Female                 Diploma   2021-02-18   \n",
       "2      Gunar Cockshoot  AC0003    Male     High School Diploma   2022-09-05   \n",
       "3       Wilone O'Kielt  AC0004  Female       Bachelor's Degree   2019-11-20   \n",
       "4         Gigi Bohling  AC0005    Male         Master's Degree   2018-04-08   \n",
       "5       Curtice Advani  AC0006  Female       Bachelor's Degree   2023-03-14   \n",
       "6          Kaine Padly  AC0007    Male     High School Diploma   2022-01-02   \n",
       "7         Ches Bonnell  AC0008  Female                 Diploma   2020-07-19   \n",
       "8       Andria Kimpton  AC0009    Male       Bachelor's Degree   2021-11-10   \n",
       "9          Brien Boise  AC0010  Female         Master's Degree   2019-06-25   \n",
       "\n",
       "              Job Title  Salary   Age  Leave Balance  \n",
       "0           Chocolatier   51300  26.0             13  \n",
       "1   Production Operator   38300  32.7             12  \n",
       "2   Packaging Associate   31400  34.3             16  \n",
       "3  Marketing Specialist   60700  29.6             21  \n",
       "4    Research Scientist   77300  30.3             23  \n",
       "5  Sales Representative   49800  37.7             23  \n",
       "6   Production Operator   33000  31.8             24  \n",
       "7       Quality Control   41900  35.9             17  \n",
       "8      Research Analyst   58100  31.0             16  \n",
       "9       Product Manager   82900  31.1             17  "
      ]
     },
     "execution_count": 10,
     "metadata": {},
     "output_type": "execute_result"
    }
   ],
   "source": [
    "df.head(10)"
   ]
  },
  {
   "cell_type": "code",
   "execution_count": 11,
   "id": "b805d810-5861-40c5-a142-53f0ddd16a98",
   "metadata": {},
   "outputs": [
    {
     "name": "stdout",
     "output_type": "stream",
     "text": [
      "<class 'pandas.core.frame.DataFrame'>\n",
      "RangeIndex: 161 entries, 0 to 160\n",
      "Data columns (total 9 columns):\n",
      " #   Column                   Non-Null Count  Dtype         \n",
      "---  ------                   --------------  -----         \n",
      " 0   Name                     161 non-null    object        \n",
      " 1   Emp ID                   161 non-null    object        \n",
      " 2   Gender                   161 non-null    object        \n",
      " 3   Education Qualification  161 non-null    object        \n",
      " 4   Date of Join             161 non-null    datetime64[ns]\n",
      " 5   Job Title                161 non-null    object        \n",
      " 6   Salary                   161 non-null    int64         \n",
      " 7   Age                      161 non-null    float64       \n",
      " 8   Leave Balance            161 non-null    int64         \n",
      "dtypes: datetime64[ns](1), float64(1), int64(2), object(5)\n",
      "memory usage: 11.4+ KB\n"
     ]
    }
   ],
   "source": [
    "df.info()"
   ]
  },
  {
   "cell_type": "markdown",
   "id": "36aa7ff2-a46d-482d-8448-d368a3d0f5f4",
   "metadata": {},
   "source": [
    "in pandas execl file converted into a dataframes"
   ]
  },
  {
   "cell_type": "code",
   "execution_count": 12,
   "id": "8f6827fa-c08d-459a-b348-3deee79079dd",
   "metadata": {},
   "outputs": [
    {
     "data": {
      "text/plain": [
       "Name                       0\n",
       "Emp ID                     0\n",
       "Gender                     0\n",
       "Education Qualification    0\n",
       "Date of Join               0\n",
       "Job Title                  0\n",
       "Salary                     0\n",
       "Age                        0\n",
       "Leave Balance              0\n",
       "dtype: int64"
      ]
     },
     "execution_count": 12,
     "metadata": {},
     "output_type": "execute_result"
    }
   ],
   "source": [
    "df.isnull().sum()"
   ]
  },
  {
   "cell_type": "markdown",
   "id": "5d1e8157-3fc2-4ca2-aef0-acbe03df5bf3",
   "metadata": {},
   "source": [
    "its a proper stut column"
   ]
  },
  {
   "cell_type": "markdown",
   "id": "004169f7-cf27-47c4-a92b-fb62a215857a",
   "metadata": {},
   "source": [
    "# Department Wise calculate the avarage salary"
   ]
  },
  {
   "cell_type": "code",
   "execution_count": 54,
   "id": "d36de6f9-480c-49ba-87e9-a36266cf04f7",
   "metadata": {},
   "outputs": [
    {
     "data": {
      "text/plain": [
       "Job Title\n",
       "Product Manager         82825.000000\n",
       "Research Scientist      77566.666667\n",
       "Marketing Manager       73530.000000\n",
       "Marketing Specialist    62170.000000\n",
       "Research Analyst        57812.500000\n",
       "Chocolatier             52176.470588\n",
       "Sales Representative    47511.111111\n",
       "Quality Control         43135.294118\n",
       "Production Operator     37500.000000\n",
       "Packaging Associate     33409.090909\n",
       "Name: Salary, dtype: float64"
      ]
     },
     "execution_count": 54,
     "metadata": {},
     "output_type": "execute_result"
    }
   ],
   "source": [
    "df.groupby(\"Job Title\")[\"Salary\"].mean().sort_values(ascending=False)"
   ]
  },
  {
   "cell_type": "markdown",
   "id": "6ca281ff-15be-41fb-978a-fb2a62c1afc6",
   "metadata": {},
   "source": [
    "# Count of employees by gender"
   ]
  },
  {
   "cell_type": "code",
   "execution_count": 45,
   "id": "f5e3ee5d-9fd7-4307-afb9-06484ec8b5a5",
   "metadata": {},
   "outputs": [
    {
     "data": {
      "text/plain": [
       "Gender\n",
       "Female    88\n",
       "Male      73\n",
       "Name: count, dtype: int64"
      ]
     },
     "execution_count": 45,
     "metadata": {},
     "output_type": "execute_result"
    }
   ],
   "source": [
    "df[\"Gender\"].value_counts()"
   ]
  },
  {
   "cell_type": "markdown",
   "id": "cce38eea-b80e-44f4-b8f2-828b92e4c778",
   "metadata": {},
   "source": [
    "# Based on Education How Much Avarage They Get Paid"
   ]
  },
  {
   "cell_type": "code",
   "execution_count": 53,
   "id": "417aee92-c91d-4d44-ad63-c2dbfcdc3d40",
   "metadata": {},
   "outputs": [
    {
     "data": {
      "text/plain": [
       "Education Qualification\n",
       "Master's Degree        67037.931034\n",
       "Bachelor's Degree      53881.632653\n",
       "Diploma                51046.341463\n",
       "High School Diploma    48904.761905\n",
       "Name: Salary, dtype: float64"
      ]
     },
     "execution_count": 53,
     "metadata": {},
     "output_type": "execute_result"
    }
   ],
   "source": [
    "jobdf.groupby(\"Education Qualification\")[\"Salary\"].mean().sort_values(ascending=False)\n"
   ]
  },
  {
   "cell_type": "code",
   "execution_count": 48,
   "id": "2f2e27d5-2f47-4b4f-a667-9fe7c89c6c55",
   "metadata": {},
   "outputs": [
    {
     "data": {
      "text/plain": [
       "0      13\n",
       "1      12\n",
       "2      16\n",
       "3      21\n",
       "4      23\n",
       "       ..\n",
       "156    18\n",
       "157     8\n",
       "158    13\n",
       "159    17\n",
       "160    11\n",
       "Name: Leave Balance, Length: 161, dtype: int64"
      ]
     },
     "execution_count": 48,
     "metadata": {},
     "output_type": "execute_result"
    }
   ],
   "source": [
    "df[\"Leave Balance\"]"
   ]
  },
  {
   "cell_type": "code",
   "execution_count": 49,
   "id": "ddf756d0-3eab-4678-979a-43dca65f010f",
   "metadata": {},
   "outputs": [
    {
     "data": {
      "text/plain": [
       "Leave Balance\n",
       "16    23\n",
       "15    14\n",
       "17    14\n",
       "18    14\n",
       "20    12\n",
       "14    12\n",
       "23     8\n",
       "13     7\n",
       "19     7\n",
       "22     6\n",
       "12     6\n",
       "21     6\n",
       "10     5\n",
       "9      5\n",
       "24     4\n",
       "8      4\n",
       "11     3\n",
       "6      3\n",
       "25     2\n",
       "27     1\n",
       "30     1\n",
       "4      1\n",
       "5      1\n",
       "2      1\n",
       "37     1\n",
       "Name: count, dtype: int64"
      ]
     },
     "execution_count": 49,
     "metadata": {},
     "output_type": "execute_result"
    }
   ],
   "source": [
    "df[\"Leave Balance\"].value_counts()"
   ]
  },
  {
   "cell_type": "code",
   "execution_count": 64,
   "id": "e897cd6f-485c-431d-8c63-8347e5e11d3e",
   "metadata": {},
   "outputs": [
    {
     "data": {
      "text/plain": [
       "<Figure size 1600x1200 with 0 Axes>"
      ]
     },
     "execution_count": 64,
     "metadata": {},
     "output_type": "execute_result"
    }
   ],
   "source": [
    "plt.figure(figsize=(16,12))"
   ]
  },
  {
   "cell_type": "code",
   "execution_count": 68,
   "id": "df48644d-2f14-4490-bd42-adeed0bec1d8",
   "metadata": {},
   "outputs": [],
   "source": [
    "avg_salary_by_job=df.groupby(\"Job Title\")[\"Salary\"].mean().sort_values(ascending=False)\n",
    "avg_age_by_job=df.groupby(\"Education Qualification\")[\"Salary\"].mean().sort_values(ascending=False)"
   ]
  },
  {
   "cell_type": "code",
   "execution_count": 71,
   "id": "76bda3c7-f827-480d-a3b2-9691c2bc1f2a",
   "metadata": {},
   "outputs": [
    {
     "name": "stderr",
     "output_type": "stream",
     "text": [
      "C:\\Users\\Lenovo\\AppData\\Local\\Temp\\ipykernel_9584\\944327486.py:4: FutureWarning: \n",
      "\n",
      "Passing `palette` without assigning `hue` is deprecated and will be removed in v0.14.0. Assign the `y` variable to `hue` and set `legend=False` for the same effect.\n",
      "\n",
      "  sns.barplot(x=avg_salary_by_job.values, y=avg_age_by_job.index, palette=\"viridis\")\n"
     ]
    },
    {
     "data": {
      "text/plain": [
       "<Axes: ylabel='Job Title'>"
      ]
     },
     "execution_count": 71,
     "metadata": {},
     "output_type": "execute_result"
    }
   ],
   "source": [
    "avg_salary_by_job = df.groupby(\"Job Title\")[\"Salary\"].mean().sort_values(ascending=False)\n",
    "avg_age_by_job = df.groupby(\"Job Title\")[\"Age\"].mean().sort_values(ascending=False)\n",
    "plt.subplot(2, 2, 1)\n",
    "sns.barplot(x=avg_salary_by_job.values, y=avg_age_by_job.index, palette=\"viridis\") "
   ]
  },
  {
   "cell_type": "code",
   "execution_count": null,
   "id": "e118320a-39b2-4437-bf4c-16c9bf6a1631",
   "metadata": {},
   "outputs": [],
   "source": []
  },
  {
   "cell_type": "code",
   "execution_count": null,
   "id": "9afe351a-9404-47a2-8dcf-1e5cfc63a538",
   "metadata": {},
   "outputs": [],
   "source": []
  }
 ],
 "metadata": {
  "kernelspec": {
   "display_name": "Python [conda env:base] *",
   "language": "python",
   "name": "conda-base-py"
  },
  "language_info": {
   "codemirror_mode": {
    "name": "ipython",
    "version": 3
   },
   "file_extension": ".py",
   "mimetype": "text/x-python",
   "name": "python",
   "nbconvert_exporter": "python",
   "pygments_lexer": "ipython3",
   "version": "3.12.7"
  }
 },
 "nbformat": 4,
 "nbformat_minor": 5
}
