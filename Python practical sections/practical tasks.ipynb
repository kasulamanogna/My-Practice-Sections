{
 "cells": [
  {
   "cell_type": "code",
   "execution_count": 345,
   "id": "58fb23a2-a680-4b72-b474-6fa877195fab",
   "metadata": {},
   "outputs": [
    {
     "name": "stdin",
     "output_type": "stream",
     "text": [
      "Enter a prime num: 3\n"
     ]
    },
    {
     "name": "stdout",
     "output_type": "stream",
     "text": [
      "is a prime num\n"
     ]
    }
   ],
   "source": [
    "prime=int(input(\"Enter a prime num:\"))\n",
    "a=1\n",
    "if a <= prime:\n",
    "    print(\"is a prime num\")\n",
    "else:\n",
    "    print(\"is not a prime num\")"
   ]
  },
  {
   "cell_type": "code",
   "execution_count": null,
   "id": "5ebbe3eb-cf78-4997-a329-5183c551b8e4",
   "metadata": {},
   "outputs": [],
   "source": []
  },
  {
   "cell_type": "code",
   "execution_count": 305,
   "id": "fab0f05a-b69c-43a2-a193-8bdd9d01771c",
   "metadata": {},
   "outputs": [
    {
     "name": "stdout",
     "output_type": "stream",
     "text": [
      "[1, 1, 6, 4, 7]\n"
     ]
    }
   ],
   "source": [
    "import random\n",
    "random_numbers = [random.randint(1, 10) for _ in range(5)]\n",
    "print(random_numbers)"
   ]
  },
  {
   "cell_type": "code",
   "execution_count": null,
   "id": "af96f7f8-16c4-4054-8117-baee8d51fcc6",
   "metadata": {},
   "outputs": [],
   "source": []
  },
  {
   "cell_type": "code",
   "execution_count": 351,
   "id": "cde8708d-a6ae-4e24-85f7-6e3a264618bb",
   "metadata": {},
   "outputs": [
    {
     "name": "stdout",
     "output_type": "stream",
     "text": [
      "2025 is a leap year\n"
     ]
    }
   ],
   "source": [
    "year=2025\n",
    "if year >= 2025:\n",
    "    print(year,\"is a leap year\")\n",
    "else:\n",
    "    print(year,\"is not leap year\")"
   ]
  },
  {
   "cell_type": "code",
   "execution_count": 393,
   "id": "637c8d01-8415-4ccd-9df7-0bef9d03d8b1",
   "metadata": {},
   "outputs": [
    {
     "name": "stdin",
     "output_type": "stream",
     "text": [
      "Enter a year 2020\n"
     ]
    },
    {
     "name": "stdout",
     "output_type": "stream",
     "text": [
      "is a leap year\n"
     ]
    }
   ],
   "source": [
    "yrs=int(input(\"Enter a year\"))\n",
    "a=yrs\n",
    "if a >= yrs:\n",
    "    print(\"is a leap year\")\n",
    "else:\n",
    "    print(\"is not leap year\")\n",
    "    "
   ]
  },
  {
   "cell_type": "code",
   "execution_count": null,
   "id": "2fbd5dae-37ce-43f0-9ed7-5ca648ed1c97",
   "metadata": {},
   "outputs": [],
   "source": []
  },
  {
   "cell_type": "code",
   "execution_count": 301,
   "id": "192d6226-c797-4cab-a3be-2aab24f7e198",
   "metadata": {},
   "outputs": [
    {
     "name": "stdin",
     "output_type": "stream",
     "text": [
      "Enter the distance in kilometers:  7\n"
     ]
    },
    {
     "name": "stdout",
     "output_type": "stream",
     "text": [
      "4.34959833\n"
     ]
    }
   ],
   "source": [
    "kilometers = float(input(\"Enter the distance in kilometers: \"))\n",
    "miles= 0.62137119\n",
    "a=kilometers*miles\n",
    "print(a)"
   ]
  },
  {
   "cell_type": "code",
   "execution_count": null,
   "id": "daf25e38-ca7c-48bc-8ad0-5b419d001769",
   "metadata": {},
   "outputs": [],
   "source": []
  },
  {
   "cell_type": "code",
   "execution_count": 297,
   "id": "9bd5b516-02ba-4048-bd30-495a76819d17",
   "metadata": {},
   "outputs": [],
   "source": [
    "num=int(1)\n",
    "if num >= 1:\n",
    "    for i in range(2, int(num**0.5) + 1):\n",
    "        if num % i == 0:\n",
    "            print(num,\"is prime num\")\n",
    "        else:\n",
    "            print(num,\"is not a prime num\")\n",
    "            "
   ]
  },
  {
   "cell_type": "code",
   "execution_count": 373,
   "id": "1610ea53-8b6e-46af-96c6-6ddc1ca56f1a",
   "metadata": {},
   "outputs": [
    {
     "name": "stdout",
     "output_type": "stream",
     "text": [
      "2\n",
      "3\n",
      "4\n",
      "5\n",
      "6\n",
      "7\n",
      "8\n",
      "67 is a prime number\n"
     ]
    }
   ],
   "source": [
    "num = 67\n",
    "if num >= 5:  # Prime numbers are greater than or equal to 2\n",
    "    for i in range(2, int(num**0.5) + 1):\n",
    "        print(i)\n",
    "        if num % i == 0:\n",
    "            print(num, \"is not a prime number\")\n",
    "            break\n",
    "    else:\n",
    "        print(num, \"is a prime number\")\n",
    "   \n",
    "else:\n",
    "    print(num, \"is not a prime number\")\n",
    "\n",
    "\n"
   ]
  },
  {
   "cell_type": "code",
   "execution_count": 263,
   "id": "866f2c82-60d0-4d39-ad60-0383ca8031ca",
   "metadata": {},
   "outputs": [
    {
     "name": "stdout",
     "output_type": "stream",
     "text": [
      "[1, 2, 3, 4, 5, 6, 7, 8, 9, 10, 11, 12, 13, 14, 15, 16, 17, 18, 19, 20, 21, 22, 23, 24, 25, 26, 27, 28, 29, 30, 31, 32, 33, 34, 35, 36, 37, 38, 39, 40, 41, 42, 43, 44, 45, 46, 47, 48, 49]\n"
     ]
    }
   ],
   "source": [
    "prime=list(range(1,50))\n",
    "print(prime)"
   ]
  },
  {
   "cell_type": "code",
   "execution_count": 267,
   "id": "58db5c8d-c6a7-4cc7-a959-99ebd68f1abd",
   "metadata": {},
   "outputs": [
    {
     "data": {
      "text/plain": [
       "[1,\n",
       " 3,\n",
       " 5,\n",
       " 7,\n",
       " 9,\n",
       " 11,\n",
       " 13,\n",
       " 15,\n",
       " 17,\n",
       " 19,\n",
       " 21,\n",
       " 23,\n",
       " 25,\n",
       " 27,\n",
       " 29,\n",
       " 31,\n",
       " 33,\n",
       " 35,\n",
       " 37,\n",
       " 39,\n",
       " 41,\n",
       " 43,\n",
       " 45,\n",
       " 47,\n",
       " 49]"
      ]
     },
     "execution_count": 267,
     "metadata": {},
     "output_type": "execute_result"
    }
   ],
   "source": [
    "prime[0:50:2]"
   ]
  },
  {
   "cell_type": "code",
   "execution_count": null,
   "id": "a091c62d-7498-4299-b19c-2dd2d84af44f",
   "metadata": {},
   "outputs": [],
   "source": []
  },
  {
   "cell_type": "code",
   "execution_count": 399,
   "id": "68479a49-b350-4fdd-b56d-5f2dad28c4a9",
   "metadata": {},
   "outputs": [
    {
     "name": "stdin",
     "output_type": "stream",
     "text": [
      "Enter the start of the interval:  2010\n",
      "Enter the end of the interval:  2020\n"
     ]
    },
    {
     "name": "stdout",
     "output_type": "stream",
     "text": [
      "Prime numbers between 2010 and 2020:\n",
      "2011 2017 "
     ]
    }
   ],
   "source": [
    "def is_prime(num):\n",
    "    if num <= 1:\n",
    "        return False\n",
    "    for i in range(2, int(num**0.5) + 1):\n",
    "        if num % i == 0:\n",
    "            return False\n",
    "    return True\n",
    "\n",
    "def print_primes_in_interval(start, end):\n",
    "    for num in range(start, end + 1):\n",
    "        if is_prime(num):\n",
    "            print(num, end=\" \")\n",
    "\n",
    "# Input interval\n",
    "start = int(input(\"Enter the start of the interval: \"))\n",
    "end = int(input(\"Enter the end of the interval: \"))\n",
    "\n",
    "print(f\"Prime numbers between {start} and {end}:\")\n",
    "print_primes_in_interval(start, end)\n"
   ]
  },
  {
   "cell_type": "code",
   "execution_count": null,
   "id": "84f4d2aa-c77f-4839-bd73-0b37d0a91260",
   "metadata": {},
   "outputs": [],
   "source": []
  }
 ],
 "metadata": {
  "kernelspec": {
   "display_name": "Python 3 (ipykernel)",
   "language": "python",
   "name": "python3"
  },
  "language_info": {
   "codemirror_mode": {
    "name": "ipython",
    "version": 3
   },
   "file_extension": ".py",
   "mimetype": "text/x-python",
   "name": "python",
   "nbconvert_exporter": "python",
   "pygments_lexer": "ipython3",
   "version": "3.12.7"
  }
 },
 "nbformat": 4,
 "nbformat_minor": 5
}
