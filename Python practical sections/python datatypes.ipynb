{
 "cells": [
  {
   "cell_type": "markdown",
   "id": "47a55577-ac9c-4d64-957f-7f73f6b2c2b9",
   "metadata": {},
   "source": [
    "#python numbers"
   ]
  },
  {
   "cell_type": "markdown",
   "id": "0cc9975d-b0bb-41db-bce5-d11da2a12c01",
   "metadata": {},
   "source": [
    "1.integer"
   ]
  },
  {
   "cell_type": "code",
   "execution_count": 2,
   "id": "4ba41e94-1d53-41f2-9bbf-0cf234a93d70",
   "metadata": {},
   "outputs": [
    {
     "data": {
      "text/plain": [
       "int"
      ]
     },
     "execution_count": 2,
     "metadata": {},
     "output_type": "execute_result"
    }
   ],
   "source": [
    "num=5\n",
    "type(num)"
   ]
  },
  {
   "cell_type": "code",
   "execution_count": 4,
   "id": "c9f09889-d46e-45f3-9c2e-0c39814c1815",
   "metadata": {},
   "outputs": [
    {
     "data": {
      "text/plain": [
       "int"
      ]
     },
     "execution_count": 4,
     "metadata": {},
     "output_type": "execute_result"
    }
   ],
   "source": [
    "num=386938959038\n",
    "type(num)"
   ]
  },
  {
   "cell_type": "markdown",
   "id": "c196d0f1-c542-4b49-997f-62b13eafd190",
   "metadata": {},
   "source": [
    "2.float"
   ]
  },
  {
   "cell_type": "code",
   "execution_count": 8,
   "id": "fed80401-f4f2-445b-b198-5d2eb0474fa7",
   "metadata": {},
   "outputs": [
    {
     "data": {
      "text/plain": [
       "float"
      ]
     },
     "execution_count": 8,
     "metadata": {},
     "output_type": "execute_result"
    }
   ],
   "source": [
    "num=4.5\n",
    "type(num)"
   ]
  },
  {
   "cell_type": "markdown",
   "id": "ec44d05f-9002-489b-8c83-d19bd07aedd3",
   "metadata": {},
   "source": [
    "#complex numbers"
   ]
  },
  {
   "cell_type": "code",
   "execution_count": 18,
   "id": "9470face-f1bb-4f4d-a1c7-a1c8d212da49",
   "metadata": {},
   "outputs": [
    {
     "data": {
      "text/plain": [
       "complex"
      ]
     },
     "execution_count": 18,
     "metadata": {},
     "output_type": "execute_result"
    }
   ],
   "source": [
    "num=2+5j\n",
    "type(num)"
   ]
  },
  {
   "cell_type": "markdown",
   "id": "e10d7223-ac0a-43f6-b5be-41321ce7b6e6",
   "metadata": {},
   "source": [
    "2 parts\n",
    "\n",
    "1.Real part\n",
    "2.imaginary part"
   ]
  },
  {
   "cell_type": "markdown",
   "id": "491f9ffc-6de2-4840-8cd8-9a863b910b40",
   "metadata": {},
   "source": [
    "1.Real part"
   ]
  },
  {
   "cell_type": "code",
   "execution_count": 29,
   "id": "e397796d-e87a-4ff4-8ef5-d4fd253d18b5",
   "metadata": {},
   "outputs": [
    {
     "data": {
      "text/plain": [
       "4.0"
      ]
     },
     "execution_count": 29,
     "metadata": {},
     "output_type": "execute_result"
    }
   ],
   "source": [
    "num=4+6j\n",
    "type(num)\n",
    "num.real"
   ]
  },
  {
   "cell_type": "markdown",
   "id": "73ecea77-a9e6-470e-afaa-3249b5616ac9",
   "metadata": {},
   "source": [
    "2.imaginary part"
   ]
  },
  {
   "cell_type": "code",
   "execution_count": 32,
   "id": "24e7a5ec-df2c-4c95-a030-56ca57f07e06",
   "metadata": {},
   "outputs": [
    {
     "data": {
      "text/plain": [
       "8.0"
      ]
     },
     "execution_count": 32,
     "metadata": {},
     "output_type": "execute_result"
    }
   ],
   "source": [
    "num=5+8j\n",
    "type(num)\n",
    "num.imag"
   ]
  },
  {
   "cell_type": "markdown",
   "id": "3c8427e8-2d74-4b85-ad5e-1a4a2bdf8b39",
   "metadata": {},
   "source": [
    "#negitive float"
   ]
  },
  {
   "cell_type": "code",
   "execution_count": 35,
   "id": "dd1382ab-7ac7-4465-b2c9-98ff7d68129f",
   "metadata": {},
   "outputs": [
    {
     "data": {
      "text/plain": [
       "-7878.78388"
      ]
     },
     "execution_count": 35,
     "metadata": {},
     "output_type": "execute_result"
    }
   ],
   "source": [
    "num=-7878.78388\n",
    "num"
   ]
  },
  {
   "cell_type": "markdown",
   "id": "4798d773-d6ba-48ec-949c-939c724883ee",
   "metadata": {},
   "source": [
    "#Arthematic operators / mathematical operators that can be perform these numbers"
   ]
  },
  {
   "cell_type": "markdown",
   "id": "f7979378-ed70-48ac-a81b-6f7201e647f7",
   "metadata": {},
   "source": [
    "+:-Arehematic operator"
   ]
  },
  {
   "cell_type": "code",
   "execution_count": 39,
   "id": "29cc37e6-e685-4300-a468-205a335a779d",
   "metadata": {},
   "outputs": [
    {
     "name": "stdout",
     "output_type": "stream",
     "text": [
      "12\n"
     ]
    }
   ],
   "source": [
    "num1=10\n",
    "num2=2\n",
    "num3=num1+num2\n",
    "print(num3)"
   ]
  },
  {
   "cell_type": "markdown",
   "id": "d3b3c377-1a8d-4443-a6fb-81b076b5b6e8",
   "metadata": {},
   "source": [
    "-:-Subtraction operator"
   ]
  },
  {
   "cell_type": "code",
   "execution_count": 44,
   "id": "efdc848c-3f99-4cf9-bb95-5a6243c2a733",
   "metadata": {},
   "outputs": [
    {
     "name": "stdout",
     "output_type": "stream",
     "text": [
      "8\n"
     ]
    }
   ],
   "source": [
    "num1=10\n",
    "num2=2\n",
    "print(num1-num2)"
   ]
  },
  {
   "cell_type": "markdown",
   "id": "b46cc65b-7815-4e32-93fa-4b36886e6fd5",
   "metadata": {},
   "source": [
    "*:-Multiplication operator"
   ]
  },
  {
   "cell_type": "code",
   "execution_count": 50,
   "id": "89ee8de1-ea81-4b8d-b15e-7ff86849cd99",
   "metadata": {},
   "outputs": [
    {
     "name": "stdout",
     "output_type": "stream",
     "text": [
      "20\n"
     ]
    }
   ],
   "source": [
    "num1=10\n",
    "num2=2\n",
    "print(num1*num2)"
   ]
  },
  {
   "cell_type": "markdown",
   "id": "be4d2ee5-1e80-4e6b-8613-0dc52ff30600",
   "metadata": {},
   "source": [
    "Division operator----> / and //\n",
    "\n",
    "/ slach in denoted to the float values\n",
    "\n",
    "      and\n",
    "// slach is denoted to the integer values"
   ]
  },
  {
   "cell_type": "markdown",
   "id": "5cc27f59-b74a-477a-92d5-538992e82959",
   "metadata": {},
   "source": [
    "1./ ----> single slash division (float value)"
   ]
  },
  {
   "cell_type": "code",
   "execution_count": 56,
   "id": "950c1f7f-2e95-4163-830e-ca89bb7eed1a",
   "metadata": {},
   "outputs": [
    {
     "name": "stdout",
     "output_type": "stream",
     "text": [
      "5.0\n"
     ]
    }
   ],
   "source": [
    "num1=10\n",
    "num2=2\n",
    "print(num1/num2)"
   ]
  },
  {
   "cell_type": "markdown",
   "id": "dc603c5d-8c19-408c-a01c-7365d567c5c8",
   "metadata": {},
   "source": [
    "2.// -----> double slash division (int value)"
   ]
  },
  {
   "cell_type": "code",
   "execution_count": 62,
   "id": "2810520d-1563-49d9-9237-eb28b27f1182",
   "metadata": {},
   "outputs": [
    {
     "name": "stdout",
     "output_type": "stream",
     "text": [
      "5\n"
     ]
    }
   ],
   "source": [
    "num1=10\n",
    "num2=2\n",
    "print(num1//num2)"
   ]
  },
  {
   "cell_type": "markdown",
   "id": "4de3ea94-005b-4acd-8cd3-f3d702021975",
   "metadata": {},
   "source": [
    "%:- madulus operator"
   ]
  },
  {
   "cell_type": "code",
   "execution_count": 72,
   "id": "e054c3ff-deb7-40c8-a733-67c0f050e65b",
   "metadata": {},
   "outputs": [
    {
     "name": "stdout",
     "output_type": "stream",
     "text": [
      "0\n"
     ]
    }
   ],
   "source": [
    "num1=10\n",
    "num2=2\n",
    "print(num1%num2)"
   ]
  },
  {
   "cell_type": "markdown",
   "id": "3e843cce-31c1-4069-bff5-748c3cb57738",
   "metadata": {},
   "source": [
    "**:-Arsist operator n power n"
   ]
  },
  {
   "cell_type": "code",
   "execution_count": 76,
   "id": "342a4e93-d413-4e14-836c-0e9c6cee2b4a",
   "metadata": {},
   "outputs": [
    {
     "name": "stdout",
     "output_type": "stream",
     "text": [
      "100\n"
     ]
    }
   ],
   "source": [
    "num1=10\n",
    "num2=2\n",
    "print(num1**num2)"
   ]
  },
  {
   "cell_type": "markdown",
   "id": "7aa3bd65-0308-48f9-ade5-073d418930d0",
   "metadata": {},
   "source": [
    "#Type conversions"
   ]
  },
  {
   "cell_type": "markdown",
   "id": "9d7ef2d2-ac46-4224-b2b4-6c2aa069777e",
   "metadata": {},
   "source": [
    "The process of changing the data type of a value from one data type to another data type. "
   ]
  },
  {
   "cell_type": "markdown",
   "id": "cb2f50a9-1ac2-4186-90c4-db6a07cdc697",
   "metadata": {},
   "source": [
    "like converting a string to an integer\n",
    "\n",
    "or float to boolean\n",
    "\n",
    "is called as type conversions.\n"
   ]
  },
  {
   "cell_type": "markdown",
   "id": "daf79f55-4715-4f68-9f0a-4f22a080116c",
   "metadata": {},
   "source": [
    "Common conversion functions.\n",
    "..............................\n",
    "\n",
    "*int()\n",
    "\n",
    "*float()\n",
    "\n",
    "*str()\n",
    "\n",
    "*boolean()"
   ]
  },
  {
   "cell_type": "markdown",
   "id": "ad86d455-7fff-4d45-9d9b-b9e4cb8f2758",
   "metadata": {},
   "source": [
    "1.string to integer"
   ]
  },
  {
   "cell_type": "code",
   "execution_count": 89,
   "id": "cf930f85-6e26-4e58-ae3b-aeae86b76f30",
   "metadata": {},
   "outputs": [
    {
     "data": {
      "text/plain": [
       "str"
      ]
     },
     "execution_count": 89,
     "metadata": {},
     "output_type": "execute_result"
    }
   ],
   "source": [
    "x=\"192\"\n",
    "type(x)"
   ]
  },
  {
   "cell_type": "code",
   "execution_count": 91,
   "id": "d28ae15f-f15e-4e27-aa08-86f6930e0135",
   "metadata": {},
   "outputs": [
    {
     "data": {
      "text/plain": [
       "192"
      ]
     },
     "execution_count": 91,
     "metadata": {},
     "output_type": "execute_result"
    }
   ],
   "source": [
    "int(x)"
   ]
  },
  {
   "cell_type": "markdown",
   "id": "8389918f-7ebe-4c25-8955-520605ec916d",
   "metadata": {},
   "source": [
    "or"
   ]
  },
  {
   "cell_type": "code",
   "execution_count": 93,
   "id": "12b6c132-781a-4529-9467-b4ff66ee669e",
   "metadata": {},
   "outputs": [
    {
     "name": "stdout",
     "output_type": "stream",
     "text": [
      "456\n"
     ]
    }
   ],
   "source": [
    "x=int(\"456\")\n",
    "print(x)"
   ]
  },
  {
   "cell_type": "code",
   "execution_count": 95,
   "id": "e1bde9f2-60a4-4259-b805-7228c3007944",
   "metadata": {},
   "outputs": [
    {
     "data": {
      "text/plain": [
       "int"
      ]
     },
     "execution_count": 95,
     "metadata": {},
     "output_type": "execute_result"
    }
   ],
   "source": [
    "type(x)"
   ]
  },
  {
   "cell_type": "markdown",
   "id": "342f2356-248a-4667-bf91-1e2fa338b5d4",
   "metadata": {},
   "source": [
    "2.Float to integer"
   ]
  },
  {
   "cell_type": "code",
   "execution_count": 98,
   "id": "ee775d0f-0acc-4828-a5a6-6637c93ecf1a",
   "metadata": {},
   "outputs": [
    {
     "data": {
      "text/plain": [
       "float"
      ]
     },
     "execution_count": 98,
     "metadata": {},
     "output_type": "execute_result"
    }
   ],
   "source": [
    "x=3.5\n",
    "type(x)"
   ]
  },
  {
   "cell_type": "code",
   "execution_count": 102,
   "id": "9c52c8b1-b99a-4604-b550-097e06d0a270",
   "metadata": {},
   "outputs": [
    {
     "data": {
      "text/plain": [
       "3"
      ]
     },
     "execution_count": 102,
     "metadata": {},
     "output_type": "execute_result"
    }
   ],
   "source": [
    "int(x)"
   ]
  },
  {
   "cell_type": "markdown",
   "id": "ebcf12be-f952-401f-8893-ed18d6701cfe",
   "metadata": {},
   "source": [
    "or"
   ]
  },
  {
   "cell_type": "code",
   "execution_count": 106,
   "id": "ab3dccb7-2434-4c62-9e2d-bf6ad009b1f3",
   "metadata": {},
   "outputs": [
    {
     "name": "stdout",
     "output_type": "stream",
     "text": [
      "5\n"
     ]
    }
   ],
   "source": [
    "x=int(5.5)\n",
    "print(x)"
   ]
  },
  {
   "cell_type": "code",
   "execution_count": 110,
   "id": "9a4958bb-bcf2-4677-8a1d-d1870fdec225",
   "metadata": {},
   "outputs": [
    {
     "data": {
      "text/plain": [
       "int"
      ]
     },
     "execution_count": 110,
     "metadata": {},
     "output_type": "execute_result"
    }
   ],
   "source": [
    "type(x)"
   ]
  },
  {
   "cell_type": "code",
   "execution_count": null,
   "id": "af6dd38d-803e-461e-aeff-3c65a82d9c95",
   "metadata": {},
   "outputs": [],
   "source": []
  },
  {
   "cell_type": "markdown",
   "id": "47c7e4de-0daa-41cd-9262-af17bf57ecb2",
   "metadata": {},
   "source": [
    "3.integer to float"
   ]
  },
  {
   "cell_type": "code",
   "execution_count": 120,
   "id": "3870b69b-e74c-4d64-9dda-73c0bc7741c6",
   "metadata": {},
   "outputs": [
    {
     "data": {
      "text/plain": [
       "int"
      ]
     },
     "execution_count": 120,
     "metadata": {},
     "output_type": "execute_result"
    }
   ],
   "source": [
    "a=4678\n",
    "type(a)"
   ]
  },
  {
   "cell_type": "code",
   "execution_count": 122,
   "id": "7d80ed70-24bd-4f3b-9cb2-8b59ae5c8a7a",
   "metadata": {},
   "outputs": [
    {
     "name": "stdout",
     "output_type": "stream",
     "text": [
      "4678.0\n"
     ]
    }
   ],
   "source": [
    "a=float(a)\n",
    "print(a)"
   ]
  },
  {
   "cell_type": "markdown",
   "id": "96602bcd-8632-4420-8d7d-297254fd0034",
   "metadata": {},
   "source": [
    "or\n"
   ]
  },
  {
   "cell_type": "code",
   "execution_count": 125,
   "id": "b2a15817-6cd8-490a-b68a-b37aef9e9516",
   "metadata": {},
   "outputs": [
    {
     "name": "stdout",
     "output_type": "stream",
     "text": [
      "343566.0\n"
     ]
    }
   ],
   "source": [
    "a=float(343566)\n",
    "print(a)"
   ]
  },
  {
   "cell_type": "code",
   "execution_count": 127,
   "id": "76647338-fee3-4d70-86dc-0824b69cddac",
   "metadata": {},
   "outputs": [
    {
     "data": {
      "text/plain": [
       "float"
      ]
     },
     "execution_count": 127,
     "metadata": {},
     "output_type": "execute_result"
    }
   ],
   "source": [
    "type(a)"
   ]
  },
  {
   "cell_type": "code",
   "execution_count": null,
   "id": "3a1f9dad-3182-43c2-bd38-e56d7011dcc6",
   "metadata": {},
   "outputs": [],
   "source": []
  },
  {
   "cell_type": "markdown",
   "id": "8e24231d-d4d1-4267-a6e0-5bdd1558a546",
   "metadata": {},
   "source": [
    "4.String to float"
   ]
  },
  {
   "cell_type": "code",
   "execution_count": 133,
   "id": "e2fbeb9b-013b-4ed6-bccd-8fd571e5a848",
   "metadata": {},
   "outputs": [
    {
     "name": "stdout",
     "output_type": "stream",
     "text": [
      "789389.0\n"
     ]
    }
   ],
   "source": [
    "a=float(\"789389\")\n",
    "print(a)\n"
   ]
  },
  {
   "cell_type": "code",
   "execution_count": 136,
   "id": "97eea0e0-3138-4199-819c-cc88aff302a0",
   "metadata": {},
   "outputs": [
    {
     "data": {
      "text/plain": [
       "float"
      ]
     },
     "execution_count": 136,
     "metadata": {},
     "output_type": "execute_result"
    }
   ],
   "source": [
    "type(a)"
   ]
  },
  {
   "cell_type": "markdown",
   "id": "e2dab04f-9b44-4dae-be92-d236d9af2aa3",
   "metadata": {},
   "source": [
    "or"
   ]
  },
  {
   "cell_type": "code",
   "execution_count": 139,
   "id": "4fe72b34-aff5-491a-9c5d-625b7786e493",
   "metadata": {},
   "outputs": [
    {
     "data": {
      "text/plain": [
       "str"
      ]
     },
     "execution_count": 139,
     "metadata": {},
     "output_type": "execute_result"
    }
   ],
   "source": [
    "a=\"789389\"\n",
    "type(a)"
   ]
  },
  {
   "cell_type": "code",
   "execution_count": 141,
   "id": "59b0b6db-6fb2-475f-9f20-957efcd02e23",
   "metadata": {},
   "outputs": [
    {
     "name": "stdout",
     "output_type": "stream",
     "text": [
      "789389.0\n"
     ]
    }
   ],
   "source": [
    "a=float(a)\n",
    "print(a)"
   ]
  },
  {
   "cell_type": "code",
   "execution_count": 143,
   "id": "e87c39ee-ca1d-40bc-b594-0b7046054055",
   "metadata": {},
   "outputs": [
    {
     "data": {
      "text/plain": [
       "float"
      ]
     },
     "execution_count": 143,
     "metadata": {},
     "output_type": "execute_result"
    }
   ],
   "source": [
    "type(a)"
   ]
  },
  {
   "cell_type": "code",
   "execution_count": null,
   "id": "1e8c9dfb-6e70-41a0-b3cc-9fa6a5fed5f0",
   "metadata": {},
   "outputs": [],
   "source": []
  },
  {
   "cell_type": "markdown",
   "id": "db7e9387-68bb-4cd9-95c6-40e22abf273d",
   "metadata": {},
   "source": [
    "5.string to boolean"
   ]
  },
  {
   "cell_type": "code",
   "execution_count": 149,
   "id": "d0e48dba-6839-4e89-a749-fed2e6bcd243",
   "metadata": {},
   "outputs": [
    {
     "name": "stdout",
     "output_type": "stream",
     "text": [
      "True\n"
     ]
    }
   ],
   "source": [
    "a=bool(\"68799\")\n",
    "print(a)"
   ]
  },
  {
   "cell_type": "code",
   "execution_count": 151,
   "id": "9adc854d-4f25-4113-a56e-5e68898a91b0",
   "metadata": {},
   "outputs": [
    {
     "data": {
      "text/plain": [
       "bool"
      ]
     },
     "execution_count": 151,
     "metadata": {},
     "output_type": "execute_result"
    }
   ],
   "source": [
    "type(a)\n"
   ]
  },
  {
   "cell_type": "markdown",
   "id": "5ab07696-73ff-4125-bd14-3096a93101df",
   "metadata": {},
   "source": [
    "or"
   ]
  },
  {
   "cell_type": "code",
   "execution_count": 153,
   "id": "47de5a09-775d-4555-8bf4-dd9fd801f0dd",
   "metadata": {},
   "outputs": [
    {
     "data": {
      "text/plain": [
       "str"
      ]
     },
     "execution_count": 153,
     "metadata": {},
     "output_type": "execute_result"
    }
   ],
   "source": [
    "a=\"76483798\"\n",
    "type(a)\n"
   ]
  },
  {
   "cell_type": "code",
   "execution_count": 155,
   "id": "f2feaa79-3519-4253-b71a-fc5ceec2f543",
   "metadata": {},
   "outputs": [
    {
     "name": "stdout",
     "output_type": "stream",
     "text": [
      "True\n"
     ]
    }
   ],
   "source": [
    "a=bool(a)\n",
    "print(a)"
   ]
  },
  {
   "cell_type": "code",
   "execution_count": 157,
   "id": "d3cb9a89-ddc5-4f8f-adaa-a37a42a1e14a",
   "metadata": {},
   "outputs": [
    {
     "data": {
      "text/plain": [
       "bool"
      ]
     },
     "execution_count": 157,
     "metadata": {},
     "output_type": "execute_result"
    }
   ],
   "source": [
    "type(a)"
   ]
  },
  {
   "cell_type": "code",
   "execution_count": null,
   "id": "e68f8a61-fed6-4d65-b2c2-2cf14ff77974",
   "metadata": {},
   "outputs": [],
   "source": []
  },
  {
   "cell_type": "markdown",
   "id": "45d7a6af-a0a4-4cb1-978f-f97982213d9b",
   "metadata": {},
   "source": [
    "6.float to string"
   ]
  },
  {
   "cell_type": "code",
   "execution_count": 163,
   "id": "7ab717c3-1dcd-4731-ab9b-0ff600ba6f04",
   "metadata": {},
   "outputs": [
    {
     "data": {
      "text/plain": [
       "float"
      ]
     },
     "execution_count": 163,
     "metadata": {},
     "output_type": "execute_result"
    }
   ],
   "source": [
    "a=5.678\n",
    "type(a)"
   ]
  },
  {
   "cell_type": "code",
   "execution_count": 167,
   "id": "20d30d91-8a26-4d69-924f-bd05fc69fc14",
   "metadata": {},
   "outputs": [
    {
     "name": "stdout",
     "output_type": "stream",
     "text": [
      "5.678\n"
     ]
    }
   ],
   "source": [
    "a=str(a)\n",
    "print(a)"
   ]
  },
  {
   "cell_type": "code",
   "execution_count": 169,
   "id": "f2cdaa92-491f-44d4-a6f7-2f12c3a9aa9d",
   "metadata": {},
   "outputs": [
    {
     "data": {
      "text/plain": [
       "str"
      ]
     },
     "execution_count": 169,
     "metadata": {},
     "output_type": "execute_result"
    }
   ],
   "source": [
    "type(a)"
   ]
  },
  {
   "cell_type": "markdown",
   "id": "9c9838c6-0b9a-4308-9e37-08061c8e530f",
   "metadata": {},
   "source": [
    "or"
   ]
  },
  {
   "cell_type": "code",
   "execution_count": 172,
   "id": "ebe3be97-2a17-479d-8559-3771bd3f2b02",
   "metadata": {},
   "outputs": [
    {
     "name": "stdout",
     "output_type": "stream",
     "text": [
      "5.678\n"
     ]
    }
   ],
   "source": [
    "a=str(5.678)\n",
    "print(a)"
   ]
  },
  {
   "cell_type": "code",
   "execution_count": 174,
   "id": "e6b98652-a80f-4700-8f03-4d841d58f696",
   "metadata": {},
   "outputs": [
    {
     "data": {
      "text/plain": [
       "str"
      ]
     },
     "execution_count": 174,
     "metadata": {},
     "output_type": "execute_result"
    }
   ],
   "source": [
    "type(a)"
   ]
  },
  {
   "cell_type": "code",
   "execution_count": null,
   "id": "f8523b95-7edc-4e5c-8bae-d8a45d517066",
   "metadata": {},
   "outputs": [],
   "source": []
  },
  {
   "cell_type": "markdown",
   "id": "86f8ac29-f8c5-4db7-a975-4bdf0f11eac8",
   "metadata": {},
   "source": [
    "7.float to boolean"
   ]
  },
  {
   "cell_type": "code",
   "execution_count": 179,
   "id": "cdba5425-da69-498c-b9ec-49f970e18cc2",
   "metadata": {},
   "outputs": [
    {
     "data": {
      "text/plain": [
       "float"
      ]
     },
     "execution_count": 179,
     "metadata": {},
     "output_type": "execute_result"
    }
   ],
   "source": [
    "a=763789.9\n",
    "type(a)"
   ]
  },
  {
   "cell_type": "code",
   "execution_count": 181,
   "id": "1dc9bcf1-ebed-42be-9ec9-4dc7eada3ab5",
   "metadata": {},
   "outputs": [
    {
     "name": "stdout",
     "output_type": "stream",
     "text": [
      "True\n"
     ]
    }
   ],
   "source": [
    "a=bool(a)\n",
    "print(a)"
   ]
  },
  {
   "cell_type": "code",
   "execution_count": 183,
   "id": "4350e1a6-3d13-40f4-8a36-795fe74b771a",
   "metadata": {},
   "outputs": [
    {
     "data": {
      "text/plain": [
       "bool"
      ]
     },
     "execution_count": 183,
     "metadata": {},
     "output_type": "execute_result"
    }
   ],
   "source": [
    "type(a)"
   ]
  },
  {
   "cell_type": "markdown",
   "id": "8ffdc083-e10b-49fb-b5c1-36af3c0805fb",
   "metadata": {},
   "source": [
    "or"
   ]
  },
  {
   "cell_type": "code",
   "execution_count": 186,
   "id": "542afec6-f6d7-42e5-aa8d-6a8049079c34",
   "metadata": {},
   "outputs": [
    {
     "name": "stdout",
     "output_type": "stream",
     "text": [
      "True\n"
     ]
    }
   ],
   "source": [
    "a=bool(67648749.8)\n",
    "print(a)"
   ]
  },
  {
   "cell_type": "code",
   "execution_count": 188,
   "id": "d53e2ed2-585d-4d9e-9638-6429e6d06968",
   "metadata": {},
   "outputs": [
    {
     "data": {
      "text/plain": [
       "bool"
      ]
     },
     "execution_count": 188,
     "metadata": {},
     "output_type": "execute_result"
    }
   ],
   "source": [
    "type(a)"
   ]
  },
  {
   "cell_type": "code",
   "execution_count": null,
   "id": "b77dc02e-9869-442b-8098-f6cef65d7f1b",
   "metadata": {},
   "outputs": [],
   "source": []
  },
  {
   "cell_type": "markdown",
   "id": "9d238111-fe2a-4e4b-84ee-db0824105fde",
   "metadata": {},
   "source": [
    "8.boolean to int"
   ]
  },
  {
   "cell_type": "code",
   "execution_count": 193,
   "id": "5f0bd797-66f8-4206-8e74-4d9d46ea6f2e",
   "metadata": {},
   "outputs": [
    {
     "name": "stdout",
     "output_type": "stream",
     "text": [
      "1\n"
     ]
    }
   ],
   "source": [
    "x=int(True)\n",
    "print(x)"
   ]
  },
  {
   "cell_type": "code",
   "execution_count": 197,
   "id": "8191d536-9973-4b80-a584-a0b6e31b84cc",
   "metadata": {},
   "outputs": [
    {
     "data": {
      "text/plain": [
       "int"
      ]
     },
     "execution_count": 197,
     "metadata": {},
     "output_type": "execute_result"
    }
   ],
   "source": [
    "type(x)"
   ]
  },
  {
   "cell_type": "markdown",
   "id": "b7430c2c-94f2-4e42-8648-d689eb4092e3",
   "metadata": {},
   "source": [
    "or"
   ]
  },
  {
   "cell_type": "code",
   "execution_count": 215,
   "id": "4298e161-36b2-457d-b9c5-1549be6d4093",
   "metadata": {},
   "outputs": [
    {
     "data": {
      "text/plain": [
       "bool"
      ]
     },
     "execution_count": 215,
     "metadata": {},
     "output_type": "execute_result"
    }
   ],
   "source": [
    "x=False\n",
    "type(x)"
   ]
  },
  {
   "cell_type": "code",
   "execution_count": 217,
   "id": "ea25026a-5eef-4f4b-a3ea-8f2eb761681b",
   "metadata": {},
   "outputs": [
    {
     "name": "stdout",
     "output_type": "stream",
     "text": [
      "0\n"
     ]
    }
   ],
   "source": [
    "x=int(x)\n",
    "print(x)"
   ]
  },
  {
   "cell_type": "code",
   "execution_count": 219,
   "id": "d050803c-2eb2-458e-b5cc-b3ed33342587",
   "metadata": {},
   "outputs": [
    {
     "data": {
      "text/plain": [
       "int"
      ]
     },
     "execution_count": 219,
     "metadata": {},
     "output_type": "execute_result"
    }
   ],
   "source": [
    "type(x)"
   ]
  },
  {
   "cell_type": "markdown",
   "id": "232ff130-0a8d-48cd-b51d-8589a22de0b3",
   "metadata": {},
   "source": [
    "9.boolean to float"
   ]
  },
  {
   "cell_type": "code",
   "execution_count": 222,
   "id": "41abc38e-bb28-44b2-b80b-3bc79738a925",
   "metadata": {},
   "outputs": [
    {
     "name": "stdout",
     "output_type": "stream",
     "text": [
      "1.0\n"
     ]
    }
   ],
   "source": [
    "x=float(True)\n",
    "print(x)"
   ]
  },
  {
   "cell_type": "code",
   "execution_count": 224,
   "id": "a81ff35b-9028-40b7-83a7-858a210cebad",
   "metadata": {},
   "outputs": [
    {
     "data": {
      "text/plain": [
       "float"
      ]
     },
     "execution_count": 224,
     "metadata": {},
     "output_type": "execute_result"
    }
   ],
   "source": [
    "type(x)"
   ]
  },
  {
   "cell_type": "markdown",
   "id": "2057bd6f-ddcf-4e07-a81b-89669cc0f2a9",
   "metadata": {},
   "source": [
    "or"
   ]
  },
  {
   "cell_type": "code",
   "execution_count": 227,
   "id": "5a7a1dcd-edcb-48ca-80a9-2799bf2e2e01",
   "metadata": {},
   "outputs": [
    {
     "data": {
      "text/plain": [
       "bool"
      ]
     },
     "execution_count": 227,
     "metadata": {},
     "output_type": "execute_result"
    }
   ],
   "source": [
    "x=False\n",
    "type(x)"
   ]
  },
  {
   "cell_type": "code",
   "execution_count": 229,
   "id": "ca89d58c-96b0-4a16-b205-942a6490f6c1",
   "metadata": {},
   "outputs": [
    {
     "name": "stdout",
     "output_type": "stream",
     "text": [
      "0.0\n"
     ]
    }
   ],
   "source": [
    "x=float(x)\n",
    "print(x)"
   ]
  },
  {
   "cell_type": "code",
   "execution_count": 231,
   "id": "bb0d46a7-60ed-4848-99e0-9cfda7b6ea8a",
   "metadata": {},
   "outputs": [
    {
     "data": {
      "text/plain": [
       "float"
      ]
     },
     "execution_count": 231,
     "metadata": {},
     "output_type": "execute_result"
    }
   ],
   "source": [
    "type(x)"
   ]
  },
  {
   "cell_type": "markdown",
   "id": "497b4aae-9e5d-4bbc-b5a4-f096ce4989ef",
   "metadata": {},
   "source": [
    "10.boolean to string"
   ]
  },
  {
   "cell_type": "code",
   "execution_count": 234,
   "id": "09f7e747-6f6a-42b5-b568-7e32d23d2595",
   "metadata": {},
   "outputs": [
    {
     "data": {
      "text/plain": [
       "bool"
      ]
     },
     "execution_count": 234,
     "metadata": {},
     "output_type": "execute_result"
    }
   ],
   "source": [
    "a=True\n",
    "type(a)"
   ]
  },
  {
   "cell_type": "code",
   "execution_count": 236,
   "id": "670633ef-f28b-4085-9abe-3e76ae7191c8",
   "metadata": {},
   "outputs": [
    {
     "name": "stdout",
     "output_type": "stream",
     "text": [
      "True\n"
     ]
    }
   ],
   "source": [
    "a=str(a)\n",
    "print(a)"
   ]
  },
  {
   "cell_type": "code",
   "execution_count": 239,
   "id": "7ee49202-7284-41b5-9e82-05c40f50b86f",
   "metadata": {},
   "outputs": [
    {
     "data": {
      "text/plain": [
       "str"
      ]
     },
     "execution_count": 239,
     "metadata": {},
     "output_type": "execute_result"
    }
   ],
   "source": [
    "type(a)"
   ]
  },
  {
   "cell_type": "markdown",
   "id": "9c2c8527-c8c9-41bb-b1a3-4faf08ea331b",
   "metadata": {},
   "source": [
    "or"
   ]
  },
  {
   "cell_type": "code",
   "execution_count": 242,
   "id": "18487955-fb51-4778-a12f-478c0bf8fe83",
   "metadata": {},
   "outputs": [
    {
     "name": "stdout",
     "output_type": "stream",
     "text": [
      "False\n"
     ]
    }
   ],
   "source": [
    "a=str(False)\n",
    "print(a)"
   ]
  },
  {
   "cell_type": "code",
   "execution_count": 244,
   "id": "29df6f0f-b099-4de5-8f31-ae03f53bbb41",
   "metadata": {},
   "outputs": [
    {
     "data": {
      "text/plain": [
       "str"
      ]
     },
     "execution_count": 244,
     "metadata": {},
     "output_type": "execute_result"
    }
   ],
   "source": [
    "type(a)"
   ]
  },
  {
   "cell_type": "markdown",
   "id": "38854356-b851-4fc5-b986-70612bfec1ad",
   "metadata": {},
   "source": [
    "11.float to complex"
   ]
  },
  {
   "cell_type": "code",
   "execution_count": 352,
   "id": "126fc7b9-a781-4fad-9687-b922ed3637ef",
   "metadata": {},
   "outputs": [
    {
     "data": {
      "text/plain": [
       "float"
      ]
     },
     "execution_count": 352,
     "metadata": {},
     "output_type": "execute_result"
    }
   ],
   "source": [
    "a=19.26\n",
    "type(a)"
   ]
  },
  {
   "cell_type": "code",
   "execution_count": 354,
   "id": "efa06898-e3b4-4b68-9304-ed9be41d7d98",
   "metadata": {},
   "outputs": [
    {
     "name": "stdout",
     "output_type": "stream",
     "text": [
      "(19.26+6j)\n"
     ]
    }
   ],
   "source": [
    "a=complex(a,6)\n",
    "print(a)"
   ]
  },
  {
   "cell_type": "code",
   "execution_count": 356,
   "id": "31c0f211-92e6-46c1-a3f6-d54965fdcd75",
   "metadata": {},
   "outputs": [
    {
     "data": {
      "text/plain": [
       "19.26"
      ]
     },
     "execution_count": 356,
     "metadata": {},
     "output_type": "execute_result"
    }
   ],
   "source": [
    "a.real"
   ]
  },
  {
   "cell_type": "code",
   "execution_count": 358,
   "id": "4956ed39-c2c0-4835-a51a-2c484c7855f2",
   "metadata": {},
   "outputs": [
    {
     "data": {
      "text/plain": [
       "6.0"
      ]
     },
     "execution_count": 358,
     "metadata": {},
     "output_type": "execute_result"
    }
   ],
   "source": [
    "a.imag"
   ]
  },
  {
   "cell_type": "code",
   "execution_count": 360,
   "id": "6694f067-02b9-4083-9655-0e1973adc77d",
   "metadata": {},
   "outputs": [
    {
     "name": "stdout",
     "output_type": "stream",
     "text": [
      "(75.89+0j)\n"
     ]
    }
   ],
   "source": [
    "z=complex(30.89+45)\n",
    "print(z)"
   ]
  },
  {
   "cell_type": "code",
   "execution_count": 362,
   "id": "066be8e4-81b1-488b-81f7-b874250a1480",
   "metadata": {},
   "outputs": [
    {
     "data": {
      "text/plain": [
       "complex"
      ]
     },
     "execution_count": 362,
     "metadata": {},
     "output_type": "execute_result"
    }
   ],
   "source": [
    "type(z)"
   ]
  },
  {
   "cell_type": "code",
   "execution_count": 364,
   "id": "99dd8be3-6e59-4c0d-b39c-730566ac983b",
   "metadata": {},
   "outputs": [
    {
     "data": {
      "text/plain": [
       "75.89"
      ]
     },
     "execution_count": 364,
     "metadata": {},
     "output_type": "execute_result"
    }
   ],
   "source": [
    "z.real"
   ]
  },
  {
   "cell_type": "code",
   "execution_count": 366,
   "id": "eadacfcd-8334-40a3-ad1c-4e497b61045b",
   "metadata": {},
   "outputs": [
    {
     "data": {
      "text/plain": [
       "0.0"
      ]
     },
     "execution_count": 366,
     "metadata": {},
     "output_type": "execute_result"
    }
   ],
   "source": [
    "z.imag"
   ]
  },
  {
   "cell_type": "markdown",
   "id": "fdd2e13b-e631-4288-b41c-fcc370cfb763",
   "metadata": {},
   "source": [
    "12.integer to complex"
   ]
  },
  {
   "cell_type": "code",
   "execution_count": 480,
   "id": "a3cf7983-ec87-49da-bd75-3c1c4b767294",
   "metadata": {},
   "outputs": [
    {
     "name": "stdout",
     "output_type": "stream",
     "text": [
      "(576879+7j)\n"
     ]
    }
   ],
   "source": [
    "a=complex(576879,7)\n",
    "print(a)"
   ]
  },
  {
   "cell_type": "code",
   "execution_count": 482,
   "id": "04cc2217-c35c-4cf4-a591-16c573f54662",
   "metadata": {},
   "outputs": [
    {
     "data": {
      "text/plain": [
       "complex"
      ]
     },
     "execution_count": 482,
     "metadata": {},
     "output_type": "execute_result"
    }
   ],
   "source": [
    "type(a)"
   ]
  },
  {
   "cell_type": "markdown",
   "id": "006e29fd-713d-455d-bec4-4b585dbf4d42",
   "metadata": {},
   "source": [
    "or"
   ]
  },
  {
   "cell_type": "code",
   "execution_count": 485,
   "id": "5b6226a0-8aee-4132-a566-23a3ba51941b",
   "metadata": {},
   "outputs": [
    {
     "data": {
      "text/plain": [
       "int"
      ]
     },
     "execution_count": 485,
     "metadata": {},
     "output_type": "execute_result"
    }
   ],
   "source": [
    "a=9898398\n",
    "type(a)"
   ]
  },
  {
   "cell_type": "code",
   "execution_count": 487,
   "id": "96be74d2-e960-4bc3-8329-3a9f13b69eb0",
   "metadata": {},
   "outputs": [
    {
     "name": "stdout",
     "output_type": "stream",
     "text": [
      "(9898398+0j)\n"
     ]
    }
   ],
   "source": [
    "a=complex(a)\n",
    "print(a)"
   ]
  },
  {
   "cell_type": "code",
   "execution_count": 488,
   "id": "63b2f279-8140-4094-b58f-5348724c848d",
   "metadata": {},
   "outputs": [
    {
     "data": {
      "text/plain": [
       "complex"
      ]
     },
     "execution_count": 488,
     "metadata": {},
     "output_type": "execute_result"
    }
   ],
   "source": [
    "type(a)"
   ]
  },
  {
   "cell_type": "markdown",
   "id": "7d9a9ee4-23cf-484e-9e20-c6965f2c604c",
   "metadata": {},
   "source": [
    "13.string to complex"
   ]
  },
  {
   "cell_type": "code",
   "execution_count": 492,
   "id": "f42f2fd6-d570-4e77-ba28-94f3707230e6",
   "metadata": {},
   "outputs": [
    {
     "name": "stdout",
     "output_type": "stream",
     "text": [
      "(763782+0j)\n"
     ]
    }
   ],
   "source": [
    "a=complex(\"763782\")\n",
    "print(a)"
   ]
  },
  {
   "cell_type": "code",
   "execution_count": 494,
   "id": "f839cd28-fa96-4290-bf3f-bf7ea1684ba1",
   "metadata": {},
   "outputs": [
    {
     "data": {
      "text/plain": [
       "complex"
      ]
     },
     "execution_count": 494,
     "metadata": {},
     "output_type": "execute_result"
    }
   ],
   "source": [
    "type(a)"
   ]
  },
  {
   "cell_type": "markdown",
   "id": "c15e1669-400a-440d-811c-e614e1471c22",
   "metadata": {},
   "source": [
    "or"
   ]
  },
  {
   "cell_type": "code",
   "execution_count": 497,
   "id": "db60c7d7-5766-427c-a8f6-ab8fee730c7c",
   "metadata": {},
   "outputs": [
    {
     "data": {
      "text/plain": [
       "str"
      ]
     },
     "execution_count": 497,
     "metadata": {},
     "output_type": "execute_result"
    }
   ],
   "source": [
    "a=\"87490292\"\n",
    "type(a)"
   ]
  },
  {
   "cell_type": "code",
   "execution_count": 499,
   "id": "01b2ef0f-cae6-4e61-b8cb-ededd39c2381",
   "metadata": {},
   "outputs": [
    {
     "name": "stdout",
     "output_type": "stream",
     "text": [
      "(87490292+0j)\n"
     ]
    }
   ],
   "source": [
    "a=complex(a)\n",
    "print(a)"
   ]
  },
  {
   "cell_type": "code",
   "execution_count": 501,
   "id": "f3121a9e-ab7f-46a2-ae93-1d5e3825177d",
   "metadata": {},
   "outputs": [
    {
     "data": {
      "text/plain": [
       "complex"
      ]
     },
     "execution_count": 501,
     "metadata": {},
     "output_type": "execute_result"
    }
   ],
   "source": [
    "type(a)"
   ]
  },
  {
   "cell_type": "markdown",
   "id": "4f5a8fe0-9c51-4243-8535-082b334bad6e",
   "metadata": {},
   "source": [
    "14.complex to integer"
   ]
  },
  {
   "cell_type": "code",
   "execution_count": 504,
   "id": "513405a2-2049-43de-a6ca-958c198db947",
   "metadata": {},
   "outputs": [
    {
     "data": {
      "text/plain": [
       "complex"
      ]
     },
     "execution_count": 504,
     "metadata": {},
     "output_type": "execute_result"
    }
   ],
   "source": [
    "a=2+3j\n",
    "type(a)"
   ]
  },
  {
   "cell_type": "code",
   "execution_count": 505,
   "id": "e40bddd8-6a9a-4f92-8670-3e7b405b15c8",
   "metadata": {},
   "outputs": [
    {
     "ename": "TypeError",
     "evalue": "int() argument must be a string, a bytes-like object or a real number, not 'complex'",
     "output_type": "error",
     "traceback": [
      "\u001b[1;31m---------------------------------------------------------------------------\u001b[0m",
      "\u001b[1;31mTypeError\u001b[0m                                 Traceback (most recent call last)",
      "Cell \u001b[1;32mIn[505], line 1\u001b[0m\n\u001b[1;32m----> 1\u001b[0m a\u001b[38;5;241m=\u001b[39m\u001b[38;5;28mint\u001b[39m(a)\n\u001b[0;32m      2\u001b[0m \u001b[38;5;28mprint\u001b[39m(a)\n",
      "\u001b[1;31mTypeError\u001b[0m: int() argument must be a string, a bytes-like object or a real number, not 'complex'"
     ]
    }
   ],
   "source": [
    "a=int(a)\n",
    "print(a)"
   ]
  },
  {
   "cell_type": "code",
   "execution_count": 507,
   "id": "48717708-09e2-4738-83ae-c19177560c72",
   "metadata": {},
   "outputs": [
    {
     "data": {
      "text/plain": [
       "complex"
      ]
     },
     "execution_count": 507,
     "metadata": {},
     "output_type": "execute_result"
    }
   ],
   "source": [
    "type(a)"
   ]
  },
  {
   "cell_type": "markdown",
   "id": "b91c8f7c-937e-43a1-a79d-18ed68991061",
   "metadata": {},
   "source": [
    "15.complex to float"
   ]
  },
  {
   "cell_type": "code",
   "execution_count": 510,
   "id": "cc18e3c0-3f58-47d9-9dec-3eb0a833f43f",
   "metadata": {},
   "outputs": [
    {
     "ename": "TypeError",
     "evalue": "float() argument must be a string or a real number, not 'complex'",
     "output_type": "error",
     "traceback": [
      "\u001b[1;31m---------------------------------------------------------------------------\u001b[0m",
      "\u001b[1;31mTypeError\u001b[0m                                 Traceback (most recent call last)",
      "Cell \u001b[1;32mIn[510], line 1\u001b[0m\n\u001b[1;32m----> 1\u001b[0m a\u001b[38;5;241m=\u001b[39m\u001b[38;5;28mfloat\u001b[39m(\u001b[38;5;241m3\u001b[39m\u001b[38;5;241m+\u001b[39m\u001b[38;5;241m5\u001b[39mj)\n\u001b[0;32m      2\u001b[0m \u001b[38;5;28mprint\u001b[39m(a)\n",
      "\u001b[1;31mTypeError\u001b[0m: float() argument must be a string or a real number, not 'complex'"
     ]
    }
   ],
   "source": [
    "a=float(3+5j)\n",
    "print(a)"
   ]
  },
  {
   "cell_type": "code",
   "execution_count": 513,
   "id": "a0fb38d9-cc2d-4f09-af0c-42c2a4f4976b",
   "metadata": {},
   "outputs": [
    {
     "data": {
      "text/plain": [
       "complex"
      ]
     },
     "execution_count": 513,
     "metadata": {},
     "output_type": "execute_result"
    }
   ],
   "source": [
    "type(a)"
   ]
  },
  {
   "cell_type": "markdown",
   "id": "d77f90a4-4296-4a00-8c61-78e916d5f521",
   "metadata": {},
   "source": [
    "16.complex to string"
   ]
  },
  {
   "cell_type": "code",
   "execution_count": 516,
   "id": "1cacf11c-7a6c-4d57-944d-c1b029517f10",
   "metadata": {},
   "outputs": [
    {
     "name": "stdout",
     "output_type": "stream",
     "text": [
      "(4+5j)\n"
     ]
    }
   ],
   "source": [
    "a=str(4+5j)\n",
    "print(a)"
   ]
  },
  {
   "cell_type": "code",
   "execution_count": 518,
   "id": "a295252c-b621-4e34-aa8f-b922dddfccb9",
   "metadata": {},
   "outputs": [
    {
     "data": {
      "text/plain": [
       "str"
      ]
     },
     "execution_count": 518,
     "metadata": {},
     "output_type": "execute_result"
    }
   ],
   "source": [
    "type(a)"
   ]
  },
  {
   "cell_type": "markdown",
   "id": "8cfffafb-246f-4914-bc53-e86d09212aca",
   "metadata": {},
   "source": [
    "17.integer to string"
   ]
  },
  {
   "cell_type": "code",
   "execution_count": 521,
   "id": "be3ff217-d073-42cf-a1e4-c9e708ba3360",
   "metadata": {},
   "outputs": [
    {
     "name": "stdout",
     "output_type": "stream",
     "text": [
      "6747648\n"
     ]
    }
   ],
   "source": [
    "a=str(6747648)\n",
    "print(a)"
   ]
  },
  {
   "cell_type": "code",
   "execution_count": 523,
   "id": "23965600-feaf-4342-9396-c909f7200697",
   "metadata": {},
   "outputs": [
    {
     "data": {
      "text/plain": [
       "str"
      ]
     },
     "execution_count": 523,
     "metadata": {},
     "output_type": "execute_result"
    }
   ],
   "source": [
    "type(a)"
   ]
  },
  {
   "cell_type": "markdown",
   "id": "69cc738a-62f3-4d85-8854-fa0a3582e624",
   "metadata": {},
   "source": [
    "18.integer to boolean"
   ]
  },
  {
   "cell_type": "code",
   "execution_count": 526,
   "id": "61009d2c-a980-43e1-bb35-756998f6f984",
   "metadata": {},
   "outputs": [
    {
     "name": "stdout",
     "output_type": "stream",
     "text": [
      "True\n"
     ]
    }
   ],
   "source": [
    "a=bool(768798)\n",
    "print(a)"
   ]
  },
  {
   "cell_type": "code",
   "execution_count": 527,
   "id": "cdcb66b9-2b9c-4cc0-b94a-743092994f85",
   "metadata": {},
   "outputs": [
    {
     "data": {
      "text/plain": [
       "bool"
      ]
     },
     "execution_count": 527,
     "metadata": {},
     "output_type": "execute_result"
    }
   ],
   "source": [
    "type(a)"
   ]
  },
  {
   "cell_type": "markdown",
   "id": "3245609b-2b9d-40bc-be5e-ab4ba237e50a",
   "metadata": {},
   "source": [
    "19.boolean to complex"
   ]
  },
  {
   "cell_type": "code",
   "execution_count": 535,
   "id": "f3c410c7-309f-4653-9b8d-fa2a3f2197db",
   "metadata": {},
   "outputs": [
    {
     "name": "stdout",
     "output_type": "stream",
     "text": [
      "(1+0j)\n"
     ]
    }
   ],
   "source": [
    "a=complex(True)\n",
    "print(a)"
   ]
  },
  {
   "cell_type": "code",
   "execution_count": 537,
   "id": "989a6cd0-b6e0-4fcf-83ae-53dedfa50583",
   "metadata": {},
   "outputs": [
    {
     "data": {
      "text/plain": [
       "complex"
      ]
     },
     "execution_count": 537,
     "metadata": {},
     "output_type": "execute_result"
    }
   ],
   "source": [
    "type(a)"
   ]
  },
  {
   "cell_type": "markdown",
   "id": "baf0432c-db42-4a87-a801-0b1f539c01a3",
   "metadata": {},
   "source": [
    "20.complex to boolean"
   ]
  },
  {
   "cell_type": "code",
   "execution_count": 544,
   "id": "fd65a91d-3b69-40aa-8b86-c6dff87db865",
   "metadata": {},
   "outputs": [
    {
     "name": "stdout",
     "output_type": "stream",
     "text": [
      "True\n"
     ]
    }
   ],
   "source": [
    "a=bool(2+6j)\n",
    "print(a)"
   ]
  },
  {
   "cell_type": "code",
   "execution_count": 546,
   "id": "c2799b18-c187-40a9-85d5-8b6501abc7c1",
   "metadata": {},
   "outputs": [
    {
     "data": {
      "text/plain": [
       "bool"
      ]
     },
     "execution_count": 546,
     "metadata": {},
     "output_type": "execute_result"
    }
   ],
   "source": [
    "type(a)"
   ]
  },
  {
   "cell_type": "code",
   "execution_count": null,
   "id": "2da11d2f-28b3-48c8-a54e-560149999845",
   "metadata": {},
   "outputs": [],
   "source": []
  }
 ],
 "metadata": {
  "kernelspec": {
   "display_name": "Python 3 (ipykernel)",
   "language": "python",
   "name": "python3"
  },
  "language_info": {
   "codemirror_mode": {
    "name": "ipython",
    "version": 3
   },
   "file_extension": ".py",
   "mimetype": "text/x-python",
   "name": "python",
   "nbconvert_exporter": "python",
   "pygments_lexer": "ipython3",
   "version": "3.12.7"
  }
 },
 "nbformat": 4,
 "nbformat_minor": 5
}
