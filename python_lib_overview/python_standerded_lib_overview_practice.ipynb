{
 "cells": [
  {
   "cell_type": "code",
   "execution_count": 2,
   "id": "99a3971f",
   "metadata": {},
   "outputs": [
    {
     "name": "stdout",
     "output_type": "stream",
     "text": [
      "array('i', [1, 2, 3, 4])\n"
     ]
    }
   ],
   "source": [
    "import array\n",
    "arr=array.array('i',[1,2,3,4])\n",
    "print(arr)"
   ]
  },
  {
   "cell_type": "code",
   "execution_count": 3,
   "id": "9685984f",
   "metadata": {},
   "outputs": [
    {
     "name": "stdout",
     "output_type": "stream",
     "text": [
      "4.0\n",
      "3.141592653589793\n"
     ]
    }
   ],
   "source": [
    "import math\n",
    "print(math.sqrt(16))\n",
    "print(math.pi)"
   ]
  },
  {
   "cell_type": "code",
   "execution_count": 18,
   "id": "1782bf14",
   "metadata": {},
   "outputs": [
    {
     "name": "stdout",
     "output_type": "stream",
     "text": [
      "2\n",
      "cherry\n"
     ]
    }
   ],
   "source": [
    "import random # Not be all the time same\n",
    "#Random we specifically use to importent in-built function \n",
    "# randint basically means its provides the any random integer based on the value we give over here.\n",
    "print(random.randint(1, 10)) # Here it will bw come only 1 random num\n",
    "# choice --> it is basically a randomly choice\n",
    "print(random.choice(['apple','banana','cherry']))"
   ]
  },
  {
   "cell_type": "code",
   "execution_count": 19,
   "id": "46536854",
   "metadata": {},
   "outputs": [
    {
     "name": "stdout",
     "output_type": "stream",
     "text": [
      "c:\\code\\python practice\\python_lib_overview\n"
     ]
    }
   ],
   "source": [
    "# os-->it is a lib\n",
    "### it is use for file and directory access.\n",
    "\n",
    "import os\n",
    "print(os.getcwd())"
   ]
  },
  {
   "cell_type": "code",
   "execution_count": 20,
   "id": "d65d367b",
   "metadata": {},
   "outputs": [],
   "source": [
    "os.mkdir('test_dir')"
   ]
  },
  {
   "cell_type": "code",
   "execution_count": 21,
   "id": "c3e0a353",
   "metadata": {},
   "outputs": [
    {
     "data": {
      "text/plain": [
       "'destination.txt'"
      ]
     },
     "execution_count": 21,
     "metadata": {},
     "output_type": "execute_result"
    }
   ],
   "source": [
    "## High level perations on files and collection of files.\n",
    "import shutil\n",
    "shutil.copyfile('source.txt','destination.txt')"
   ]
  },
  {
   "cell_type": "code",
   "execution_count": 26,
   "id": "e0758465",
   "metadata": {},
   "outputs": [
    {
     "name": "stdout",
     "output_type": "stream",
     "text": [
      "{'name': 'Manogna', 'age': 25}\n",
      "{\"name\": \"Manogna\", \"age\": 25}\n",
      "<class 'str'>\n",
      "{'name': 'Manogna', 'age': 25}\n",
      "<class 'dict'>\n"
     ]
    }
   ],
   "source": [
    "## Data realization\n",
    "\n",
    "# json ---> when iam intracting with an API, I get kind some kind of JSON in response that mean that will be always in the string format, which i have actually converted\n",
    "import json\n",
    "data={'name':'Manogna','age':25}\n",
    "json_str=json.dumps(data)\n",
    "print(data)\n",
    "print(json_str)\n",
    "print(type(json_str))\n",
    "\n",
    "# Json str converted into disct.\n",
    "past_data=json.loads(json_str)\n",
    "print(past_data)\n",
    "print(type(past_data))\n"
   ]
  },
  {
   "cell_type": "code",
   "execution_count": 27,
   "id": "3799e631",
   "metadata": {},
   "outputs": [
    {
     "name": "stdout",
     "output_type": "stream",
     "text": [
      "['name', 'age']\n",
      "['Manu', '24']\n"
     ]
    }
   ],
   "source": [
    "# csv lib\n",
    "\n",
    "import csv\n",
    "\n",
    "with open('example.csv',mode='w',newline='') as file:\n",
    "    writer=csv.writer(file)\n",
    "    writer.writerow(['name','age'])\n",
    "    writer.writerow(['Manu',24])\n",
    "\n",
    "with open('example.csv',mode='r') as file:\n",
    "    reader=csv.reader(file)\n",
    "    for row in reader:\n",
    "        print(row)\n"
   ]
  },
  {
   "cell_type": "code",
   "execution_count": 32,
   "id": "de5941f0",
   "metadata": {},
   "outputs": [
    {
     "name": "stdout",
     "output_type": "stream",
     "text": [
      "2025-06-19 11:19:27.045223\n",
      "2025-06-18 11:19:27.045223\n"
     ]
    }
   ],
   "source": [
    "# datetime\n",
    "from datetime import datetime,timedelta\n",
    "\n",
    "now=datetime.now()\n",
    "print(now)\n",
    "\n",
    "\n",
    "yesterday = now-timedelta(days=1)\n",
    "\n",
    "print(yesterday)"
   ]
  },
  {
   "cell_type": "code",
   "execution_count": 35,
   "id": "63ddbf87",
   "metadata": {},
   "outputs": [
    {
     "name": "stdout",
     "output_type": "stream",
     "text": [
      "1750312241.9263935\n",
      "1750312243.9271574\n"
     ]
    }
   ],
   "source": [
    "# time\n",
    "\n",
    "import time\n",
    "print(time.time())\n",
    "\n",
    "time.sleep(2)\n",
    "print(time.time())"
   ]
  },
  {
   "cell_type": "code",
   "execution_count": 41,
   "id": "502cdb18",
   "metadata": {},
   "outputs": [
    {
     "name": "stdout",
     "output_type": "stream",
     "text": [
      "77\n"
     ]
    }
   ],
   "source": [
    "# Regular expression\n",
    "# Regular expression is basically helps yu to match a specific expression in a top of a sentence. We can do entire data set and many things.\n",
    "\n",
    "import re\n",
    "\n",
    "pattern = r'\\d+'\n",
    "text = 'There are 77 apples'\n",
    "match = re.search(pattern,text)\n",
    "print(match.group())\n",
    "\n",
    "# Here where d+ pattern is getting matched. so here yu can see that 123 is present and 'd' is basically digits."
   ]
  },
  {
   "cell_type": "code",
   "execution_count": null,
   "id": "1f97a747",
   "metadata": {},
   "outputs": [],
   "source": []
  }
 ],
 "metadata": {
  "kernelspec": {
   "display_name": "Python 3",
   "language": "python",
   "name": "python3"
  },
  "language_info": {
   "codemirror_mode": {
    "name": "ipython",
    "version": 3
   },
   "file_extension": ".py",
   "mimetype": "text/x-python",
   "name": "python",
   "nbconvert_exporter": "python",
   "pygments_lexer": "ipython3",
   "version": "3.12.0"
  }
 },
 "nbformat": 4,
 "nbformat_minor": 5
}
