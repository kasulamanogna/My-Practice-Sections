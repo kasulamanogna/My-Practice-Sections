{
 "cells": [
  {
   "cell_type": "code",
   "execution_count": 1,
   "id": "1ed9bfe3-3c01-440b-b4ee-73f3c7190f40",
   "metadata": {},
   "outputs": [
    {
     "ename": "SyntaxError",
     "evalue": "incomplete input (3912289870.py, line 1)",
     "output_type": "error",
     "traceback": [
      "\u001b[1;36m  Cell \u001b[1;32mIn[1], line 1\u001b[1;36m\u001b[0m\n\u001b[1;33m    def Tax_amount(salary):\u001b[0m\n\u001b[1;37m                           ^\u001b[0m\n\u001b[1;31mSyntaxError\u001b[0m\u001b[1;31m:\u001b[0m incomplete input\n"
     ]
    }
   ],
   "source": [
    "def Tax_amount(salary):\n"
   ]
  },
  {
   "cell_type": "code",
   "execution_count": 9,
   "id": "0c5aa7e7-c629-46d3-8a50-f0e241d2b2fb",
   "metadata": {},
   "outputs": [],
   "source": [
    "def add_calcukl(num1,num2):\n",
    "    return num1+num2"
   ]
  },
  {
   "cell_type": "code",
   "execution_count": 11,
   "id": "975d1004-e782-44f6-9f94-e2186977be44",
   "metadata": {},
   "outputs": [
    {
     "data": {
      "text/plain": [
       "780"
      ]
     },
     "execution_count": 11,
     "metadata": {},
     "output_type": "execute_result"
    }
   ],
   "source": [
    "add_calcukl(777,3)"
   ]
  },
  {
   "cell_type": "code",
   "execution_count": 13,
   "id": "671fd455-34a1-453f-972b-aef947d3fb88",
   "metadata": {},
   "outputs": [],
   "source": [
    "def add_(num1,num2):\n",
    "    return num1+num2"
   ]
  },
  {
   "cell_type": "code",
   "execution_count": 15,
   "id": "c8720e56-cab4-45d3-b46d-8d535d30d762",
   "metadata": {},
   "outputs": [
    {
     "data": {
      "text/plain": [
       "780"
      ]
     },
     "execution_count": 15,
     "metadata": {},
     "output_type": "execute_result"
    }
   ],
   "source": [
    "add_(777,3)"
   ]
  },
  {
   "cell_type": "code",
   "execution_count": 17,
   "id": "a3cf1519-4c81-40cb-9c88-ed3bc07591f8",
   "metadata": {},
   "outputs": [],
   "source": [
    "def tax(n1,n2):\n",
    "    return n1-n2"
   ]
  },
  {
   "cell_type": "code",
   "execution_count": 19,
   "id": "73afec55-87be-445e-81ba-162739de755d",
   "metadata": {},
   "outputs": [
    {
     "data": {
      "text/plain": [
       "46"
      ]
     },
     "execution_count": 19,
     "metadata": {},
     "output_type": "execute_result"
    }
   ],
   "source": [
    "tax(50,4)"
   ]
  },
  {
   "cell_type": "code",
   "execution_count": 21,
   "id": "751d2c0e-65c5-48c7-8a1c-6df7507721f2",
   "metadata": {},
   "outputs": [],
   "source": [
    "def Hello(a,b=10):\n",
    "    return a+b"
   ]
  },
  {
   "cell_type": "code",
   "execution_count": 23,
   "id": "d1f4d408-8577-4630-b5dc-6d4a0e5efea1",
   "metadata": {},
   "outputs": [
    {
     "data": {
      "text/plain": [
       "12"
      ]
     },
     "execution_count": 23,
     "metadata": {},
     "output_type": "execute_result"
    }
   ],
   "source": [
    "Hello(10,2)"
   ]
  },
  {
   "cell_type": "code",
   "execution_count": 25,
   "id": "71cd9039-48bd-4a17-bb3e-511e72145198",
   "metadata": {},
   "outputs": [],
   "source": [
    "def Hello(a,b=10):\n",
    "    return a+b"
   ]
  },
  {
   "cell_type": "code",
   "execution_count": 27,
   "id": "e1dcb4c9-cda7-40c3-84ce-52ff0bfe394a",
   "metadata": {},
   "outputs": [
    {
     "ename": "NameError",
     "evalue": "name 'a' is not defined",
     "output_type": "error",
     "traceback": [
      "\u001b[1;31m---------------------------------------------------------------------------\u001b[0m",
      "\u001b[1;31mNameError\u001b[0m                                 Traceback (most recent call last)",
      "Cell \u001b[1;32mIn[27], line 1\u001b[0m\n\u001b[1;32m----> 1\u001b[0m Hello(a)\n",
      "\u001b[1;31mNameError\u001b[0m: name 'a' is not defined"
     ]
    }
   ],
   "source": [
    "Hello(a)"
   ]
  },
  {
   "cell_type": "code",
   "execution_count": 29,
   "id": "b857cdef-08fa-4018-a9d9-de23cd43d06d",
   "metadata": {},
   "outputs": [],
   "source": [
    "def Hello(a,b=10):\n",
    "    return a+b"
   ]
  },
  {
   "cell_type": "code",
   "execution_count": 31,
   "id": "9dc0f54c-32e8-43ea-912d-15110b7960f6",
   "metadata": {},
   "outputs": [
    {
     "data": {
      "text/plain": [
       "20"
      ]
     },
     "execution_count": 31,
     "metadata": {},
     "output_type": "execute_result"
    }
   ],
   "source": [
    "Hello(10)"
   ]
  },
  {
   "cell_type": "code",
   "execution_count": 41,
   "id": "80000122-db18-45b7-9b0f-07bec0b2f451",
   "metadata": {},
   "outputs": [],
   "source": [
    "def Hello(a,b):\n",
    "    return a+b\n",
    "    print(a)\n",
    "    print(b)"
   ]
  },
  {
   "cell_type": "code",
   "execution_count": 47,
   "id": "033069a9-85f8-4b5c-a21a-5c4df838c6f6",
   "metadata": {},
   "outputs": [],
   "source": [
    "def Hello(a,b):\n",
    "    return a+b"
   ]
  },
  {
   "cell_type": "code",
   "execution_count": 49,
   "id": "b3791758-d6eb-4276-9d05-69c8bdc33efb",
   "metadata": {},
   "outputs": [
    {
     "ename": "TypeError",
     "evalue": "can only concatenate str (not \"int\") to str",
     "output_type": "error",
     "traceback": [
      "\u001b[1;31m---------------------------------------------------------------------------\u001b[0m",
      "\u001b[1;31mTypeError\u001b[0m                                 Traceback (most recent call last)",
      "Cell \u001b[1;32mIn[49], line 1\u001b[0m\n\u001b[1;32m----> 1\u001b[0m Hello(\u001b[38;5;124m\"\u001b[39m\u001b[38;5;124mmanu\u001b[39m\u001b[38;5;124m\"\u001b[39m,\u001b[38;5;241m2\u001b[39m)\n",
      "Cell \u001b[1;32mIn[47], line 2\u001b[0m, in \u001b[0;36mHello\u001b[1;34m(a, b)\u001b[0m\n\u001b[0;32m      1\u001b[0m \u001b[38;5;28;01mdef\u001b[39;00m \u001b[38;5;21mHello\u001b[39m(a,b):\n\u001b[1;32m----> 2\u001b[0m     \u001b[38;5;28;01mreturn\u001b[39;00m a\u001b[38;5;241m+\u001b[39mb\n",
      "\u001b[1;31mTypeError\u001b[0m: can only concatenate str (not \"int\") to str"
     ]
    }
   ],
   "source": [
    "Hello(\"manu\",2)"
   ]
  },
  {
   "cell_type": "code",
   "execution_count": 87,
   "id": "09ae749e-e095-4444-8b49-d063d2b0fa48",
   "metadata": {},
   "outputs": [],
   "source": [
    "def tax_amount(salary):\n",
    "    if(salary<10000):\n",
    "        print(\"No tax amount\")\n",
    "    elif(salary>=10000) and (salary<20000):\n",
    "        print(f\"your salary is {salary} and your tax amountis{salary*0.1}\")\n",
    "    else:\n",
    "        print(\"In Progress\")"
   ]
  },
  {
   "cell_type": "code",
   "execution_count": 89,
   "id": "d9b650b4-fa3f-4ce4-9286-a49d121ecaea",
   "metadata": {},
   "outputs": [
    {
     "name": "stdout",
     "output_type": "stream",
     "text": [
      "In Progress\n"
     ]
    }
   ],
   "source": [
    "tax_amount(20000)"
   ]
  },
  {
   "cell_type": "code",
   "execution_count": 91,
   "id": "6b6b5b8f-0d7f-43e1-97dd-fe63e03d825d",
   "metadata": {},
   "outputs": [
    {
     "name": "stdout",
     "output_type": "stream",
     "text": [
      "In Progress\n"
     ]
    }
   ],
   "source": [
    "tax_amount(1000000)"
   ]
  },
  {
   "cell_type": "code",
   "execution_count": 93,
   "id": "4a2c5520-bcda-43bd-9c6c-8c0a717449c6",
   "metadata": {},
   "outputs": [
    {
     "name": "stdout",
     "output_type": "stream",
     "text": [
      "In Progress\n"
     ]
    }
   ],
   "source": [
    "tax_amount(100000)"
   ]
  },
  {
   "cell_type": "code",
   "execution_count": 95,
   "id": "b78397d3-e731-44e2-b1a4-9db2e9c85d84",
   "metadata": {},
   "outputs": [
    {
     "name": "stdout",
     "output_type": "stream",
     "text": [
      "your salary is 10000 and your tax amountis1000.0\n"
     ]
    }
   ],
   "source": [
    "tax_amount(10000)"
   ]
  },
  {
   "cell_type": "code",
   "execution_count": 97,
   "id": "66fbaaad-8e02-452b-ad70-02d8da4b15ea",
   "metadata": {},
   "outputs": [
    {
     "name": "stdout",
     "output_type": "stream",
     "text": [
      "No tax amount\n"
     ]
    }
   ],
   "source": [
    "tax_amount(9999)"
   ]
  },
  {
   "cell_type": "code",
   "execution_count": 99,
   "id": "4c1c64fb-7fc5-4b6f-8ab7-67bd7e05f39e",
   "metadata": {},
   "outputs": [
    {
     "name": "stdout",
     "output_type": "stream",
     "text": [
      "No tax amount\n"
     ]
    }
   ],
   "source": [
    "tax_amount(1999)"
   ]
  },
  {
   "cell_type": "code",
   "execution_count": 101,
   "id": "37a88f96-180d-4f49-93bf-c89d93cf5df6",
   "metadata": {},
   "outputs": [
    {
     "name": "stdout",
     "output_type": "stream",
     "text": [
      "In Progress\n"
     ]
    }
   ],
   "source": [
    "tax_amount(30000)"
   ]
  },
  {
   "cell_type": "code",
   "execution_count": 109,
   "id": "b96cfe7a-f98e-4824-83d4-6bccabf9f72a",
   "metadata": {},
   "outputs": [],
   "source": [
    "def tax_amount(salary):\n",
    "    if(salary<10000):\n",
    "        print(\"No tax amount\")\n",
    "    elif(salary>=10000) and (salary<20000):\n",
    "        print(f\"your salary is {salary} and your tax amountis{salary*0.1}\")\n",
    "    else:\n",
    "        print(\"In Progress\")"
   ]
  },
  {
   "cell_type": "code",
   "execution_count": 111,
   "id": "7776e076-980b-4def-a3ea-72d0844533c7",
   "metadata": {},
   "outputs": [
    {
     "name": "stdout",
     "output_type": "stream",
     "text": [
      "In Progress\n"
     ]
    }
   ],
   "source": [
    "tax_amount(20000)"
   ]
  },
  {
   "cell_type": "code",
   "execution_count": 113,
   "id": "37dfbfa8-d744-459e-8c6e-a88a3177491b",
   "metadata": {},
   "outputs": [
    {
     "name": "stdout",
     "output_type": "stream",
     "text": [
      "your salary is 10000 and your tax amountis1000.0\n"
     ]
    }
   ],
   "source": [
    "tax_amount(10000)"
   ]
  },
  {
   "cell_type": "code",
   "execution_count": 115,
   "id": "bca52a50-0d16-4758-97ee-1a1c0fc895ac",
   "metadata": {},
   "outputs": [
    {
     "name": "stdout",
     "output_type": "stream",
     "text": [
      "In Progress\n"
     ]
    }
   ],
   "source": [
    "tax_amount(25000)"
   ]
  },
  {
   "cell_type": "code",
   "execution_count": 117,
   "id": "4ec93293-556a-4f50-884a-81619eab2fa1",
   "metadata": {},
   "outputs": [
    {
     "name": "stdout",
     "output_type": "stream",
     "text": [
      "your salary is 19999 and your tax amountis1999.9\n"
     ]
    }
   ],
   "source": [
    "tax_amount(19999)"
   ]
  },
  {
   "cell_type": "code",
   "execution_count": null,
   "id": "030cda9a-3193-4e43-ab2b-adab1a0ad1a1",
   "metadata": {},
   "outputs": [],
   "source": []
  }
 ],
 "metadata": {
  "kernelspec": {
   "display_name": "Python 3 (ipykernel)",
   "language": "python",
   "name": "python3"
  },
  "language_info": {
   "codemirror_mode": {
    "name": "ipython",
    "version": 3
   },
   "file_extension": ".py",
   "mimetype": "text/x-python",
   "name": "python",
   "nbconvert_exporter": "python",
   "pygments_lexer": "ipython3",
   "version": "3.12.7"
  }
 },
 "nbformat": 4,
 "nbformat_minor": 5
}
