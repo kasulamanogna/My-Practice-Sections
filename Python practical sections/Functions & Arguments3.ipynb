{
 "cells": [
  {
   "cell_type": "markdown",
   "id": "811cf2fd-a4fd-4b3b-8a15-99760460d1c0",
   "metadata": {},
   "source": [
    "#Functions"
   ]
  },
  {
   "cell_type": "markdown",
   "id": "296f24e4-df93-4b91-879a-0603562f614f",
   "metadata": {},
   "source": [
    "1.Absolute value"
   ]
  },
  {
   "cell_type": "code",
   "execution_count": 7,
   "id": "9f7813d8-bafb-48b4-985f-5dad99d49419",
   "metadata": {},
   "outputs": [
    {
     "name": "stdout",
     "output_type": "stream",
     "text": [
      "7.5\n"
     ]
    }
   ],
   "source": [
    "x=-7.5\n",
    "print(abs(x)) #return value is a always positive"
   ]
  },
  {
   "cell_type": "markdown",
   "id": "8018dd97-eab6-4b5d-a09d-d8d64e9eca3f",
   "metadata": {},
   "source": [
    "2.exponent (exp)"
   ]
  },
  {
   "cell_type": "code",
   "execution_count": 11,
   "id": "2a8bdf23-ca31-4c68-9adf-063c43c79a7e",
   "metadata": {},
   "outputs": [
    {
     "name": "stdout",
     "output_type": "stream",
     "text": [
      "22026.465794806718\n"
     ]
    }
   ],
   "source": [
    "import math\n",
    "x=10\n",
    "print(math.exp(x))"
   ]
  },
  {
   "cell_type": "code",
   "execution_count": 13,
   "id": "7d91e265-2f2a-4133-950f-d55b83f6b30f",
   "metadata": {},
   "outputs": [
    {
     "data": {
      "text/plain": [
       "2.718281828459045"
      ]
     },
     "execution_count": 13,
     "metadata": {},
     "output_type": "execute_result"
    }
   ],
   "source": [
    "math.e"
   ]
  },
  {
   "cell_type": "code",
   "execution_count": 15,
   "id": "3b217037-ac57-4163-8050-9ca3a4514855",
   "metadata": {},
   "outputs": [
    {
     "data": {
      "text/plain": [
       "3.141592653589793"
      ]
     },
     "execution_count": 15,
     "metadata": {},
     "output_type": "execute_result"
    }
   ],
   "source": [
    "math.pi"
   ]
  },
  {
   "cell_type": "markdown",
   "id": "94d19553-ba8a-4b63-ba41-c7f7ffe00259",
   "metadata": {},
   "source": [
    "3.maximum"
   ]
  },
  {
   "cell_type": "code",
   "execution_count": 2,
   "id": "542745ae-4e04-4a1a-9148-33a99250c5ea",
   "metadata": {},
   "outputs": [
    {
     "data": {
      "text/plain": [
       "48979693"
      ]
     },
     "execution_count": 2,
     "metadata": {},
     "output_type": "execute_result"
    }
   ],
   "source": [
    "max(1,4389,497868,48979693,749389)"
   ]
  },
  {
   "cell_type": "markdown",
   "id": "d11e6579-0511-4feb-9c47-2d98e9632a51",
   "metadata": {},
   "source": [
    "4.Minimum"
   ]
  },
  {
   "cell_type": "code",
   "execution_count": 5,
   "id": "47e04947-0344-4d7d-99cb-f0e9fd05de5d",
   "metadata": {},
   "outputs": [
    {
     "data": {
      "text/plain": [
       "1"
      ]
     },
     "execution_count": 5,
     "metadata": {},
     "output_type": "execute_result"
    }
   ],
   "source": [
    "min(1,4879846,39879,89387,8478)"
   ]
  },
  {
   "cell_type": "markdown",
   "id": "0115d308-ec42-452b-a1ed-2dae3bd76860",
   "metadata": {},
   "source": [
    "5.Greet()"
   ]
  },
  {
   "cell_type": "code",
   "execution_count": 10,
   "id": "f34caf34-03f0-4d5d-b0e5-3084f728e9c2",
   "metadata": {},
   "outputs": [
    {
     "name": "stdout",
     "output_type": "stream",
     "text": [
      "Hello world\n",
      "outside function\n"
     ]
    }
   ],
   "source": [
    "def greet():\n",
    "    print('Hello world')\n",
    "    #call the function\n",
    "greet()\n",
    "print('outside function')\n"
   ]
  },
  {
   "cell_type": "code",
   "execution_count": null,
   "id": "952aed1a-ccc1-44f1-ac7b-19b6690eaa83",
   "metadata": {},
   "outputs": [],
   "source": []
  },
  {
   "cell_type": "markdown",
   "id": "cbe9a562-c531-462f-9e9a-e86f4385a28b",
   "metadata": {},
   "source": [
    "#Function Arguments\n",
    "\n",
    "passing argument"
   ]
  },
  {
   "cell_type": "code",
   "execution_count": 3,
   "id": "a0a5b199-730c-44a7-ba98-8f06ac3431af",
   "metadata": {},
   "outputs": [
    {
     "name": "stdout",
     "output_type": "stream",
     "text": [
      "Hello John\n"
     ]
    }
   ],
   "source": [
    "def greet(name):\n",
    "    print(\"Hello\", name)\n",
    "\n",
    "# pass argument\n",
    "greet(\"John\")"
   ]
  },
  {
   "cell_type": "code",
   "execution_count": 5,
   "id": "a0c38250-4043-4c30-a670-8c9541a65da6",
   "metadata": {},
   "outputs": [
    {
     "name": "stdout",
     "output_type": "stream",
     "text": [
      "Hello Lalli\n"
     ]
    }
   ],
   "source": [
    "greet(\"Lalli\")"
   ]
  },
  {
   "cell_type": "markdown",
   "id": "41f4ac4a-1c65-4d83-9102-4f3604044913",
   "metadata": {},
   "source": [
    "(or)\n",
    "\n",
    "We can use multiple arguments "
   ]
  },
  {
   "cell_type": "code",
   "execution_count": 21,
   "id": "8e14f66e-a523-492b-aec3-18af69bc1da8",
   "metadata": {},
   "outputs": [
    {
     "name": "stdout",
     "output_type": "stream",
     "text": [
      "lalli  name\n",
      "bangaram  name\n",
      "chitti  name\n",
      "amma  name\n",
      "sai  name\n",
      "nanna  name\n"
     ]
    }
   ],
   "source": [
    "def my_name(name):\n",
    "       print(name+\"  \"+ \"name\")\n",
    "    #pass arguments\n",
    "my_name(\"lalli\")\n",
    "my_name(\"bangaram\")\n",
    "my_name(\"chitti\")\n",
    "my_name(\"amma\")\n",
    "my_name(\"sai\")\n",
    "my_name(\"nanna\")"
   ]
  },
  {
   "cell_type": "markdown",
   "id": "cb6f967b-2afa-4bb4-9755-30bfb00bbf78",
   "metadata": {},
   "source": [
    "#4 types of arguments.........................\n",
    "\n",
    "1.Positional Arguments: These are the most common type of arguments. You pass them in the same order as the function's parameters."
   ]
  },
  {
   "cell_type": "code",
   "execution_count": 33,
   "id": "5b529668-d586-4a1e-9bb2-71fc34608d9c",
   "metadata": {},
   "outputs": [
    {
     "name": "stdout",
     "output_type": "stream",
     "text": [
      "Hello, Alice! You are 30 years old.\n"
     ]
    }
   ],
   "source": [
    "def greet(name, age):\n",
    "    print(f\"Hello, {name}! You are {age} years old.\")\n",
    "\n",
    "greet(\"Alice\", 30)"
   ]
  },
  {
   "cell_type": "markdown",
   "id": "7c26723a-b87b-4a62-9290-2f2e5bd2ce30",
   "metadata": {},
   "source": [
    "2.Keyword Arguments: These arguments are passed by explicitly naming each parameter and assigning a value to it. This allows you to pass arguments in any order."
   ]
  },
  {
   "cell_type": "code",
   "execution_count": 36,
   "id": "569a5330-5925-41fe-becf-c4255386a714",
   "metadata": {},
   "outputs": [
    {
     "name": "stdout",
     "output_type": "stream",
     "text": [
      "Hello, Alice! You are 30 years old.\n"
     ]
    }
   ],
   "source": [
    "def greet(name, age):\n",
    "    print(f\"Hello, {name}! You are {age} years old.\")\n",
    "\n",
    "greet(age=30, name=\"Alice\")\n"
   ]
  },
  {
   "cell_type": "markdown",
   "id": "6421aba3-2207-44e4-889a-b850ec47a642",
   "metadata": {},
   "source": [
    "3.Default Arguments: These are arguments that assume a default value if no value is provided during the function call."
   ]
  },
  {
   "cell_type": "code",
   "execution_count": 39,
   "id": "3caeecc1-f15d-422d-abf2-56941ef8ec3b",
   "metadata": {},
   "outputs": [
    {
     "name": "stdout",
     "output_type": "stream",
     "text": [
      "Hello, Alice! You are 25 years old.\n",
      "Hello, Bob! You are 30 years old.\n"
     ]
    }
   ],
   "source": [
    "def greet(name, age=25):\n",
    "    print(f\"Hello, {name}! You are {age} years old.\")\n",
    "\n",
    "greet(\"Alice\")\n",
    "greet(\"Bob\", 30)\n"
   ]
  },
  {
   "cell_type": "markdown",
   "id": "d5993a99-590b-4b4e-953d-b621d3cafe3a",
   "metadata": {},
   "source": [
    "4.Variable-Length Arguments: These allow you to pass an arbitrary number of arguments to a function. There are two types:\n",
    "\n",
    "     1. #kwargs: Used to pass a variable number of keyword arguments."
   ]
  },
  {
   "cell_type": "code",
   "execution_count": 45,
   "id": "3e3f596a-8bfb-4d0b-8ba2-eecbe90ecb6c",
   "metadata": {},
   "outputs": [
    {
     "name": "stdout",
     "output_type": "stream",
     "text": [
      "name: Alice\n",
      "age: 30\n",
      "city: Delhi\n"
     ]
    }
   ],
   "source": [
    "def greet(**info):\n",
    "    for key, value in info.items():\n",
    "        print(f\"{key}: {value}\")\n",
    "\n",
    "greet(name=\"Alice\", age=30, city=\"Delhi\")\n"
   ]
  },
  {
   "cell_type": "markdown",
   "id": "5c37b691-60c5-4975-b92c-2c66b66396a8",
   "metadata": {},
   "source": [
    "2.*args: Used to pass a variable number of non-keyword arguments."
   ]
  },
  {
   "cell_type": "code",
   "execution_count": 58,
   "id": "aae709a5-a28b-408d-be48-88f19b1fe170",
   "metadata": {},
   "outputs": [
    {
     "name": "stdout",
     "output_type": "stream",
     "text": [
      "Hello, Alice!\n",
      "Hello, Bob!\n",
      "Hello, Charlie!\n"
     ]
    }
   ],
   "source": [
    "def greet(*names):\n",
    "    for name in names:\n",
    "        print(f\"Hello, {name}!\")\n",
    "\n",
    "greet(\"Alice\", \"Bob\", \"Charlie\")"
   ]
  },
  {
   "cell_type": "markdown",
   "id": "324bf1e8-c780-41a8-841d-aa977ca9088c",
   "metadata": {},
   "source": []
  }
 ],
 "metadata": {
  "kernelspec": {
   "display_name": "Python [conda env:base] *",
   "language": "python",
   "name": "conda-base-py"
  },
  "language_info": {
   "codemirror_mode": {
    "name": "ipython",
    "version": 3
   },
   "file_extension": ".py",
   "mimetype": "text/x-python",
   "name": "python",
   "nbconvert_exporter": "python",
   "pygments_lexer": "ipython3",
   "version": "3.12.7"
  }
 },
 "nbformat": 4,
 "nbformat_minor": 5
}
