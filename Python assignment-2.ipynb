{
 "cells": [
  {
   "cell_type": "markdown",
   "metadata": {},
   "source": [
    "# Module 2: Control Flow Assignments\n",
    "## Lesson 2.1: Conditional Statements\n",
    "### Assignment 1: Simple if Statement\n",
    "\n",
    "Write a program that asks the user to input a number and prints whether the number is positive.\n",
    "\n",
    "### Assignment 2: if-else Statement\n",
    "\n",
    "Write a program that asks the user to input a number and prints whether the number is positive or negative.\n",
    "\n",
    "### Assignment 3: if-elif-else Statement\n",
    "\n",
    "Write a program that asks the user to input a number and prints whether the number is positive, negative, or zero.\n",
    "\n",
    "### Assignment 4: Nested if Statement\n",
    "\n",
    "Write a program that asks the user to input a number and prints whether the number is positive and even, positive and odd, or negative.\n",
    "\n",
    "## Lesson 2.2: Loops\n",
    "### Assignment 5: for Loop\n",
    "\n",
    "Write a program that prints all the numbers from 1 to 10 using a for loop.\n",
    "\n",
    "### Assignment 6: while Loop\n",
    "\n",
    "Write a program that prints all the numbers from 1 to 10 using a while loop.\n",
    "\n",
    "### Assignment 7: Nested Loops\n",
    "\n",
    "Write a program that prints a 5x5 grid of asterisks (*) using nested loops.\n",
    "\n",
    "### Assignment 8: break Statement\n",
    "\n",
    "Write a program that asks the user to input numbers until they input 0. The program should print the sum of all the input numbers.\n",
    "\n",
    "### Assignment 9: continue Statement\n",
    "\n",
    "Write a program that prints all the numbers from 1 to 10 except 5 using a for loop and continue statement.\n",
    "\n",
    "### Assignment 10: pass Statement\n",
    "\n",
    "Write a program that defines an empty function using the pass statement.\n",
    "\n",
    "### Assignment 11: Combining Loops and Conditionals\n",
    "\n",
    "Write a program that asks the user to input a number and prints all the even numbers from 1 to that number using a for loop.\n",
    "\n",
    "### Assignment 12: Factorial Calculation\n",
    "\n",
    "Write a program that calculates the factorial of a number input by the user using a while loop.\n",
    "\n",
    "### Assignment 13: Sum of Digits\n",
    "\n",
    "Write a program that calculates the sum of the digits of a number input by the user using a while loop.\n",
    "\n",
    "### Assignment 14: Prime Number Check\n",
    "\n",
    "Write a program that checks if a number input by the user is a prime number using a for loop.\n",
    "\n",
    "### Assignment 15: Fibonacci Sequence\n",
    "\n",
    "Write a program that prints the first n Fibonacci numbers, where n is input by the user."
   ]
  },
  {
   "cell_type": "code",
   "execution_count": 5,
   "metadata": {},
   "outputs": [
    {
     "name": "stdout",
     "output_type": "stream",
     "text": [
      "Positive\n"
     ]
    }
   ],
   "source": [
    "# Assignment 1\n",
    "\n",
    "num = int(input(\"Enter the num:\"))\n",
    "\n",
    "if num > 0:\n",
    "    print(\"Positive\")"
   ]
  },
  {
   "cell_type": "code",
   "execution_count": 6,
   "id": "d59312a0",
   "metadata": {},
   "outputs": [
    {
     "name": "stdout",
     "output_type": "stream",
     "text": [
      "Positive\n"
     ]
    }
   ],
   "source": [
    "# Assignment 2\n",
    "\n",
    "num = float(input(\"Enter the num:\"))\n",
    "\n",
    "if num > 0:\n",
    "    print(\"Positive\")\n",
    "else:\n",
    "    print(\"Nagitive\")"
   ]
  },
  {
   "cell_type": "code",
   "execution_count": 7,
   "id": "93881460",
   "metadata": {},
   "outputs": [
    {
     "name": "stdout",
     "output_type": "stream",
     "text": [
      "Nagitive\n"
     ]
    }
   ],
   "source": [
    "num = int(input(\"Enter the num:\"))\n",
    "\n",
    "if num > 0:\n",
    "    print(\"Positive\")\n",
    "else:\n",
    "    print(\"Nagitive\")"
   ]
  },
  {
   "cell_type": "code",
   "execution_count": 10,
   "id": "a7b3c33f",
   "metadata": {},
   "outputs": [
    {
     "name": "stdout",
     "output_type": "stream",
     "text": [
      "Nagitive\n"
     ]
    }
   ],
   "source": [
    "# Assignment 3\n",
    "\n",
    "num = int(input(\"Enter the number:\"))\n",
    "\n",
    "if num > 0:\n",
    "    print(\"Positive\")\n",
    "elif num < 0:\n",
    "    print(\"Nagitive\")\n",
    "else:\n",
    "    print(\"Nothing\")\n",
    "\n",
    "\n"
   ]
  },
  {
   "cell_type": "code",
   "execution_count": 23,
   "id": "a5cf87cc",
   "metadata": {},
   "outputs": [
    {
     "name": "stdout",
     "output_type": "stream",
     "text": [
      "Number is positive and even\n"
     ]
    }
   ],
   "source": [
    "# Assignment 4\n",
    "\n",
    "num = int(input(\"Enter the number:\"))\n",
    "\n",
    "if num > 0:\n",
    "    if num%2 == 0:\n",
    "        print(\"Number is positive and even\")\n",
    "    else:\n",
    "        print(\"number is positive and odd\")\n",
    "\n",
    "else:\n",
    "    print(\"number is nagitive\")"
   ]
  },
  {
   "cell_type": "markdown",
   "id": "47859d87",
   "metadata": {},
   "source": [
    "# Loops"
   ]
  },
  {
   "cell_type": "code",
   "execution_count": 29,
   "id": "e0e75928",
   "metadata": {},
   "outputs": [
    {
     "name": "stdout",
     "output_type": "stream",
     "text": [
      "1\n",
      "2\n",
      "3\n",
      "4\n",
      "5\n",
      "6\n",
      "7\n",
      "8\n",
      "9\n",
      "10\n"
     ]
    }
   ],
   "source": [
    "# Assignment 5\n",
    "for i in range(1, 11):\n",
    "    print(i)"
   ]
  },
  {
   "cell_type": "code",
   "execution_count": 30,
   "id": "d07e3e64",
   "metadata": {},
   "outputs": [
    {
     "name": "stdout",
     "output_type": "stream",
     "text": [
      "1\n",
      "2\n",
      "3\n",
      "4\n",
      "5\n",
      "6\n",
      "7\n",
      "8\n",
      "9\n",
      "10\n"
     ]
    }
   ],
   "source": [
    "# Assignment 6\n",
    "i = 1\n",
    "while i <= 10:\n",
    "    print(i)\n",
    "    i += 1"
   ]
  },
  {
   "cell_type": "code",
   "execution_count": 50,
   "id": "aa539e39",
   "metadata": {},
   "outputs": [
    {
     "name": "stdout",
     "output_type": "stream",
     "text": [
      "0 0 1 0 1 2 0 1 2 3 0 1 2 3 4 "
     ]
    }
   ],
   "source": [
    "# Assignment 7\n",
    "n = int(input(\"Enter the number:\"))\n",
    "for i in range(n):\n",
    "    for j in range(i):\n",
    "        print(j, end=\" \")"
   ]
  },
  {
   "cell_type": "code",
   "execution_count": 51,
   "id": "654b1ef1",
   "metadata": {},
   "outputs": [
    {
     "name": "stdout",
     "output_type": "stream",
     "text": [
      "* * * * * * * * * * * * * * * * * * * * * * * * * * * * * * * * * * * * * * * * * * * * * * * * * * "
     ]
    }
   ],
   "source": [
    "for i in range(10):\n",
    "    for j in range(5):\n",
    "        print(\"*\", end=\" \")"
   ]
  },
  {
   "cell_type": "code",
   "execution_count": 52,
   "id": "619ca38d",
   "metadata": {},
   "outputs": [
    {
     "name": "stdout",
     "output_type": "stream",
     "text": [
      "The sum of all the numbers is 27.6.\n"
     ]
    }
   ],
   "source": [
    "# Assignment 8\n",
    "total = 0\n",
    "while True:\n",
    "    number = float(input(\"Enter a number (0 to stop): \"))\n",
    "    if number == 0:\n",
    "        break\n",
    "    total += number\n",
    "print(f\"The sum of all the numbers is {total}.\")"
   ]
  },
  {
   "cell_type": "code",
   "execution_count": 57,
   "id": "37122a29",
   "metadata": {},
   "outputs": [
    {
     "name": "stdout",
     "output_type": "stream",
     "text": [
      "13.0\n"
     ]
    }
   ],
   "source": [
    "total = 0\n",
    "while True:\n",
    "    number = float(input(\"Enter the number:\"))\n",
    "    if number == 0:\n",
    "        break\n",
    "    total += number\n",
    "print(total)"
   ]
  },
  {
   "cell_type": "code",
   "execution_count": 71,
   "id": "4ad6b0d6",
   "metadata": {},
   "outputs": [
    {
     "name": "stdout",
     "output_type": "stream",
     "text": [
      "-13\n"
     ]
    }
   ],
   "source": [
    "n = 0\n",
    "while True:\n",
    "    num = int(input(\"Enter the number:\"))\n",
    "    if num == 0:\n",
    "        break\n",
    "    n -= num\n",
    "print(n)"
   ]
  },
  {
   "cell_type": "code",
   "execution_count": 74,
   "id": "a1d13766",
   "metadata": {},
   "outputs": [
    {
     "name": "stdout",
     "output_type": "stream",
     "text": [
      "1\n",
      "2\n",
      "3\n",
      "4\n",
      "6\n",
      "7\n",
      "8\n",
      "9\n",
      "10\n"
     ]
    }
   ],
   "source": [
    "# Assignment 9\n",
    "for i in range(1, 11):\n",
    "    if i == 5:\n",
    "        continue\n",
    "    print(i)\n"
   ]
  },
  {
   "cell_type": "code",
   "execution_count": 75,
   "id": "65b2eb5f",
   "metadata": {},
   "outputs": [
    {
     "name": "stdout",
     "output_type": "stream",
     "text": [
      "1\n",
      "2\n",
      "3\n",
      "4\n",
      "5\n"
     ]
    }
   ],
   "source": [
    "# Assignment 10\n",
    "for i in range(1, 6):\n",
    "    if i == 3:\n",
    "        pass\n",
    "    print(i)"
   ]
  },
  {
   "cell_type": "code",
   "execution_count": 77,
   "id": "ff8e2e7c",
   "metadata": {},
   "outputs": [
    {
     "name": "stdout",
     "output_type": "stream",
     "text": [
      "<function empty_funtion at 0x000001991C0976A0>\n"
     ]
    }
   ],
   "source": [
    "def empty_funtion():\n",
    "    pass\n",
    "print(empty_funtion)"
   ]
  },
  {
   "cell_type": "code",
   "execution_count": 83,
   "id": "80b41488",
   "metadata": {},
   "outputs": [
    {
     "name": "stdout",
     "output_type": "stream",
     "text": [
      "2\n",
      "4\n",
      "6\n",
      "8\n",
      "10\n",
      "12\n",
      "14\n",
      "16\n",
      "18\n",
      "20\n"
     ]
    }
   ],
   "source": [
    "# Assignment 11\n",
    "num = int(input(\"Enter the number:\"))\n",
    "for i in range(1, num + 1):\n",
    "    if i%2 == 0:\n",
    "        print(i)\n",
    "    "
   ]
  },
  {
   "cell_type": "code",
   "execution_count": 84,
   "id": "20f323dd",
   "metadata": {},
   "outputs": [
    {
     "name": "stdout",
     "output_type": "stream",
     "text": [
      "2\n",
      "4\n",
      "6\n",
      "8\n",
      "10\n"
     ]
    }
   ],
   "source": [
    "for i in range(1, 11): # Without input\n",
    "    if i%2 == 0:\n",
    "        print(i)"
   ]
  },
  {
   "cell_type": "code",
   "execution_count": 91,
   "id": "1e3a58b0",
   "metadata": {},
   "outputs": [
    {
     "name": "stdout",
     "output_type": "stream",
     "text": [
      "The factorial of 6 is 720.\n"
     ]
    }
   ],
   "source": [
    "# Assignment 12\n",
    "num = int(input(\"Enter the number:\"))\n",
    "factorial = 1\n",
    "i = 1\n",
    "while i <= num:\n",
    "    factorial *= i\n",
    "    i += 1\n",
    "print(f\"The factorial of {num} is {factorial}.\")"
   ]
  },
  {
   "cell_type": "code",
   "execution_count": 101,
   "id": "93e74005",
   "metadata": {},
   "outputs": [
    {
     "name": "stdout",
     "output_type": "stream",
     "text": [
      "the sum of digit is:7\n",
      "the sum of digit is:13\n"
     ]
    }
   ],
   "source": [
    "# Assignment 13\n",
    "num = int(input(\"Enter the number:\"))\n",
    "sum_of_digits = 0\n",
    "while num > 0:\n",
    "    digit = num % 10\n",
    "    sum_of_digits += digit\n",
    "    num = num // 10\n",
    "    print(f\"the sum of digit is:{sum_of_digits}\")"
   ]
  },
  {
   "cell_type": "code",
   "execution_count": 125,
   "id": "c38585a7",
   "metadata": {},
   "outputs": [
    {
     "name": "stdout",
     "output_type": "stream",
     "text": [
      "89 is a prime number.\n"
     ]
    }
   ],
   "source": [
    "number = int(input(\"Enter a number: \"))\n",
    "is_prime = True\n",
    "if number <= 1:\n",
    "    is_prime = False\n",
    "else:\n",
    "    for i in range(2, int(number ** 0.5) + 1):\n",
    "        if number % i == 0:\n",
    "            is_prime = False\n",
    "            break\n",
    "if is_prime:\n",
    "    print(f\"{number} is a prime number.\")\n",
    "else:\n",
    "    print(f\"{number} is not a prime number.\")"
   ]
  },
  {
   "cell_type": "code",
   "execution_count": 124,
   "id": "e0391296",
   "metadata": {},
   "outputs": [
    {
     "name": "stdout",
     "output_type": "stream",
     "text": [
      "89 is a prime number\n"
     ]
    }
   ],
   "source": [
    "num = int(input(\"Enter thr number:\"))\n",
    "\n",
    "if num > 0:\n",
    "        print(f\"{num} is a prime number\")\n",
    "else:\n",
    "    print(f\"{num} is not a prime number\")\n"
   ]
  },
  {
   "cell_type": "code",
   "execution_count": 126,
   "id": "83b80def",
   "metadata": {},
   "outputs": [
    {
     "name": "stdout",
     "output_type": "stream",
     "text": [
      "0\n",
      "1\n",
      "1\n",
      "2\n",
      "3\n",
      "5\n",
      "8\n",
      "13\n",
      "21\n",
      "34\n"
     ]
    }
   ],
   "source": [
    "# Assignment 15\n",
    "n = int(input(\"Enter the number of Fibonacci numbers to print: \"))\n",
    "a, b = 0, 1\n",
    "count = 0\n",
    "while count < n:\n",
    "    print(a)\n",
    "    a, b = b, a + b\n",
    "    count += 1"
   ]
  },
  {
   "cell_type": "code",
   "execution_count": null,
   "id": "80e83458",
   "metadata": {},
   "outputs": [],
   "source": []
  }
 ],
 "metadata": {
  "kernelspec": {
   "display_name": "base",
   "language": "python",
   "name": "python3"
  },
  "language_info": {
   "codemirror_mode": {
    "name": "ipython",
    "version": 3
   },
   "file_extension": ".py",
   "mimetype": "text/x-python",
   "name": "python",
   "nbconvert_exporter": "python",
   "pygments_lexer": "ipython3",
   "version": "3.12.7"
  }
 },
 "nbformat": 4,
 "nbformat_minor": 5
}
